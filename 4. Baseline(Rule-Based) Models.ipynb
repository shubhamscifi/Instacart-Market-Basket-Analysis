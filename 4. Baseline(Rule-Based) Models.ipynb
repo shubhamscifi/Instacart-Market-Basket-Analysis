{
  "nbformat": 4,
  "nbformat_minor": 0,
  "metadata": {
    "colab": {
      "name": "4. Baseline(rule based) Models.ipynb",
      "provenance": [],
      "toc_visible": true,
      "authorship_tag": "ABX9TyNTABqilm0gYXYYQxOCSEDG",
      "include_colab_link": true
    },
    "kernelspec": {
      "name": "python3",
      "display_name": "Python 3"
    },
    "language_info": {
      "name": "python"
    }
  },
  "cells": [
    {
      "cell_type": "markdown",
      "metadata": {
        "id": "view-in-github",
        "colab_type": "text"
      },
      "source": [
        "<a href=\"https://colab.research.google.com/github/shubhamscifi/Instacart-Market-Basket-Analysis/blob/main/4.%20Baseline(Rule-Based)%20Models.ipynb\" target=\"_parent\"><img src=\"https://colab.research.google.com/assets/colab-badge.svg\" alt=\"Open In Colab\"/></a>"
      ]
    },
    {
      "cell_type": "markdown",
      "metadata": {
        "id": "ddz-BwQy2-S-"
      },
      "source": [
        "# **[Instacart Market Basket Analysis](https://www.kaggle.com/c/instacart-market-basket-analysis/)**\n",
        "\n",
        "---\n",
        "- Given order_id predict all the products that the user will reorder.\n",
        "\n",
        "---\n",
        "\n",
        "\n",
        "\n",
        "\n",
        "\n",
        "\n"
      ]
    },
    {
      "cell_type": "markdown",
      "metadata": {
        "id": "g12i9UdRWOwy"
      },
      "source": [
        "## Importing libraries"
      ]
    },
    {
      "cell_type": "code",
      "metadata": {
        "id": "8xsk-yqDBXSA"
      },
      "source": [
        "import plotly\n",
        "import plotly.express as px\n",
        "import numpy as np\n",
        "from scipy import stats\n",
        "import pandas as pd\n",
        "import matplotlib.pyplot as plt\n",
        "import seaborn as sns\n",
        "sns.set()\n",
        "import re\n",
        "import gc   # garbage collector\n",
        "import pickle\n",
        "# https://pypi.org/project/tqdm/#:~:text=jupyter%20console.%20Use-,auto,-instead%20of%20autonotebook\n",
        "from tqdm.auto import tqdm\n",
        "import time\n",
        "from joblib import Parallel, delayed\n",
        "from sklearn.metrics import f1_score,confusion_matrix,\\\n",
        "                            precision_recall_fscore_support,classification_report,\\\n",
        "                            accuracy_score,log_loss\n",
        "from sklearn.model_selection import train_test_split\n",
        "\n",
        "bold = lambda string: '\\033[1m'+string+'\\033[0m'    # for bold text\n",
        "printb = lambda string: print('\\033[1m'+string+'\\033[0m')\n",
        "# https://stackoverflow.com/questions/8924173/how-do-i-print-bold-text-in-python/8930747"
      ],
      "execution_count": null,
      "outputs": []
    },
    {
      "cell_type": "markdown",
      "metadata": {
        "id": "bwp2y_BKLOcb"
      },
      "source": [
        "## Kaggle file uploader utility:\n",
        "- To upload intermediate tables."
      ]
    },
    {
      "cell_type": "code",
      "metadata": {
        "id": "MoX8a6WRLOcc"
      },
      "source": [
        "def kaggle_file_uploader(files,id='shubhamscifi/instacart',title='instacart',folder='data',msg='',first_time=False,del_after_upload=True):\n",
        "    '''Uploads list of files to kaggle.\n",
        "    Note: make sure to run after kaggle authentication.\n",
        "    id : must be between 6-50 chars after \"username/\".\n",
        "    title : must be between 6-50 chars.\n",
        "    files : list of path of files that are to be uploaded.\n",
        "    first_time: True if the data is being uploaded for the first time.\n",
        "    del_after_upload: True if given folder needs to be deleted after file upload finishes.'''\n",
        "    # https://github.com/Kaggle/kaggle-api\n",
        "\n",
        "    # create data package json file\n",
        "    !mkdir {folder}\n",
        "    !kaggle datasets init -p {folder}\n",
        "\n",
        "    # preparing metadata json file\n",
        "    import json,os\n",
        "    metadata = open(os.path.join(folder,'dataset-metadata.json'),'r+')\n",
        "    meta = json.load(metadata)\n",
        "    meta['id'] = id\n",
        "    meta['title']= title\n",
        "    metadata.seek(0)\n",
        "    json.dump(meta,metadata)\n",
        "    metadata.truncate()\n",
        "    metadata.close()\n",
        "\n",
        "    for file in set(files):\n",
        "        !cp {file} {folder}\n",
        "\n",
        "    # upload dataset to kaggle\n",
        "    if (first_time):\n",
        "        !kaggle datasets create -p {folder}\n",
        "    else:\n",
        "        # Create a New Dataset Version\n",
        "        !kaggle datasets version -p {folder} -m '{msg}'\n",
        "\n",
        "    if (del_after_upload):\n",
        "        !rm -rf {folder}"
      ],
      "execution_count": null,
      "outputs": []
    },
    {
      "cell_type": "markdown",
      "metadata": {
        "id": "x4xSz7nZ-Zsu"
      },
      "source": [
        "## Loading Data"
      ]
    },
    {
      "cell_type": "code",
      "metadata": {
        "colab": {
          "base_uri": "https://localhost:8080/"
        },
        "id": "I6NI3bdOT0-p",
        "outputId": "1be6a6f7-fdb9-45b6-c0d7-b7e6f4624346"
      },
      "source": [
        "# Kaggle authentication\n",
        "from getpass import getpass\n",
        "import os\n",
        "\n",
        "os.environ['KAGGLE_USERNAME'] = \"shubhamscifi\" #input('Enter kaggle username: ') # kaggle username\n",
        "os.environ['KAGGLE_KEY'] = getpass('Enter Token: ') # kaggle api key"
      ],
      "execution_count": null,
      "outputs": [
        {
          "output_type": "stream",
          "text": [
            "Enter Token: ··········\n"
          ],
          "name": "stdout"
        }
      ]
    },
    {
      "cell_type": "markdown",
      "metadata": {
        "id": "W-Ai4H5e2u6w"
      },
      "source": [
        "**Download intermediate prepared tables.**"
      ]
    },
    {
      "cell_type": "code",
      "metadata": {
        "colab": {
          "base_uri": "https://localhost:8080/"
        },
        "id": "e6zJQKy5twH9",
        "outputId": "7c7adea0-cb08-4f1e-b7f4-e29efbc5bb8f"
      },
      "source": [
        "!kaggle datasets download -d shubhamscifi/instacart --unzip"
      ],
      "execution_count": null,
      "outputs": [
        {
          "output_type": "stream",
          "text": [
            "Downloading instacart.zip to /content\n",
            " 99% 1.46G/1.47G [00:13<00:00, 189MB/s]\n",
            "100% 1.47G/1.47G [00:13<00:00, 113MB/s]\n"
          ],
          "name": "stdout"
        }
      ]
    },
    {
      "cell_type": "code",
      "metadata": {
        "colab": {
          "base_uri": "https://localhost:8080/"
        },
        "id": "6MRBg0fBe6mK",
        "outputId": "6e521a14-28af-4da5-9bbf-21d4a79fde7d"
      },
      "source": [
        "%%time\n",
        "dataset = pd.read_feather('dataset.feather')"
      ],
      "execution_count": null,
      "outputs": [
        {
          "output_type": "stream",
          "text": [
            "CPU times: user 2.92 s, sys: 19.8 s, total: 22.7 s\n",
            "Wall time: 1.35 s\n"
          ],
          "name": "stdout"
        }
      ]
    },
    {
      "cell_type": "code",
      "metadata": {
        "id": "w7n_Mhwm3DUa"
      },
      "source": [
        "# loading data into pandas dataframe\n",
        "orders = pd.read_csv('/content/orders.csv',dtype={'order_id':np.uint32,\n",
        "                                                  'user_id' :np.uint32,\n",
        "                                                  'order_number':'uint8',\n",
        "                                                  'order_hour_of_day':'uint8',\n",
        "                                                  'order_dow':'uint8',\n",
        "                                                  'days_since_prior_order':'float16'})\n",
        "dep = pd.read_csv('/content/departments.csv', dtype={'department_id':'uint8',\n",
        "                                                     'department': str})\n",
        "aisles = pd.read_csv('/content/aisles.csv', dtype={'aisle_id':'uint8',\n",
        "                                                     'aisle': str})\n",
        "products = pd.read_csv('/content/products.csv', dtype={'aisle_id':'uint8',\n",
        "                                                     'department_id':'uint8',\n",
        "                                                     'product_name': str,\n",
        "                                                     'product_id': np.uint16})\n",
        "order_products_prior = pd.read_csv('/content/order_products__prior.csv',\n",
        "                                   dtype={'add_to_cart_order':'uint8',\n",
        "                                          'reordered':'uint8',\n",
        "                                          'order_id':np.uint32,\n",
        "                                          'product_id':np.uint16})\n",
        "order_products_train = pd.read_csv('/content/order_products__train.csv',\n",
        "                                   dtype={'add_to_cart_order':'uint8',\n",
        "                                          'reordered':'uint8',\n",
        "                                          'order_id':np.uint32,\n",
        "                                          'product_id':np.uint16})"
      ],
      "execution_count": null,
      "outputs": []
    },
    {
      "cell_type": "markdown",
      "metadata": {
        "id": "sB0EVfxLKo51"
      },
      "source": [
        "## Merging Tables."
      ]
    },
    {
      "cell_type": "code",
      "metadata": {
        "colab": {
          "base_uri": "https://localhost:8080/",
          "height": 439
        },
        "id": "TK6orlOPFxAG",
        "outputId": "e1c317cf-ff8b-4a52-cb92-a6477fdf8918"
      },
      "source": [
        "# Merging relational tables\n",
        "# joining orders and order_products_prior table to get whole prior data table.\n",
        "prior_data = orders.merge(order_products_prior, how='inner', on='order_id')\n",
        "\n",
        "# sorting prior_data to get a more structured data so that we can analyse well.\n",
        "prior_data.sort_values(['user_id','order_number','add_to_cart_order'],inplace=True, axis='index',\\\n",
        "                 ignore_index=True)\n",
        "prior_data"
      ],
      "execution_count": null,
      "outputs": [
        {
          "output_type": "execute_result",
          "data": {
            "text/html": [
              "<div>\n",
              "<style scoped>\n",
              "    .dataframe tbody tr th:only-of-type {\n",
              "        vertical-align: middle;\n",
              "    }\n",
              "\n",
              "    .dataframe tbody tr th {\n",
              "        vertical-align: top;\n",
              "    }\n",
              "\n",
              "    .dataframe thead th {\n",
              "        text-align: right;\n",
              "    }\n",
              "</style>\n",
              "<table border=\"1\" class=\"dataframe\">\n",
              "  <thead>\n",
              "    <tr style=\"text-align: right;\">\n",
              "      <th></th>\n",
              "      <th>order_id</th>\n",
              "      <th>user_id</th>\n",
              "      <th>eval_set</th>\n",
              "      <th>order_number</th>\n",
              "      <th>order_dow</th>\n",
              "      <th>order_hour_of_day</th>\n",
              "      <th>days_since_prior_order</th>\n",
              "      <th>product_id</th>\n",
              "      <th>add_to_cart_order</th>\n",
              "      <th>reordered</th>\n",
              "    </tr>\n",
              "  </thead>\n",
              "  <tbody>\n",
              "    <tr>\n",
              "      <th>0</th>\n",
              "      <td>2539329</td>\n",
              "      <td>1</td>\n",
              "      <td>prior</td>\n",
              "      <td>1</td>\n",
              "      <td>2</td>\n",
              "      <td>8</td>\n",
              "      <td>NaN</td>\n",
              "      <td>196</td>\n",
              "      <td>1</td>\n",
              "      <td>0</td>\n",
              "    </tr>\n",
              "    <tr>\n",
              "      <th>1</th>\n",
              "      <td>2539329</td>\n",
              "      <td>1</td>\n",
              "      <td>prior</td>\n",
              "      <td>1</td>\n",
              "      <td>2</td>\n",
              "      <td>8</td>\n",
              "      <td>NaN</td>\n",
              "      <td>14084</td>\n",
              "      <td>2</td>\n",
              "      <td>0</td>\n",
              "    </tr>\n",
              "    <tr>\n",
              "      <th>2</th>\n",
              "      <td>2539329</td>\n",
              "      <td>1</td>\n",
              "      <td>prior</td>\n",
              "      <td>1</td>\n",
              "      <td>2</td>\n",
              "      <td>8</td>\n",
              "      <td>NaN</td>\n",
              "      <td>12427</td>\n",
              "      <td>3</td>\n",
              "      <td>0</td>\n",
              "    </tr>\n",
              "    <tr>\n",
              "      <th>3</th>\n",
              "      <td>2539329</td>\n",
              "      <td>1</td>\n",
              "      <td>prior</td>\n",
              "      <td>1</td>\n",
              "      <td>2</td>\n",
              "      <td>8</td>\n",
              "      <td>NaN</td>\n",
              "      <td>26088</td>\n",
              "      <td>4</td>\n",
              "      <td>0</td>\n",
              "    </tr>\n",
              "    <tr>\n",
              "      <th>4</th>\n",
              "      <td>2539329</td>\n",
              "      <td>1</td>\n",
              "      <td>prior</td>\n",
              "      <td>1</td>\n",
              "      <td>2</td>\n",
              "      <td>8</td>\n",
              "      <td>NaN</td>\n",
              "      <td>26405</td>\n",
              "      <td>5</td>\n",
              "      <td>0</td>\n",
              "    </tr>\n",
              "    <tr>\n",
              "      <th>...</th>\n",
              "      <td>...</td>\n",
              "      <td>...</td>\n",
              "      <td>...</td>\n",
              "      <td>...</td>\n",
              "      <td>...</td>\n",
              "      <td>...</td>\n",
              "      <td>...</td>\n",
              "      <td>...</td>\n",
              "      <td>...</td>\n",
              "      <td>...</td>\n",
              "    </tr>\n",
              "    <tr>\n",
              "      <th>32434484</th>\n",
              "      <td>2977660</td>\n",
              "      <td>206209</td>\n",
              "      <td>prior</td>\n",
              "      <td>13</td>\n",
              "      <td>1</td>\n",
              "      <td>12</td>\n",
              "      <td>7.0</td>\n",
              "      <td>14197</td>\n",
              "      <td>5</td>\n",
              "      <td>1</td>\n",
              "    </tr>\n",
              "    <tr>\n",
              "      <th>32434485</th>\n",
              "      <td>2977660</td>\n",
              "      <td>206209</td>\n",
              "      <td>prior</td>\n",
              "      <td>13</td>\n",
              "      <td>1</td>\n",
              "      <td>12</td>\n",
              "      <td>7.0</td>\n",
              "      <td>38730</td>\n",
              "      <td>6</td>\n",
              "      <td>0</td>\n",
              "    </tr>\n",
              "    <tr>\n",
              "      <th>32434486</th>\n",
              "      <td>2977660</td>\n",
              "      <td>206209</td>\n",
              "      <td>prior</td>\n",
              "      <td>13</td>\n",
              "      <td>1</td>\n",
              "      <td>12</td>\n",
              "      <td>7.0</td>\n",
              "      <td>31477</td>\n",
              "      <td>7</td>\n",
              "      <td>0</td>\n",
              "    </tr>\n",
              "    <tr>\n",
              "      <th>32434487</th>\n",
              "      <td>2977660</td>\n",
              "      <td>206209</td>\n",
              "      <td>prior</td>\n",
              "      <td>13</td>\n",
              "      <td>1</td>\n",
              "      <td>12</td>\n",
              "      <td>7.0</td>\n",
              "      <td>6567</td>\n",
              "      <td>8</td>\n",
              "      <td>0</td>\n",
              "    </tr>\n",
              "    <tr>\n",
              "      <th>32434488</th>\n",
              "      <td>2977660</td>\n",
              "      <td>206209</td>\n",
              "      <td>prior</td>\n",
              "      <td>13</td>\n",
              "      <td>1</td>\n",
              "      <td>12</td>\n",
              "      <td>7.0</td>\n",
              "      <td>22920</td>\n",
              "      <td>9</td>\n",
              "      <td>0</td>\n",
              "    </tr>\n",
              "  </tbody>\n",
              "</table>\n",
              "<p>32434489 rows × 10 columns</p>\n",
              "</div>"
            ],
            "text/plain": [
              "          order_id  user_id eval_set  ...  product_id  add_to_cart_order  reordered\n",
              "0          2539329        1    prior  ...         196                  1          0\n",
              "1          2539329        1    prior  ...       14084                  2          0\n",
              "2          2539329        1    prior  ...       12427                  3          0\n",
              "3          2539329        1    prior  ...       26088                  4          0\n",
              "4          2539329        1    prior  ...       26405                  5          0\n",
              "...            ...      ...      ...  ...         ...                ...        ...\n",
              "32434484   2977660   206209    prior  ...       14197                  5          1\n",
              "32434485   2977660   206209    prior  ...       38730                  6          0\n",
              "32434486   2977660   206209    prior  ...       31477                  7          0\n",
              "32434487   2977660   206209    prior  ...        6567                  8          0\n",
              "32434488   2977660   206209    prior  ...       22920                  9          0\n",
              "\n",
              "[32434489 rows x 10 columns]"
            ]
          },
          "metadata": {
            "tags": []
          },
          "execution_count": 35
        }
      ]
    },
    {
      "cell_type": "code",
      "metadata": {
        "colab": {
          "base_uri": "https://localhost:8080/",
          "height": 419
        },
        "id": "zJYiHOhq_VMl",
        "outputId": "54c44fcb-82c4-4e75-d865-c509308e3c17"
      },
      "source": [
        "prod_info = products.merge(dep,on='department_id').merge(aisles,on='aisle_id')\n",
        "prod_info"
      ],
      "execution_count": null,
      "outputs": [
        {
          "output_type": "execute_result",
          "data": {
            "text/html": [
              "<div>\n",
              "<style scoped>\n",
              "    .dataframe tbody tr th:only-of-type {\n",
              "        vertical-align: middle;\n",
              "    }\n",
              "\n",
              "    .dataframe tbody tr th {\n",
              "        vertical-align: top;\n",
              "    }\n",
              "\n",
              "    .dataframe thead th {\n",
              "        text-align: right;\n",
              "    }\n",
              "</style>\n",
              "<table border=\"1\" class=\"dataframe\">\n",
              "  <thead>\n",
              "    <tr style=\"text-align: right;\">\n",
              "      <th></th>\n",
              "      <th>product_id</th>\n",
              "      <th>product_name</th>\n",
              "      <th>aisle_id</th>\n",
              "      <th>department_id</th>\n",
              "      <th>department</th>\n",
              "      <th>aisle</th>\n",
              "    </tr>\n",
              "  </thead>\n",
              "  <tbody>\n",
              "    <tr>\n",
              "      <th>0</th>\n",
              "      <td>1</td>\n",
              "      <td>Chocolate Sandwich Cookies</td>\n",
              "      <td>61</td>\n",
              "      <td>19</td>\n",
              "      <td>snacks</td>\n",
              "      <td>cookies cakes</td>\n",
              "    </tr>\n",
              "    <tr>\n",
              "      <th>1</th>\n",
              "      <td>78</td>\n",
              "      <td>Nutter Butter Cookie Bites Go-Pak</td>\n",
              "      <td>61</td>\n",
              "      <td>19</td>\n",
              "      <td>snacks</td>\n",
              "      <td>cookies cakes</td>\n",
              "    </tr>\n",
              "    <tr>\n",
              "      <th>2</th>\n",
              "      <td>102</td>\n",
              "      <td>Danish Butter Cookies</td>\n",
              "      <td>61</td>\n",
              "      <td>19</td>\n",
              "      <td>snacks</td>\n",
              "      <td>cookies cakes</td>\n",
              "    </tr>\n",
              "    <tr>\n",
              "      <th>3</th>\n",
              "      <td>172</td>\n",
              "      <td>Gluten Free All Natural Chocolate Chip Cookies</td>\n",
              "      <td>61</td>\n",
              "      <td>19</td>\n",
              "      <td>snacks</td>\n",
              "      <td>cookies cakes</td>\n",
              "    </tr>\n",
              "    <tr>\n",
              "      <th>4</th>\n",
              "      <td>285</td>\n",
              "      <td>Mini Nilla Wafers Munch Pack</td>\n",
              "      <td>61</td>\n",
              "      <td>19</td>\n",
              "      <td>snacks</td>\n",
              "      <td>cookies cakes</td>\n",
              "    </tr>\n",
              "    <tr>\n",
              "      <th>...</th>\n",
              "      <td>...</td>\n",
              "      <td>...</td>\n",
              "      <td>...</td>\n",
              "      <td>...</td>\n",
              "      <td>...</td>\n",
              "      <td>...</td>\n",
              "    </tr>\n",
              "    <tr>\n",
              "      <th>49683</th>\n",
              "      <td>22827</td>\n",
              "      <td>Organic Black Mission Figs</td>\n",
              "      <td>18</td>\n",
              "      <td>10</td>\n",
              "      <td>bulk</td>\n",
              "      <td>bulk dried fruits vegetables</td>\n",
              "    </tr>\n",
              "    <tr>\n",
              "      <th>49684</th>\n",
              "      <td>28655</td>\n",
              "      <td>Crystallized Ginger Chunks</td>\n",
              "      <td>18</td>\n",
              "      <td>10</td>\n",
              "      <td>bulk</td>\n",
              "      <td>bulk dried fruits vegetables</td>\n",
              "    </tr>\n",
              "    <tr>\n",
              "      <th>49685</th>\n",
              "      <td>30365</td>\n",
              "      <td>Vegetable Chips</td>\n",
              "      <td>18</td>\n",
              "      <td>10</td>\n",
              "      <td>bulk</td>\n",
              "      <td>bulk dried fruits vegetables</td>\n",
              "    </tr>\n",
              "    <tr>\n",
              "      <th>49686</th>\n",
              "      <td>38007</td>\n",
              "      <td>Naturally Sweet Plantain Chips</td>\n",
              "      <td>18</td>\n",
              "      <td>10</td>\n",
              "      <td>bulk</td>\n",
              "      <td>bulk dried fruits vegetables</td>\n",
              "    </tr>\n",
              "    <tr>\n",
              "      <th>49687</th>\n",
              "      <td>48778</td>\n",
              "      <td>Fit Super A Juice, Cold Pressed, Carrot/Apple/...</td>\n",
              "      <td>18</td>\n",
              "      <td>10</td>\n",
              "      <td>bulk</td>\n",
              "      <td>bulk dried fruits vegetables</td>\n",
              "    </tr>\n",
              "  </tbody>\n",
              "</table>\n",
              "<p>49688 rows × 6 columns</p>\n",
              "</div>"
            ],
            "text/plain": [
              "       product_id  ...                         aisle\n",
              "0               1  ...                 cookies cakes\n",
              "1              78  ...                 cookies cakes\n",
              "2             102  ...                 cookies cakes\n",
              "3             172  ...                 cookies cakes\n",
              "4             285  ...                 cookies cakes\n",
              "...           ...  ...                           ...\n",
              "49683       22827  ...  bulk dried fruits vegetables\n",
              "49684       28655  ...  bulk dried fruits vegetables\n",
              "49685       30365  ...  bulk dried fruits vegetables\n",
              "49686       38007  ...  bulk dried fruits vegetables\n",
              "49687       48778  ...  bulk dried fruits vegetables\n",
              "\n",
              "[49688 rows x 6 columns]"
            ]
          },
          "metadata": {
            "tags": []
          },
          "execution_count": 9
        }
      ]
    },
    {
      "cell_type": "markdown",
      "metadata": {
        "id": "QsJc8SvEY3pM"
      },
      "source": [
        "\n",
        "\n",
        "---\n",
        "\n"
      ]
    },
    {
      "cell_type": "markdown",
      "metadata": {
        "id": "hHuUeYjmGMFT"
      },
      "source": [
        "## Baseline(non-ML) Models:\n"
      ]
    },
    {
      "cell_type": "markdown",
      "metadata": {
        "id": "CS3sjbnj6LPy"
      },
      "source": [
        "### Utitlity Funcitons:"
      ]
    },
    {
      "cell_type": "markdown",
      "metadata": {
        "id": "i0yo96SyF9Al"
      },
      "source": [
        "**Submission Function for test data:**"
      ]
    },
    {
      "cell_type": "code",
      "metadata": {
        "id": "gW39KvCvPqM4"
      },
      "source": [
        "def get_reordered_prod_string(df,target='reordered'):\n",
        "    '''Returns string: space delimited product_ids of reordered products.'''\n",
        "    reordered_prod_list = ' '.join(list(map(str,df.loc[df[target]==1,'product_id'])))\n",
        "    if len(reordered_prod_list)!=0:\n",
        "        return reordered_prod_list\n",
        "    else:   # if no reordered products\n",
        "        return 'None'\n",
        "\n",
        "def submission(prediction,target='reordered',msg='',sub_file_name='submission.csv'):\n",
        "    '''Submits the prediction and prints the result.'''\n",
        "\n",
        "    # creating submission dataframe as mentioned here\n",
        "    # https://www.kaggle.com/c/instacart-market-basket-analysis/overview/evaluation\n",
        "    sub = prediction[['order_id','product_id','reordered',target]].groupby(['order_id'])\\\n",
        "                    .apply(lambda df: get_reordered_prod_string(df,target))\\\n",
        "                    .reset_index()\n",
        "\n",
        "    sub.columns = ['order_id','products']\n",
        "    sub.to_csv(sub_file_name,index=False)\n",
        "\n",
        "    # Submit a competition\n",
        "    # https://github.com/Kaggle/kaggle-api#submit-to-a-competition\n",
        "    !kaggle competitions submit instacart-market-basket-analysis -f {sub_file_name} -m '{msg}'\n",
        "\n",
        "    time.sleep(2)\n",
        "    \n",
        "    # List my competition submissions\n",
        "    # https://github.com/Kaggle/kaggle-api#list-competition-submissions\n",
        "    result = !kaggle competitions submissions instacart-market-basket-analysis\n",
        "    result[3] = \"\\033[1;31;47m\"+result[3]+\"\\033[0m\" # changing string color & background. https://ozzmaker.com/add-colour-to-text-in-python/\n",
        "    print('\\n'.join(result[:-37]))"
      ],
      "execution_count": null,
      "outputs": []
    },
    {
      "cell_type": "markdown",
      "metadata": {
        "id": "I5uw7peQLM1f"
      },
      "source": [
        "**F1-score calculation function for train and CV datasets:**"
      ]
    },
    {
      "cell_type": "code",
      "metadata": {
        "id": "AyH5blQYBQQ_"
      },
      "source": [
        "def f_score_helper(df,target):\n",
        "    '''\n",
        "    Returns pd.Series of f1-score, precision and recall for given order_id.\n",
        "    '''\n",
        "    TP = df['reordered'] @ df[target] # true positive(numerator)\n",
        "    den_pr = df[target].sum() # denominator for precision\n",
        "    den_re = df['reordered'].sum()  # denominator for recall\n",
        "    if (den_pr==0 and den_re==0):\n",
        "        # if both the actual and prediction is None.\n",
        "        TP+=1\n",
        "    if den_pr==0:\n",
        "        # if prediction is None.\n",
        "        den_pr+=1\n",
        "    if den_re==0:\n",
        "        # if actual is None.\n",
        "        den_re+=1\n",
        "    \n",
        "    return pd.Series({'f_score':2*TP/(den_re+den_pr),\n",
        "                      'precision' :TP/(den_pr),\n",
        "                      'recall': TP/(den_re)})\n",
        "\n",
        "def f_score(dataset,target='reordered',pr_re=False):\n",
        "    '''\n",
        "    Returns Samples F1-score.\n",
        "\n",
        "    pr_re : if True return (f-score, precision & recall) otherwise only f-score.\n",
        "    '''\n",
        "    # dataframe to contain contribution of each order_id to precision and recall.\n",
        "    f_score,pr,re = dataset[['order_id','reordered',target]]\\\n",
        "                    .groupby('order_id')\\\n",
        "                    .apply(f_score_helper,target)\\\n",
        "                    .mean()\n",
        "    \n",
        "    if (pr_re==True):\n",
        "        return f_score,pr,re\n",
        "    return f_score"
      ],
      "execution_count": null,
      "outputs": []
    },
    {
      "cell_type": "markdown",
      "metadata": {
        "id": "9LwAj95YuEy8"
      },
      "source": [
        "### 1.Dumb Model:\n",
        "- This model predicts all prior purchased products of a user as reorder. This will have full recall but less precision."
      ]
    },
    {
      "cell_type": "code",
      "metadata": {
        "id": "FWCE6YApmPSK"
      },
      "source": [
        "dataset['all_one_pred'] = 1"
      ],
      "execution_count": null,
      "outputs": []
    },
    {
      "cell_type": "code",
      "metadata": {
        "colab": {
          "base_uri": "https://localhost:8080/"
        },
        "id": "mIH3jTVyLWWF",
        "outputId": "5700ce50-47a1-4260-b780-be42486958e7"
      },
      "source": [
        "f,pr,re = f_score(dataset[dataset.eval_set=='train'],'all_one_pred',True)\n",
        "printb('\\tTrain')\n",
        "print('------------------------------')\n",
        "print('Precision:',pr)\n",
        "print('Recall   :',re)\n",
        "print('F1-score :',f)"
      ],
      "execution_count": null,
      "outputs": [
        {
          "output_type": "stream",
          "text": [
            "\u001b[1m\tTrain\u001b[0m\n",
            "------------------------------\n",
            "Precision: 0.13203255435741582\n",
            "Recall   : 0.934520828343096\n",
            "F1-score : 0.21561404547484328\n"
          ],
          "name": "stdout"
        }
      ]
    },
    {
      "cell_type": "code",
      "metadata": {
        "colab": {
          "base_uri": "https://localhost:8080/"
        },
        "id": "tFaNlHUcM9ja",
        "outputId": "9df0dae2-46e9-47fd-83b7-df0338914c56"
      },
      "source": [
        "f,pr,re = f_score(dataset[dataset.eval_set=='cv'],'all_one_pred',True)\n",
        "printb('\\tCV')\n",
        "print('------------------------------')\n",
        "print('Precision:',pr)\n",
        "print('Recall   :',re)\n",
        "print('F1-score :',f)"
      ],
      "execution_count": null,
      "outputs": [
        {
          "output_type": "stream",
          "text": [
            "\u001b[1m\tCV\u001b[0m\n",
            "------------------------------\n",
            "Precision: 0.13150145762540513\n",
            "Recall   : 0.9342529786855677\n",
            "F1-score : 0.21490249759132454\n"
          ],
          "name": "stdout"
        }
      ]
    },
    {
      "cell_type": "code",
      "metadata": {
        "colab": {
          "base_uri": "https://localhost:8080/"
        },
        "id": "2w_JUGz6RleM",
        "outputId": "9a6a9f1f-8b01-46f0-d935-5ea14b837271"
      },
      "source": [
        "# for test datapoints prediction.\n",
        "submission(dataset[dataset.eval_set=='test'],\n",
        "           target='all_one_pred',\n",
        "           msg='Dumb Baseline Model',\n",
        "           sub_file_name='all_prior_prod.csv')"
      ],
      "execution_count": null,
      "outputs": [
        {
          "output_type": "stream",
          "text": [
            "Warning: Looks like you're using an outdated API Version, please consider updating (server 1.5.12 / client 1.5.4)\n",
            "fileName                    date                 description                                     status    publicScore  privateScore  \n",
            "--------------------------  -------------------  ----------------------------------------------  --------  -----------  ------------  \n",
            "\u001b[1;31;47mall_prior_prod.csv          2021-07-01 15:37:03  Dumb Baseline Model                             complete  0.21648      0.21527       \u001b[0m\n"
          ],
          "name": "stdout"
        }
      ]
    },
    {
      "cell_type": "code",
      "metadata": {
        "id": "baSRlobcN27a"
      },
      "source": [
        "del dataset['all_one_pred']"
      ],
      "execution_count": null,
      "outputs": []
    },
    {
      "cell_type": "markdown",
      "metadata": {
        "id": "RH0fcGxlc2mH"
      },
      "source": [
        "Data | F1-score\n",
        "--- | ---\n",
        "Train | 0.2156\n",
        "CV | 0.2149\n",
        "Test | 0.2153\n",
        "\n",
        "**Any sensible ML model must give test f1-score of more than 0.2153.**"
      ]
    },
    {
      "cell_type": "markdown",
      "metadata": {
        "id": "AQJljfms0kD_"
      },
      "source": [
        "### 2.Predict random k prior purchased products as reorder.\n",
        "k = avg no. of reorders over all orders."
      ]
    },
    {
      "cell_type": "code",
      "metadata": {
        "colab": {
          "base_uri": "https://localhost:8080/"
        },
        "id": "igByyn29Knkp",
        "outputId": "53eb069c-e3c3-4b95-a908-a9dacc493cbb"
      },
      "source": [
        "print('Avg no. of products purchased in an order:')\n",
        "prior_data[prior_data.order_number!=1].groupby('order_id')['reordered'].sum().mean()"
      ],
      "execution_count": null,
      "outputs": [
        {
          "output_type": "stream",
          "text": [
            "Avg no. of products purchased in an order:\n"
          ],
          "name": "stdout"
        },
        {
          "output_type": "execute_result",
          "data": {
            "text/plain": [
              "6.357150430506554"
            ]
          },
          "metadata": {
            "tags": []
          },
          "execution_count": 82
        }
      ]
    },
    {
      "cell_type": "code",
      "metadata": {
        "colab": {
          "base_uri": "https://localhost:8080/"
        },
        "id": "MTbKnsZBNtdS",
        "outputId": "7fee6afc-b254-44fb-fb1a-f201e07d8753"
      },
      "source": [
        "print('Median no. of products purchased in an order:')\n",
        "prior_data[prior_data.order_number!=1].groupby('order_id')['reordered'].sum().median()"
      ],
      "execution_count": null,
      "outputs": [
        {
          "output_type": "stream",
          "text": [
            "Median no. of products purchased in an order:\n"
          ],
          "name": "stdout"
        },
        {
          "output_type": "execute_result",
          "data": {
            "text/plain": [
              "5.0"
            ]
          },
          "metadata": {
            "tags": []
          },
          "execution_count": 83
        }
      ]
    },
    {
      "cell_type": "markdown",
      "metadata": {
        "id": "DVJN8aX23ECp"
      },
      "source": [
        "An order has almost **6** reordered products on average."
      ]
    },
    {
      "cell_type": "code",
      "metadata": {
        "id": "tFi7BryMfUu5"
      },
      "source": [
        "avg = 6"
      ],
      "execution_count": null,
      "outputs": []
    },
    {
      "cell_type": "code",
      "metadata": {
        "colab": {
          "base_uri": "https://localhost:8080/",
          "height": 142
        },
        "id": "KnrlOAOTdC11",
        "outputId": "322b5473-b544-4851-9e42-4d42c3495195"
      },
      "source": [
        "def get_products_dataframe(prod,avg):\n",
        "    '''Returns DataFrame: random avg no. of product_ids as prediction.'''\n",
        "    prod = np.random.choice(prod,\n",
        "                            size=min(len(prod),avg),\n",
        "                            replace=False)\n",
        "    return pd.DataFrame(data={'product_id':prod})\n",
        "\n",
        "prediction = dataset.groupby('user_id')['product_id']\\\n",
        "                    .apply(lambda prod: get_products_dataframe(prod,avg))\n",
        "prediction = prediction.droplevel(level=1)\n",
        "prediction = prediction.reset_index()\n",
        "prediction['prediction'] = 1\n",
        "prediction.head(3)"
      ],
      "execution_count": null,
      "outputs": [
        {
          "output_type": "execute_result",
          "data": {
            "text/html": [
              "<div>\n",
              "<style scoped>\n",
              "    .dataframe tbody tr th:only-of-type {\n",
              "        vertical-align: middle;\n",
              "    }\n",
              "\n",
              "    .dataframe tbody tr th {\n",
              "        vertical-align: top;\n",
              "    }\n",
              "\n",
              "    .dataframe thead th {\n",
              "        text-align: right;\n",
              "    }\n",
              "</style>\n",
              "<table border=\"1\" class=\"dataframe\">\n",
              "  <thead>\n",
              "    <tr style=\"text-align: right;\">\n",
              "      <th></th>\n",
              "      <th>user_id</th>\n",
              "      <th>product_id</th>\n",
              "      <th>prediction</th>\n",
              "    </tr>\n",
              "  </thead>\n",
              "  <tbody>\n",
              "    <tr>\n",
              "      <th>0</th>\n",
              "      <td>1</td>\n",
              "      <td>35951</td>\n",
              "      <td>1</td>\n",
              "    </tr>\n",
              "    <tr>\n",
              "      <th>1</th>\n",
              "      <td>1</td>\n",
              "      <td>26088</td>\n",
              "      <td>1</td>\n",
              "    </tr>\n",
              "    <tr>\n",
              "      <th>2</th>\n",
              "      <td>1</td>\n",
              "      <td>41787</td>\n",
              "      <td>1</td>\n",
              "    </tr>\n",
              "  </tbody>\n",
              "</table>\n",
              "</div>"
            ],
            "text/plain": [
              "   user_id  product_id  prediction\n",
              "0        1       35951           1\n",
              "1        1       26088           1\n",
              "2        1       41787           1"
            ]
          },
          "metadata": {
            "tags": []
          },
          "execution_count": 86
        }
      ]
    },
    {
      "cell_type": "code",
      "metadata": {
        "colab": {
          "base_uri": "https://localhost:8080/",
          "height": 162
        },
        "id": "msvQenNSldVS",
        "outputId": "619fbfbf-91c3-4fc5-f437-813aa122b308"
      },
      "source": [
        "dataset = dataset.merge(prediction,on=['user_id','product_id'],how='left')\n",
        "dataset['prediction'] = dataset['prediction'].fillna(0)\n",
        "dataset.head(3)"
      ],
      "execution_count": null,
      "outputs": [
        {
          "output_type": "execute_result",
          "data": {
            "text/html": [
              "<div>\n",
              "<style scoped>\n",
              "    .dataframe tbody tr th:only-of-type {\n",
              "        vertical-align: middle;\n",
              "    }\n",
              "\n",
              "    .dataframe tbody tr th {\n",
              "        vertical-align: top;\n",
              "    }\n",
              "\n",
              "    .dataframe thead th {\n",
              "        text-align: right;\n",
              "    }\n",
              "</style>\n",
              "<table border=\"1\" class=\"dataframe\">\n",
              "  <thead>\n",
              "    <tr style=\"text-align: right;\">\n",
              "      <th></th>\n",
              "      <th>user_id</th>\n",
              "      <th>product_id</th>\n",
              "      <th>order_id</th>\n",
              "      <th>eval_set</th>\n",
              "      <th>reordered</th>\n",
              "      <th>#reorders_u</th>\n",
              "      <th>#purchases_u</th>\n",
              "      <th>#first_purchases_u</th>\n",
              "      <th>p(reorder|user)_u</th>\n",
              "      <th>mean_#reorders_u</th>\n",
              "      <th>median_#reorders_u</th>\n",
              "      <th>min_#reorders_u</th>\n",
              "      <th>max_#reorders_u</th>\n",
              "      <th>mean_#purchases_u</th>\n",
              "      <th>median_#purchases_u</th>\n",
              "      <th>min_#purchases_u</th>\n",
              "      <th>max_#purchases_u</th>\n",
              "      <th>mean_#first_purchases_u</th>\n",
              "      <th>median_#first_purchases_u</th>\n",
              "      <th>min_#first_purchases_u</th>\n",
              "      <th>max_#first_purchases_u</th>\n",
              "      <th>mean_p(reorder|user,order)_u</th>\n",
              "      <th>median_p(reorder|user,order)_u</th>\n",
              "      <th>min_p(reorder|user,order)_u</th>\n",
              "      <th>max_p(reorder|user,order)_u</th>\n",
              "      <th>dep_target_enc</th>\n",
              "      <th>aisle_target_enc</th>\n",
              "      <th>eatable</th>\n",
              "      <th>#avg_reorders_dep</th>\n",
              "      <th>p(reorder|dep_of_prod)</th>\n",
              "      <th>#avg_reorders_aisle</th>\n",
              "      <th>p(reorder|aisle_of_prod)</th>\n",
              "      <th>#reorders_p</th>\n",
              "      <th>#purchases_p</th>\n",
              "      <th>#first_purchases_p</th>\n",
              "      <th>p(reorder|product)_p</th>\n",
              "      <th>#reorders_up</th>\n",
              "      <th>p(reorder|user,product)_up</th>\n",
              "      <th>reordered_in_last_order</th>\n",
              "      <th>reordered_in_2ndlast_order</th>\n",
              "      <th>reordered_in_3rdlast_order</th>\n",
              "      <th>prediction</th>\n",
              "    </tr>\n",
              "  </thead>\n",
              "  <tbody>\n",
              "    <tr>\n",
              "      <th>0</th>\n",
              "      <td>2</td>\n",
              "      <td>13176</td>\n",
              "      <td>1492625</td>\n",
              "      <td>train</td>\n",
              "      <td>0.0</td>\n",
              "      <td>93.0</td>\n",
              "      <td>195</td>\n",
              "      <td>102.0</td>\n",
              "      <td>0.476923</td>\n",
              "      <td>7.153846</td>\n",
              "      <td>9.0</td>\n",
              "      <td>0</td>\n",
              "      <td>14</td>\n",
              "      <td>14.0</td>\n",
              "      <td>14.0</td>\n",
              "      <td>5</td>\n",
              "      <td>26</td>\n",
              "      <td>6.846154</td>\n",
              "      <td>7.0</td>\n",
              "      <td>1</td>\n",
              "      <td>12</td>\n",
              "      <td>0.482419</td>\n",
              "      <td>0.571429</td>\n",
              "      <td>0.0</td>\n",
              "      <td>0.888889</td>\n",
              "      <td>0.128464</td>\n",
              "      <td>0.169311</td>\n",
              "      <td>1</td>\n",
              "      <td>3658.378860</td>\n",
              "      <td>0.649913</td>\n",
              "      <td>6846.777487</td>\n",
              "      <td>0.718104</td>\n",
              "      <td>315913.0</td>\n",
              "      <td>379450.0</td>\n",
              "      <td>63537.0</td>\n",
              "      <td>0.832555</td>\n",
              "      <td>0</td>\n",
              "      <td>0.000000</td>\n",
              "      <td>0</td>\n",
              "      <td>0</td>\n",
              "      <td>0</td>\n",
              "      <td>0.0</td>\n",
              "    </tr>\n",
              "    <tr>\n",
              "      <th>1</th>\n",
              "      <td>2</td>\n",
              "      <td>41787</td>\n",
              "      <td>1492625</td>\n",
              "      <td>train</td>\n",
              "      <td>1.0</td>\n",
              "      <td>93.0</td>\n",
              "      <td>195</td>\n",
              "      <td>102.0</td>\n",
              "      <td>0.476923</td>\n",
              "      <td>7.153846</td>\n",
              "      <td>9.0</td>\n",
              "      <td>0</td>\n",
              "      <td>14</td>\n",
              "      <td>14.0</td>\n",
              "      <td>14.0</td>\n",
              "      <td>5</td>\n",
              "      <td>26</td>\n",
              "      <td>6.846154</td>\n",
              "      <td>7.0</td>\n",
              "      <td>1</td>\n",
              "      <td>12</td>\n",
              "      <td>0.482419</td>\n",
              "      <td>0.571429</td>\n",
              "      <td>0.0</td>\n",
              "      <td>0.888889</td>\n",
              "      <td>0.128464</td>\n",
              "      <td>0.169311</td>\n",
              "      <td>1</td>\n",
              "      <td>3658.378860</td>\n",
              "      <td>0.649913</td>\n",
              "      <td>6846.777487</td>\n",
              "      <td>0.718104</td>\n",
              "      <td>23015.0</td>\n",
              "      <td>35413.0</td>\n",
              "      <td>12398.0</td>\n",
              "      <td>0.649903</td>\n",
              "      <td>1</td>\n",
              "      <td>0.076923</td>\n",
              "      <td>0</td>\n",
              "      <td>0</td>\n",
              "      <td>0</td>\n",
              "      <td>1.0</td>\n",
              "    </tr>\n",
              "    <tr>\n",
              "      <th>2</th>\n",
              "      <td>2</td>\n",
              "      <td>32792</td>\n",
              "      <td>1492625</td>\n",
              "      <td>train</td>\n",
              "      <td>1.0</td>\n",
              "      <td>93.0</td>\n",
              "      <td>195</td>\n",
              "      <td>102.0</td>\n",
              "      <td>0.476923</td>\n",
              "      <td>7.153846</td>\n",
              "      <td>9.0</td>\n",
              "      <td>0</td>\n",
              "      <td>14</td>\n",
              "      <td>14.0</td>\n",
              "      <td>14.0</td>\n",
              "      <td>5</td>\n",
              "      <td>26</td>\n",
              "      <td>6.846154</td>\n",
              "      <td>7.0</td>\n",
              "      <td>1</td>\n",
              "      <td>12</td>\n",
              "      <td>0.482419</td>\n",
              "      <td>0.571429</td>\n",
              "      <td>0.0</td>\n",
              "      <td>0.888889</td>\n",
              "      <td>0.088779</td>\n",
              "      <td>0.098166</td>\n",
              "      <td>1</td>\n",
              "      <td>264.682791</td>\n",
              "      <td>0.574180</td>\n",
              "      <td>306.341772</td>\n",
              "      <td>0.591986</td>\n",
              "      <td>791.0</td>\n",
              "      <td>1370.0</td>\n",
              "      <td>579.0</td>\n",
              "      <td>0.577372</td>\n",
              "      <td>8</td>\n",
              "      <td>0.615385</td>\n",
              "      <td>0</td>\n",
              "      <td>0</td>\n",
              "      <td>1</td>\n",
              "      <td>0.0</td>\n",
              "    </tr>\n",
              "  </tbody>\n",
              "</table>\n",
              "</div>"
            ],
            "text/plain": [
              "   user_id  product_id  ...  reordered_in_3rdlast_order prediction\n",
              "0        2       13176  ...                           0        0.0\n",
              "1        2       41787  ...                           0        1.0\n",
              "2        2       32792  ...                           1        0.0\n",
              "\n",
              "[3 rows x 42 columns]"
            ]
          },
          "metadata": {
            "tags": []
          },
          "execution_count": 87
        }
      ]
    },
    {
      "cell_type": "code",
      "metadata": {
        "colab": {
          "base_uri": "https://localhost:8080/"
        },
        "id": "4rDUNU-BOGeW",
        "outputId": "d1d35894-cb05-462d-d2db-298bd8868e0a"
      },
      "source": [
        "f,pr,re = f_score(dataset[dataset.eval_set=='train'],'prediction',True)\n",
        "printb('\\tTrain')\n",
        "print('------------------------------')\n",
        "print('Precision:',pr)\n",
        "print('Recall   :',re)\n",
        "print('F1-score :',f)"
      ],
      "execution_count": null,
      "outputs": [
        {
          "output_type": "stream",
          "text": [
            "\u001b[1m\tTrain\u001b[0m\n",
            "------------------------------\n",
            "Precision: 0.1315992712438728\n",
            "Recall   : 0.17775653719766146\n",
            "F1-score : 0.12954642884935152\n"
          ],
          "name": "stdout"
        }
      ]
    },
    {
      "cell_type": "code",
      "metadata": {
        "colab": {
          "base_uri": "https://localhost:8080/"
        },
        "id": "FezsVlOTOGea",
        "outputId": "b99e0da2-f13f-4d23-ce32-de1f738fbc80"
      },
      "source": [
        "f,pr,re = f_score(dataset[dataset.eval_set=='cv'],'prediction',True)\n",
        "printb('\\tCV')\n",
        "print('------------------------------')\n",
        "print('Precision:',pr)\n",
        "print('Recall   :',re)\n",
        "print('F1-score :',f)"
      ],
      "execution_count": null,
      "outputs": [
        {
          "output_type": "stream",
          "text": [
            "\u001b[1m\tCV\u001b[0m\n",
            "------------------------------\n",
            "Precision: 0.13176629491316202\n",
            "Recall   : 0.17693998410726286\n",
            "F1-score : 0.12942676394294883\n"
          ],
          "name": "stdout"
        }
      ]
    },
    {
      "cell_type": "code",
      "metadata": {
        "colab": {
          "base_uri": "https://localhost:8080/"
        },
        "id": "_xoPw1t1RhTU",
        "outputId": "1816fdaf-8842-421f-d772-094a573d3182"
      },
      "source": [
        "submission(dataset[dataset.eval_set=='test'],\n",
        "           target='prediction',\n",
        "           msg='Random 6 products per order',\n",
        "           sub_file_name='random_6_prod.csv')"
      ],
      "execution_count": null,
      "outputs": [
        {
          "output_type": "stream",
          "text": [
            "Warning: Looks like you're using an outdated API Version, please consider updating (server 1.5.12 / client 1.5.4)\n",
            "fileName                    date                 description                                     status    publicScore  privateScore  \n",
            "--------------------------  -------------------  ----------------------------------------------  --------  -----------  ------------  \n",
            "\u001b[1;31;47mrandom_6_prod.csv           2021-07-01 15:45:50  Random 6 products per order                     complete  0.13114      0.13044       \u001b[0m\n",
            "all_prior_prod.csv          2021-07-01 15:37:03  Dumb Baseline Model                             complete  0.21648      0.21527       \n"
          ],
          "name": "stdout"
        }
      ]
    },
    {
      "cell_type": "code",
      "metadata": {
        "id": "QsBwbG0pP7jN"
      },
      "source": [
        "del dataset['prediction']"
      ],
      "execution_count": null,
      "outputs": []
    },
    {
      "cell_type": "markdown",
      "metadata": {
        "id": "rdnehISfq51a"
      },
      "source": [
        "Data | F1-score\n",
        "--- | ---\n",
        "Train | 0.1295\n",
        "CV | 0.1294\n",
        "Test | 0.1304\n",
        "\n",
        "**Worse than the Dumb model.**"
      ]
    },
    {
      "cell_type": "markdown",
      "metadata": {
        "id": "3v1vJlzW5Xn6"
      },
      "source": [
        "### 3.Predict random k prior purchased products as reorder by giving more weightage to product that has been reordered more by all users.\n",
        "k = avg no. of reorders over all orders of a user."
      ]
    },
    {
      "cell_type": "code",
      "metadata": {
        "colab": {
          "base_uri": "https://localhost:8080/",
          "height": 142
        },
        "id": "ycLS34gxH8va",
        "outputId": "a9cb9941-f81a-4c33-afb8-801861e84ce9"
      },
      "source": [
        "def get_products_dataframe(prod):\n",
        "    '''\n",
        "    Returns DataFrame: random k no. of product_ids as prediction.\n",
        "    k = avg no. of reorders over all orders of a user.\n",
        "    '''\n",
        "    user_mean_reorders = round(prod['mean_#reorders_u'].iloc[0])\n",
        "    prob = np.asarray(prod['#reorders_p'])\n",
        "    sum_= prob.sum()\n",
        "    if(sum_==0):\n",
        "        prod = []\n",
        "    else:\n",
        "        prob= prob/sum_\n",
        "        prod = np.random.choice(prod['product_id'],\n",
        "                                size=user_mean_reorders,\n",
        "                                p=prob,\n",
        "                                replace=False,)\n",
        "\n",
        "    return pd.DataFrame(data={'product_id':prod})\n",
        "\n",
        "prediction = dataset.groupby('user_id')\\\n",
        "                    .apply(lambda prod: get_products_dataframe(prod))\n",
        "prediction = prediction.droplevel(level=1)\n",
        "prediction = prediction.reset_index()\n",
        "prediction['prediction'] = 1\n",
        "prediction.head(3)"
      ],
      "execution_count": null,
      "outputs": [
        {
          "output_type": "execute_result",
          "data": {
            "text/html": [
              "<div>\n",
              "<style scoped>\n",
              "    .dataframe tbody tr th:only-of-type {\n",
              "        vertical-align: middle;\n",
              "    }\n",
              "\n",
              "    .dataframe tbody tr th {\n",
              "        vertical-align: top;\n",
              "    }\n",
              "\n",
              "    .dataframe thead th {\n",
              "        text-align: right;\n",
              "    }\n",
              "</style>\n",
              "<table border=\"1\" class=\"dataframe\">\n",
              "  <thead>\n",
              "    <tr style=\"text-align: right;\">\n",
              "      <th></th>\n",
              "      <th>user_id</th>\n",
              "      <th>product_id</th>\n",
              "      <th>prediction</th>\n",
              "    </tr>\n",
              "  </thead>\n",
              "  <tbody>\n",
              "    <tr>\n",
              "      <th>0</th>\n",
              "      <td>1</td>\n",
              "      <td>13176</td>\n",
              "      <td>1</td>\n",
              "    </tr>\n",
              "    <tr>\n",
              "      <th>1</th>\n",
              "      <td>1</td>\n",
              "      <td>196</td>\n",
              "      <td>1</td>\n",
              "    </tr>\n",
              "    <tr>\n",
              "      <th>2</th>\n",
              "      <td>1</td>\n",
              "      <td>38928</td>\n",
              "      <td>1</td>\n",
              "    </tr>\n",
              "  </tbody>\n",
              "</table>\n",
              "</div>"
            ],
            "text/plain": [
              "   user_id  product_id  prediction\n",
              "0        1       13176           1\n",
              "1        1         196           1\n",
              "2        1       38928           1"
            ]
          },
          "metadata": {
            "tags": []
          },
          "execution_count": 10
        }
      ]
    },
    {
      "cell_type": "code",
      "metadata": {
        "colab": {
          "base_uri": "https://localhost:8080/",
          "height": 162
        },
        "id": "M8u1swfvHvR7",
        "outputId": "6aae8e4f-9147-4735-88dc-32d211c7840b"
      },
      "source": [
        "dataset = dataset.merge(prediction,on=['user_id','product_id'],how='left')\n",
        "dataset['prediction'] = dataset['prediction'].fillna(0)\n",
        "dataset.head(3)"
      ],
      "execution_count": null,
      "outputs": [
        {
          "output_type": "execute_result",
          "data": {
            "text/html": [
              "<div>\n",
              "<style scoped>\n",
              "    .dataframe tbody tr th:only-of-type {\n",
              "        vertical-align: middle;\n",
              "    }\n",
              "\n",
              "    .dataframe tbody tr th {\n",
              "        vertical-align: top;\n",
              "    }\n",
              "\n",
              "    .dataframe thead th {\n",
              "        text-align: right;\n",
              "    }\n",
              "</style>\n",
              "<table border=\"1\" class=\"dataframe\">\n",
              "  <thead>\n",
              "    <tr style=\"text-align: right;\">\n",
              "      <th></th>\n",
              "      <th>user_id</th>\n",
              "      <th>product_id</th>\n",
              "      <th>order_id</th>\n",
              "      <th>eval_set</th>\n",
              "      <th>reordered</th>\n",
              "      <th>#reorders_u</th>\n",
              "      <th>#purchases_u</th>\n",
              "      <th>#first_purchases_u</th>\n",
              "      <th>p(reorder|user)_u</th>\n",
              "      <th>mean_#reorders_u</th>\n",
              "      <th>median_#reorders_u</th>\n",
              "      <th>min_#reorders_u</th>\n",
              "      <th>max_#reorders_u</th>\n",
              "      <th>mean_#purchases_u</th>\n",
              "      <th>median_#purchases_u</th>\n",
              "      <th>min_#purchases_u</th>\n",
              "      <th>max_#purchases_u</th>\n",
              "      <th>mean_#first_purchases_u</th>\n",
              "      <th>median_#first_purchases_u</th>\n",
              "      <th>min_#first_purchases_u</th>\n",
              "      <th>max_#first_purchases_u</th>\n",
              "      <th>mean_p(reorder|user,order)_u</th>\n",
              "      <th>median_p(reorder|user,order)_u</th>\n",
              "      <th>min_p(reorder|user,order)_u</th>\n",
              "      <th>max_p(reorder|user,order)_u</th>\n",
              "      <th>dep_target_enc</th>\n",
              "      <th>aisle_target_enc</th>\n",
              "      <th>eatable</th>\n",
              "      <th>#avg_reorders_dep</th>\n",
              "      <th>p(reorder|dep_of_prod)</th>\n",
              "      <th>#avg_reorders_aisle</th>\n",
              "      <th>p(reorder|aisle_of_prod)</th>\n",
              "      <th>#reorders_p</th>\n",
              "      <th>#purchases_p</th>\n",
              "      <th>#first_purchases_p</th>\n",
              "      <th>p(reorder|product)_p</th>\n",
              "      <th>#reorders_up</th>\n",
              "      <th>p(reorder|user,product)_up</th>\n",
              "      <th>reordered_in_last_order</th>\n",
              "      <th>reordered_in_2ndlast_order</th>\n",
              "      <th>reordered_in_3rdlast_order</th>\n",
              "      <th>prediction</th>\n",
              "    </tr>\n",
              "  </thead>\n",
              "  <tbody>\n",
              "    <tr>\n",
              "      <th>0</th>\n",
              "      <td>2</td>\n",
              "      <td>13176</td>\n",
              "      <td>1492625</td>\n",
              "      <td>train</td>\n",
              "      <td>0.0</td>\n",
              "      <td>93.0</td>\n",
              "      <td>195</td>\n",
              "      <td>102.0</td>\n",
              "      <td>0.476923</td>\n",
              "      <td>7.153846</td>\n",
              "      <td>9.0</td>\n",
              "      <td>0</td>\n",
              "      <td>14</td>\n",
              "      <td>14.0</td>\n",
              "      <td>14.0</td>\n",
              "      <td>5</td>\n",
              "      <td>26</td>\n",
              "      <td>6.846154</td>\n",
              "      <td>7.0</td>\n",
              "      <td>1</td>\n",
              "      <td>12</td>\n",
              "      <td>0.482419</td>\n",
              "      <td>0.571429</td>\n",
              "      <td>0.0</td>\n",
              "      <td>0.888889</td>\n",
              "      <td>0.128464</td>\n",
              "      <td>0.169311</td>\n",
              "      <td>1</td>\n",
              "      <td>3658.378860</td>\n",
              "      <td>0.649913</td>\n",
              "      <td>6846.777487</td>\n",
              "      <td>0.718104</td>\n",
              "      <td>315913.0</td>\n",
              "      <td>379450.0</td>\n",
              "      <td>63537.0</td>\n",
              "      <td>0.832555</td>\n",
              "      <td>0</td>\n",
              "      <td>0.000000</td>\n",
              "      <td>0</td>\n",
              "      <td>0</td>\n",
              "      <td>0</td>\n",
              "      <td>1.0</td>\n",
              "    </tr>\n",
              "    <tr>\n",
              "      <th>1</th>\n",
              "      <td>2</td>\n",
              "      <td>41787</td>\n",
              "      <td>1492625</td>\n",
              "      <td>train</td>\n",
              "      <td>1.0</td>\n",
              "      <td>93.0</td>\n",
              "      <td>195</td>\n",
              "      <td>102.0</td>\n",
              "      <td>0.476923</td>\n",
              "      <td>7.153846</td>\n",
              "      <td>9.0</td>\n",
              "      <td>0</td>\n",
              "      <td>14</td>\n",
              "      <td>14.0</td>\n",
              "      <td>14.0</td>\n",
              "      <td>5</td>\n",
              "      <td>26</td>\n",
              "      <td>6.846154</td>\n",
              "      <td>7.0</td>\n",
              "      <td>1</td>\n",
              "      <td>12</td>\n",
              "      <td>0.482419</td>\n",
              "      <td>0.571429</td>\n",
              "      <td>0.0</td>\n",
              "      <td>0.888889</td>\n",
              "      <td>0.128464</td>\n",
              "      <td>0.169311</td>\n",
              "      <td>1</td>\n",
              "      <td>3658.378860</td>\n",
              "      <td>0.649913</td>\n",
              "      <td>6846.777487</td>\n",
              "      <td>0.718104</td>\n",
              "      <td>23015.0</td>\n",
              "      <td>35413.0</td>\n",
              "      <td>12398.0</td>\n",
              "      <td>0.649903</td>\n",
              "      <td>1</td>\n",
              "      <td>0.076923</td>\n",
              "      <td>0</td>\n",
              "      <td>0</td>\n",
              "      <td>0</td>\n",
              "      <td>0.0</td>\n",
              "    </tr>\n",
              "    <tr>\n",
              "      <th>2</th>\n",
              "      <td>2</td>\n",
              "      <td>32792</td>\n",
              "      <td>1492625</td>\n",
              "      <td>train</td>\n",
              "      <td>1.0</td>\n",
              "      <td>93.0</td>\n",
              "      <td>195</td>\n",
              "      <td>102.0</td>\n",
              "      <td>0.476923</td>\n",
              "      <td>7.153846</td>\n",
              "      <td>9.0</td>\n",
              "      <td>0</td>\n",
              "      <td>14</td>\n",
              "      <td>14.0</td>\n",
              "      <td>14.0</td>\n",
              "      <td>5</td>\n",
              "      <td>26</td>\n",
              "      <td>6.846154</td>\n",
              "      <td>7.0</td>\n",
              "      <td>1</td>\n",
              "      <td>12</td>\n",
              "      <td>0.482419</td>\n",
              "      <td>0.571429</td>\n",
              "      <td>0.0</td>\n",
              "      <td>0.888889</td>\n",
              "      <td>0.088779</td>\n",
              "      <td>0.098166</td>\n",
              "      <td>1</td>\n",
              "      <td>264.682791</td>\n",
              "      <td>0.574180</td>\n",
              "      <td>306.341772</td>\n",
              "      <td>0.591986</td>\n",
              "      <td>791.0</td>\n",
              "      <td>1370.0</td>\n",
              "      <td>579.0</td>\n",
              "      <td>0.577372</td>\n",
              "      <td>8</td>\n",
              "      <td>0.615385</td>\n",
              "      <td>0</td>\n",
              "      <td>0</td>\n",
              "      <td>1</td>\n",
              "      <td>0.0</td>\n",
              "    </tr>\n",
              "  </tbody>\n",
              "</table>\n",
              "</div>"
            ],
            "text/plain": [
              "   user_id  product_id  ...  reordered_in_3rdlast_order prediction\n",
              "0        2       13176  ...                           0        1.0\n",
              "1        2       41787  ...                           0        0.0\n",
              "2        2       32792  ...                           1        0.0\n",
              "\n",
              "[3 rows x 42 columns]"
            ]
          },
          "metadata": {
            "tags": []
          },
          "execution_count": 11
        }
      ]
    },
    {
      "cell_type": "code",
      "metadata": {
        "colab": {
          "base_uri": "https://localhost:8080/"
        },
        "id": "fkEGcNzYHz_H",
        "outputId": "fc109a62-f206-47bf-f24f-f667d1ba5472"
      },
      "source": [
        "f,pr,re = f_score(dataset[dataset.eval_set=='train'],'prediction',True)\n",
        "printb('\\tTrain')\n",
        "print('------------------------------')\n",
        "print('Precision:',pr)\n",
        "print('Recall   :',re)\n",
        "print('F1-score :',f)"
      ],
      "execution_count": null,
      "outputs": [
        {
          "output_type": "stream",
          "text": [
            "\u001b[1m\tTrain\u001b[0m\n",
            "------------------------------\n",
            "Precision: 0.20281477926181793\n",
            "Recall   : 0.16366686054301055\n",
            "F1-score : 0.16830368494685785\n"
          ],
          "name": "stdout"
        }
      ]
    },
    {
      "cell_type": "code",
      "metadata": {
        "colab": {
          "base_uri": "https://localhost:8080/"
        },
        "id": "yerSIjEPKCh6",
        "outputId": "941be99d-734e-48e3-9382-83dd9f415b1f"
      },
      "source": [
        "f,pr,re = f_score(dataset[dataset.eval_set=='cv'],'prediction',True)\n",
        "printb('\\tCV')\n",
        "print('------------------------------')\n",
        "print('Precision:',pr)\n",
        "print('Recall   :',re)\n",
        "print('F1-score :',f)"
      ],
      "execution_count": null,
      "outputs": [
        {
          "output_type": "stream",
          "text": [
            "\u001b[1m\tCV\u001b[0m\n",
            "------------------------------\n",
            "Precision: 0.2018252999490733\n",
            "Recall   : 0.16265559340249897\n",
            "F1-score : 0.1674412047461378\n"
          ],
          "name": "stdout"
        }
      ]
    },
    {
      "cell_type": "code",
      "metadata": {
        "colab": {
          "base_uri": "https://localhost:8080/"
        },
        "id": "bzpcjXXJTQjF",
        "outputId": "307a425f-2aa2-4e41-f088-dd0670a2c854"
      },
      "source": [
        "submission(dataset[dataset.eval_set=='test'],\n",
        "           'prediction',\n",
        "           msg='k most reordered prod by user',\n",
        "           sub_file_name='random_k_prod.csv')"
      ],
      "execution_count": null,
      "outputs": [
        {
          "output_type": "stream",
          "text": [
            "Warning: Looks like you're using an outdated API Version, please consider updating (server 1.5.12 / client 1.5.4)\n",
            "fileName                    date                 description                                     status    publicScore  privateScore  \n",
            "--------------------------  -------------------  ----------------------------------------------  --------  -----------  ------------  \n",
            "\u001b[1;31;47mrandom_k_prod.csv           2021-07-01 16:10:04  k most reordered prod by user                   complete  0.16905      0.16757       \u001b[0m\n",
            "random_6_prod.csv           2021-07-01 15:45:50  Random 6 products per order                     complete  0.13114      0.13044       \n",
            "all_prior_prod.csv          2021-07-01 15:37:03  Dumb Baseline Model                             complete  0.21648      0.21527       \n"
          ],
          "name": "stdout"
        }
      ]
    },
    {
      "cell_type": "code",
      "metadata": {
        "id": "JciP_B6CWpwX"
      },
      "source": [
        "del dataset['prediction']"
      ],
      "execution_count": null,
      "outputs": []
    },
    {
      "cell_type": "markdown",
      "metadata": {
        "id": "-jO8o1m-gRk7"
      },
      "source": [
        "Data | F1-score\n",
        "--- | ---\n",
        "Train | 0.1683\n",
        "CV | 0.1674\n",
        "Test | 0.1676\n",
        "\n",
        "**Worse than the Dumb model.**"
      ]
    },
    {
      "cell_type": "markdown",
      "metadata": {
        "id": "Xe3CrNpfofJD"
      },
      "source": [
        "### 4.Predict random k prior purchased products as reorder by giving more weightage to product that has been reordered more by the user.\n",
        "k = avg no. of reorders over all orders of a user."
      ]
    },
    {
      "cell_type": "code",
      "metadata": {
        "colab": {
          "base_uri": "https://localhost:8080/",
          "height": 142
        },
        "id": "dAul5HJRR6tI",
        "outputId": "ec696268-e6c5-4b75-f4f9-5112d252d455"
      },
      "source": [
        "def get_products_dataframe(prod):\n",
        "    '''\n",
        "    Returns DataFrame: random k no. of product_ids as prediction.\n",
        "    k = avg no. of reorders over all orders of a user.\n",
        "    '''\n",
        "    user_mean_reorders = round(prod['mean_#reorders_u'].iloc[0])\n",
        "    prob = np.asarray(prod['#reorders_up'])\n",
        "    sum_= prob.sum()\n",
        "    if(sum_==0):\n",
        "        prod = []\n",
        "    else:\n",
        "        prob= prob/sum_\n",
        "        prod = np.random.choice(prod['product_id'],\n",
        "                                size=user_mean_reorders,\n",
        "                                p=prob,\n",
        "                                replace=False,)\n",
        "    return pd.DataFrame(data={'product_id':prod})\n",
        "\n",
        "prediction = dataset.groupby('user_id')\\\n",
        "                    .apply(lambda prod: get_products_dataframe(prod))\n",
        "prediction = prediction.droplevel(level=1)\n",
        "prediction = prediction.reset_index()\n",
        "prediction['prediction'] = 1\n",
        "prediction.head(3)"
      ],
      "execution_count": null,
      "outputs": [
        {
          "output_type": "execute_result",
          "data": {
            "text/html": [
              "<div>\n",
              "<style scoped>\n",
              "    .dataframe tbody tr th:only-of-type {\n",
              "        vertical-align: middle;\n",
              "    }\n",
              "\n",
              "    .dataframe tbody tr th {\n",
              "        vertical-align: top;\n",
              "    }\n",
              "\n",
              "    .dataframe thead th {\n",
              "        text-align: right;\n",
              "    }\n",
              "</style>\n",
              "<table border=\"1\" class=\"dataframe\">\n",
              "  <thead>\n",
              "    <tr style=\"text-align: right;\">\n",
              "      <th></th>\n",
              "      <th>user_id</th>\n",
              "      <th>product_id</th>\n",
              "      <th>prediction</th>\n",
              "    </tr>\n",
              "  </thead>\n",
              "  <tbody>\n",
              "    <tr>\n",
              "      <th>0</th>\n",
              "      <td>1</td>\n",
              "      <td>13176.0</td>\n",
              "      <td>1</td>\n",
              "    </tr>\n",
              "    <tr>\n",
              "      <th>1</th>\n",
              "      <td>1</td>\n",
              "      <td>196.0</td>\n",
              "      <td>1</td>\n",
              "    </tr>\n",
              "    <tr>\n",
              "      <th>2</th>\n",
              "      <td>1</td>\n",
              "      <td>12427.0</td>\n",
              "      <td>1</td>\n",
              "    </tr>\n",
              "  </tbody>\n",
              "</table>\n",
              "</div>"
            ],
            "text/plain": [
              "   user_id  product_id  prediction\n",
              "0        1     13176.0           1\n",
              "1        1       196.0           1\n",
              "2        1     12427.0           1"
            ]
          },
          "metadata": {
            "tags": []
          },
          "execution_count": 16
        }
      ]
    },
    {
      "cell_type": "code",
      "metadata": {
        "colab": {
          "base_uri": "https://localhost:8080/",
          "height": 162
        },
        "id": "dCxU0c6vR6tM",
        "outputId": "5a38d641-59c1-4079-c483-609d0dce23f2"
      },
      "source": [
        "dataset = dataset.merge(prediction,on=['user_id','product_id'],how='left')\n",
        "dataset['prediction'] = dataset['prediction'].fillna(0)\n",
        "dataset.head(3)"
      ],
      "execution_count": null,
      "outputs": [
        {
          "output_type": "execute_result",
          "data": {
            "text/html": [
              "<div>\n",
              "<style scoped>\n",
              "    .dataframe tbody tr th:only-of-type {\n",
              "        vertical-align: middle;\n",
              "    }\n",
              "\n",
              "    .dataframe tbody tr th {\n",
              "        vertical-align: top;\n",
              "    }\n",
              "\n",
              "    .dataframe thead th {\n",
              "        text-align: right;\n",
              "    }\n",
              "</style>\n",
              "<table border=\"1\" class=\"dataframe\">\n",
              "  <thead>\n",
              "    <tr style=\"text-align: right;\">\n",
              "      <th></th>\n",
              "      <th>user_id</th>\n",
              "      <th>product_id</th>\n",
              "      <th>order_id</th>\n",
              "      <th>eval_set</th>\n",
              "      <th>reordered</th>\n",
              "      <th>#reorders_u</th>\n",
              "      <th>#purchases_u</th>\n",
              "      <th>#first_purchases_u</th>\n",
              "      <th>p(reorder|user)_u</th>\n",
              "      <th>mean_#reorders_u</th>\n",
              "      <th>median_#reorders_u</th>\n",
              "      <th>min_#reorders_u</th>\n",
              "      <th>max_#reorders_u</th>\n",
              "      <th>mean_#purchases_u</th>\n",
              "      <th>median_#purchases_u</th>\n",
              "      <th>min_#purchases_u</th>\n",
              "      <th>max_#purchases_u</th>\n",
              "      <th>mean_#first_purchases_u</th>\n",
              "      <th>median_#first_purchases_u</th>\n",
              "      <th>min_#first_purchases_u</th>\n",
              "      <th>max_#first_purchases_u</th>\n",
              "      <th>mean_p(reorder|user,order)_u</th>\n",
              "      <th>median_p(reorder|user,order)_u</th>\n",
              "      <th>min_p(reorder|user,order)_u</th>\n",
              "      <th>max_p(reorder|user,order)_u</th>\n",
              "      <th>dep_target_enc</th>\n",
              "      <th>aisle_target_enc</th>\n",
              "      <th>eatable</th>\n",
              "      <th>#avg_reorders_dep</th>\n",
              "      <th>p(reorder|dep_of_prod)</th>\n",
              "      <th>#avg_reorders_aisle</th>\n",
              "      <th>p(reorder|aisle_of_prod)</th>\n",
              "      <th>#reorders_p</th>\n",
              "      <th>#purchases_p</th>\n",
              "      <th>#first_purchases_p</th>\n",
              "      <th>p(reorder|product)_p</th>\n",
              "      <th>#reorders_up</th>\n",
              "      <th>p(reorder|user,product)_up</th>\n",
              "      <th>reordered_in_last_order</th>\n",
              "      <th>reordered_in_2ndlast_order</th>\n",
              "      <th>reordered_in_3rdlast_order</th>\n",
              "      <th>prediction</th>\n",
              "    </tr>\n",
              "  </thead>\n",
              "  <tbody>\n",
              "    <tr>\n",
              "      <th>0</th>\n",
              "      <td>2</td>\n",
              "      <td>13176</td>\n",
              "      <td>1492625</td>\n",
              "      <td>train</td>\n",
              "      <td>0.0</td>\n",
              "      <td>93.0</td>\n",
              "      <td>195</td>\n",
              "      <td>102.0</td>\n",
              "      <td>0.476923</td>\n",
              "      <td>7.153846</td>\n",
              "      <td>9.0</td>\n",
              "      <td>0</td>\n",
              "      <td>14</td>\n",
              "      <td>14.0</td>\n",
              "      <td>14.0</td>\n",
              "      <td>5</td>\n",
              "      <td>26</td>\n",
              "      <td>6.846154</td>\n",
              "      <td>7.0</td>\n",
              "      <td>1</td>\n",
              "      <td>12</td>\n",
              "      <td>0.482419</td>\n",
              "      <td>0.571429</td>\n",
              "      <td>0.0</td>\n",
              "      <td>0.888889</td>\n",
              "      <td>0.128464</td>\n",
              "      <td>0.169311</td>\n",
              "      <td>1</td>\n",
              "      <td>3658.378860</td>\n",
              "      <td>0.649913</td>\n",
              "      <td>6846.777487</td>\n",
              "      <td>0.718104</td>\n",
              "      <td>315913.0</td>\n",
              "      <td>379450.0</td>\n",
              "      <td>63537.0</td>\n",
              "      <td>0.832555</td>\n",
              "      <td>0</td>\n",
              "      <td>0.000000</td>\n",
              "      <td>0</td>\n",
              "      <td>0</td>\n",
              "      <td>0</td>\n",
              "      <td>0.0</td>\n",
              "    </tr>\n",
              "    <tr>\n",
              "      <th>1</th>\n",
              "      <td>2</td>\n",
              "      <td>41787</td>\n",
              "      <td>1492625</td>\n",
              "      <td>train</td>\n",
              "      <td>1.0</td>\n",
              "      <td>93.0</td>\n",
              "      <td>195</td>\n",
              "      <td>102.0</td>\n",
              "      <td>0.476923</td>\n",
              "      <td>7.153846</td>\n",
              "      <td>9.0</td>\n",
              "      <td>0</td>\n",
              "      <td>14</td>\n",
              "      <td>14.0</td>\n",
              "      <td>14.0</td>\n",
              "      <td>5</td>\n",
              "      <td>26</td>\n",
              "      <td>6.846154</td>\n",
              "      <td>7.0</td>\n",
              "      <td>1</td>\n",
              "      <td>12</td>\n",
              "      <td>0.482419</td>\n",
              "      <td>0.571429</td>\n",
              "      <td>0.0</td>\n",
              "      <td>0.888889</td>\n",
              "      <td>0.128464</td>\n",
              "      <td>0.169311</td>\n",
              "      <td>1</td>\n",
              "      <td>3658.378860</td>\n",
              "      <td>0.649913</td>\n",
              "      <td>6846.777487</td>\n",
              "      <td>0.718104</td>\n",
              "      <td>23015.0</td>\n",
              "      <td>35413.0</td>\n",
              "      <td>12398.0</td>\n",
              "      <td>0.649903</td>\n",
              "      <td>1</td>\n",
              "      <td>0.076923</td>\n",
              "      <td>0</td>\n",
              "      <td>0</td>\n",
              "      <td>0</td>\n",
              "      <td>0.0</td>\n",
              "    </tr>\n",
              "    <tr>\n",
              "      <th>2</th>\n",
              "      <td>2</td>\n",
              "      <td>32792</td>\n",
              "      <td>1492625</td>\n",
              "      <td>train</td>\n",
              "      <td>1.0</td>\n",
              "      <td>93.0</td>\n",
              "      <td>195</td>\n",
              "      <td>102.0</td>\n",
              "      <td>0.476923</td>\n",
              "      <td>7.153846</td>\n",
              "      <td>9.0</td>\n",
              "      <td>0</td>\n",
              "      <td>14</td>\n",
              "      <td>14.0</td>\n",
              "      <td>14.0</td>\n",
              "      <td>5</td>\n",
              "      <td>26</td>\n",
              "      <td>6.846154</td>\n",
              "      <td>7.0</td>\n",
              "      <td>1</td>\n",
              "      <td>12</td>\n",
              "      <td>0.482419</td>\n",
              "      <td>0.571429</td>\n",
              "      <td>0.0</td>\n",
              "      <td>0.888889</td>\n",
              "      <td>0.088779</td>\n",
              "      <td>0.098166</td>\n",
              "      <td>1</td>\n",
              "      <td>264.682791</td>\n",
              "      <td>0.574180</td>\n",
              "      <td>306.341772</td>\n",
              "      <td>0.591986</td>\n",
              "      <td>791.0</td>\n",
              "      <td>1370.0</td>\n",
              "      <td>579.0</td>\n",
              "      <td>0.577372</td>\n",
              "      <td>8</td>\n",
              "      <td>0.615385</td>\n",
              "      <td>0</td>\n",
              "      <td>0</td>\n",
              "      <td>1</td>\n",
              "      <td>1.0</td>\n",
              "    </tr>\n",
              "  </tbody>\n",
              "</table>\n",
              "</div>"
            ],
            "text/plain": [
              "   user_id  product_id  ...  reordered_in_3rdlast_order prediction\n",
              "0        2       13176  ...                           0        0.0\n",
              "1        2       41787  ...                           0        0.0\n",
              "2        2       32792  ...                           1        1.0\n",
              "\n",
              "[3 rows x 42 columns]"
            ]
          },
          "metadata": {
            "tags": []
          },
          "execution_count": 17
        }
      ]
    },
    {
      "cell_type": "code",
      "metadata": {
        "colab": {
          "base_uri": "https://localhost:8080/"
        },
        "id": "dsWgyOo6RoCa",
        "outputId": "63b17027-90d0-4b94-9aa7-34de7b82d766"
      },
      "source": [
        "f,pr,re = f_score(dataset[dataset.eval_set=='train'],'prediction',True)\n",
        "printb('\\tTrain')\n",
        "print('------------------------------')\n",
        "print('Precision:',pr)\n",
        "print('Recall   :',re)\n",
        "print('F1-score :',f)"
      ],
      "execution_count": null,
      "outputs": [
        {
          "output_type": "stream",
          "text": [
            "\u001b[1m\tTrain\u001b[0m\n",
            "------------------------------\n",
            "Precision: 0.29788501750751745\n",
            "Recall   : 0.24004032968391323\n",
            "F1-score : 0.24712396386151955\n"
          ],
          "name": "stdout"
        }
      ]
    },
    {
      "cell_type": "code",
      "metadata": {
        "colab": {
          "base_uri": "https://localhost:8080/"
        },
        "id": "WTAHaR4mRoCk",
        "outputId": "d361695f-040c-4e24-8148-64d2da1b8932"
      },
      "source": [
        "f,pr,re = f_score(dataset[dataset.eval_set=='cv'],'prediction',True)\n",
        "printb('\\tCV')\n",
        "print('------------------------------')\n",
        "print('Precision:',pr)\n",
        "print('Recall   :',re)\n",
        "print('F1-score :',f)"
      ],
      "execution_count": null,
      "outputs": [
        {
          "output_type": "stream",
          "text": [
            "\u001b[1m\tCV\u001b[0m\n",
            "------------------------------\n",
            "Precision: 0.29705093555004275\n",
            "Recall   : 0.23930457982169814\n",
            "F1-score : 0.24627466478839993\n"
          ],
          "name": "stdout"
        }
      ]
    },
    {
      "cell_type": "code",
      "metadata": {
        "colab": {
          "base_uri": "https://localhost:8080/"
        },
        "id": "QKptUEQ4TfoN",
        "outputId": "7abcebde-4d63-485f-bb74-d33623ec6b6e"
      },
      "source": [
        "submission(dataset[dataset.eval_set=='test'],\n",
        "           'prediction',\n",
        "           msg='k most reordered prod(weighted) by user',\n",
        "           sub_file_name='random_k_prod.csv')"
      ],
      "execution_count": null,
      "outputs": [
        {
          "output_type": "stream",
          "text": [
            "Warning: Looks like you're using an outdated API Version, please consider updating (server 1.5.12 / client 1.5.4)\n",
            "fileName                    date                 description                                     status    publicScore  privateScore  \n",
            "--------------------------  -------------------  ----------------------------------------------  --------  -----------  ------------  \n",
            "\u001b[1;31;47mrandom_k_prod.csv           2021-07-01 16:18:53  k most reordered prod(weighted) by user         complete  0.24865      0.24653       \u001b[0m\n",
            "random_k_prod.csv           2021-07-01 16:10:04  k most reordered prod by user                   complete  0.16905      0.16757       \n",
            "random_6_prod.csv           2021-07-01 15:45:50  Random 6 products per order                     complete  0.13114      0.13044       \n",
            "all_prior_prod.csv          2021-07-01 15:37:03  Dumb Baseline Model                             complete  0.21648      0.21527       \n"
          ],
          "name": "stdout"
        }
      ]
    },
    {
      "cell_type": "code",
      "metadata": {
        "id": "9-8ty7iwCvml"
      },
      "source": [
        "del dataset['prediction']"
      ],
      "execution_count": null,
      "outputs": []
    },
    {
      "cell_type": "markdown",
      "metadata": {
        "id": "xQXoCNYbaoWL"
      },
      "source": [
        "Data | F1-score\n",
        "--- | ---\n",
        "Train | 0.2471\n",
        "CV | 0.2463\n",
        "Test | 0.2465\n",
        "\n",
        "**Any sensible ML model must give test f1-score of more than 0.2465.**"
      ]
    },
    {
      "cell_type": "markdown",
      "metadata": {
        "id": "bR3klCQ-rujl"
      },
      "source": [
        "### 5.Predict purchases of last order as reorder:"
      ]
    },
    {
      "cell_type": "code",
      "metadata": {
        "id": "xx5yhJm9eS1X"
      },
      "source": [
        "def get_products_dataframe(df):\n",
        "    \"\"\"Returns string: space delimited product_ids of user's last order's purchased products.\"\"\"\n",
        "    last_order_number = df.order_number.max()\n",
        "    reordered_prod = df.loc[df.order_number==last_order_number,['product_id']]\n",
        "    return reordered_prod"
      ],
      "execution_count": null,
      "outputs": []
    },
    {
      "cell_type": "code",
      "metadata": {
        "colab": {
          "base_uri": "https://localhost:8080/",
          "height": 142
        },
        "id": "xaqpFT0A1M76",
        "outputId": "08f401d7-93db-4155-cc31-5de2e5c045c4"
      },
      "source": [
        "prediction = prior_data.groupby('user_id')\\\n",
        "                        .apply(get_products_dataframe)\n",
        "prediction = prediction.droplevel(level=1)\n",
        "prediction = prediction.reset_index()\n",
        "prediction['prediction'] = 1\n",
        "prediction.head(3)"
      ],
      "execution_count": null,
      "outputs": [
        {
          "output_type": "execute_result",
          "data": {
            "text/html": [
              "<div>\n",
              "<style scoped>\n",
              "    .dataframe tbody tr th:only-of-type {\n",
              "        vertical-align: middle;\n",
              "    }\n",
              "\n",
              "    .dataframe tbody tr th {\n",
              "        vertical-align: top;\n",
              "    }\n",
              "\n",
              "    .dataframe thead th {\n",
              "        text-align: right;\n",
              "    }\n",
              "</style>\n",
              "<table border=\"1\" class=\"dataframe\">\n",
              "  <thead>\n",
              "    <tr style=\"text-align: right;\">\n",
              "      <th></th>\n",
              "      <th>user_id</th>\n",
              "      <th>product_id</th>\n",
              "      <th>prediction</th>\n",
              "    </tr>\n",
              "  </thead>\n",
              "  <tbody>\n",
              "    <tr>\n",
              "      <th>0</th>\n",
              "      <td>1</td>\n",
              "      <td>196</td>\n",
              "      <td>1</td>\n",
              "    </tr>\n",
              "    <tr>\n",
              "      <th>1</th>\n",
              "      <td>1</td>\n",
              "      <td>46149</td>\n",
              "      <td>1</td>\n",
              "    </tr>\n",
              "    <tr>\n",
              "      <th>2</th>\n",
              "      <td>1</td>\n",
              "      <td>39657</td>\n",
              "      <td>1</td>\n",
              "    </tr>\n",
              "  </tbody>\n",
              "</table>\n",
              "</div>"
            ],
            "text/plain": [
              "   user_id  product_id  prediction\n",
              "0        1         196           1\n",
              "1        1       46149           1\n",
              "2        1       39657           1"
            ]
          },
          "metadata": {
            "tags": []
          },
          "execution_count": 29
        }
      ]
    },
    {
      "cell_type": "code",
      "metadata": {
        "colab": {
          "base_uri": "https://localhost:8080/",
          "height": 162
        },
        "id": "NjV38xVccCFT",
        "outputId": "9fc485b6-c989-4324-98e2-ed5fe2f414ea"
      },
      "source": [
        "dataset = dataset.merge(prediction,on=['user_id','product_id'],how='left')\n",
        "dataset['prediction'] = dataset['prediction'].fillna(0)\n",
        "dataset.head(3)"
      ],
      "execution_count": null,
      "outputs": [
        {
          "output_type": "execute_result",
          "data": {
            "text/html": [
              "<div>\n",
              "<style scoped>\n",
              "    .dataframe tbody tr th:only-of-type {\n",
              "        vertical-align: middle;\n",
              "    }\n",
              "\n",
              "    .dataframe tbody tr th {\n",
              "        vertical-align: top;\n",
              "    }\n",
              "\n",
              "    .dataframe thead th {\n",
              "        text-align: right;\n",
              "    }\n",
              "</style>\n",
              "<table border=\"1\" class=\"dataframe\">\n",
              "  <thead>\n",
              "    <tr style=\"text-align: right;\">\n",
              "      <th></th>\n",
              "      <th>user_id</th>\n",
              "      <th>product_id</th>\n",
              "      <th>order_id</th>\n",
              "      <th>eval_set</th>\n",
              "      <th>reordered</th>\n",
              "      <th>#reorders_u</th>\n",
              "      <th>#purchases_u</th>\n",
              "      <th>#first_purchases_u</th>\n",
              "      <th>p(reorder|user)_u</th>\n",
              "      <th>mean_#reorders_u</th>\n",
              "      <th>median_#reorders_u</th>\n",
              "      <th>min_#reorders_u</th>\n",
              "      <th>max_#reorders_u</th>\n",
              "      <th>mean_#purchases_u</th>\n",
              "      <th>median_#purchases_u</th>\n",
              "      <th>min_#purchases_u</th>\n",
              "      <th>max_#purchases_u</th>\n",
              "      <th>mean_#first_purchases_u</th>\n",
              "      <th>median_#first_purchases_u</th>\n",
              "      <th>min_#first_purchases_u</th>\n",
              "      <th>max_#first_purchases_u</th>\n",
              "      <th>mean_p(reorder|user,order)_u</th>\n",
              "      <th>median_p(reorder|user,order)_u</th>\n",
              "      <th>min_p(reorder|user,order)_u</th>\n",
              "      <th>max_p(reorder|user,order)_u</th>\n",
              "      <th>dep_target_enc</th>\n",
              "      <th>aisle_target_enc</th>\n",
              "      <th>eatable</th>\n",
              "      <th>#avg_reorders_dep</th>\n",
              "      <th>p(reorder|dep_of_prod)</th>\n",
              "      <th>#avg_reorders_aisle</th>\n",
              "      <th>p(reorder|aisle_of_prod)</th>\n",
              "      <th>#reorders_p</th>\n",
              "      <th>#purchases_p</th>\n",
              "      <th>#first_purchases_p</th>\n",
              "      <th>p(reorder|product)_p</th>\n",
              "      <th>#reorders_up</th>\n",
              "      <th>p(reorder|user,product)_up</th>\n",
              "      <th>reordered_in_last_order</th>\n",
              "      <th>reordered_in_2ndlast_order</th>\n",
              "      <th>reordered_in_3rdlast_order</th>\n",
              "      <th>prediction</th>\n",
              "    </tr>\n",
              "  </thead>\n",
              "  <tbody>\n",
              "    <tr>\n",
              "      <th>0</th>\n",
              "      <td>2</td>\n",
              "      <td>13176</td>\n",
              "      <td>1492625</td>\n",
              "      <td>train</td>\n",
              "      <td>0.0</td>\n",
              "      <td>93.0</td>\n",
              "      <td>195</td>\n",
              "      <td>102.0</td>\n",
              "      <td>0.476923</td>\n",
              "      <td>7.153846</td>\n",
              "      <td>9.0</td>\n",
              "      <td>0</td>\n",
              "      <td>14</td>\n",
              "      <td>14.0</td>\n",
              "      <td>14.0</td>\n",
              "      <td>5</td>\n",
              "      <td>26</td>\n",
              "      <td>6.846154</td>\n",
              "      <td>7.0</td>\n",
              "      <td>1</td>\n",
              "      <td>12</td>\n",
              "      <td>0.482419</td>\n",
              "      <td>0.571429</td>\n",
              "      <td>0.0</td>\n",
              "      <td>0.888889</td>\n",
              "      <td>0.128464</td>\n",
              "      <td>0.169311</td>\n",
              "      <td>1</td>\n",
              "      <td>3658.378860</td>\n",
              "      <td>0.649913</td>\n",
              "      <td>6846.777487</td>\n",
              "      <td>0.718104</td>\n",
              "      <td>315913.0</td>\n",
              "      <td>379450.0</td>\n",
              "      <td>63537.0</td>\n",
              "      <td>0.832555</td>\n",
              "      <td>0</td>\n",
              "      <td>0.000000</td>\n",
              "      <td>0</td>\n",
              "      <td>0</td>\n",
              "      <td>0</td>\n",
              "      <td>0.0</td>\n",
              "    </tr>\n",
              "    <tr>\n",
              "      <th>1</th>\n",
              "      <td>2</td>\n",
              "      <td>41787</td>\n",
              "      <td>1492625</td>\n",
              "      <td>train</td>\n",
              "      <td>1.0</td>\n",
              "      <td>93.0</td>\n",
              "      <td>195</td>\n",
              "      <td>102.0</td>\n",
              "      <td>0.476923</td>\n",
              "      <td>7.153846</td>\n",
              "      <td>9.0</td>\n",
              "      <td>0</td>\n",
              "      <td>14</td>\n",
              "      <td>14.0</td>\n",
              "      <td>14.0</td>\n",
              "      <td>5</td>\n",
              "      <td>26</td>\n",
              "      <td>6.846154</td>\n",
              "      <td>7.0</td>\n",
              "      <td>1</td>\n",
              "      <td>12</td>\n",
              "      <td>0.482419</td>\n",
              "      <td>0.571429</td>\n",
              "      <td>0.0</td>\n",
              "      <td>0.888889</td>\n",
              "      <td>0.128464</td>\n",
              "      <td>0.169311</td>\n",
              "      <td>1</td>\n",
              "      <td>3658.378860</td>\n",
              "      <td>0.649913</td>\n",
              "      <td>6846.777487</td>\n",
              "      <td>0.718104</td>\n",
              "      <td>23015.0</td>\n",
              "      <td>35413.0</td>\n",
              "      <td>12398.0</td>\n",
              "      <td>0.649903</td>\n",
              "      <td>1</td>\n",
              "      <td>0.076923</td>\n",
              "      <td>0</td>\n",
              "      <td>0</td>\n",
              "      <td>0</td>\n",
              "      <td>0.0</td>\n",
              "    </tr>\n",
              "    <tr>\n",
              "      <th>2</th>\n",
              "      <td>2</td>\n",
              "      <td>32792</td>\n",
              "      <td>1492625</td>\n",
              "      <td>train</td>\n",
              "      <td>1.0</td>\n",
              "      <td>93.0</td>\n",
              "      <td>195</td>\n",
              "      <td>102.0</td>\n",
              "      <td>0.476923</td>\n",
              "      <td>7.153846</td>\n",
              "      <td>9.0</td>\n",
              "      <td>0</td>\n",
              "      <td>14</td>\n",
              "      <td>14.0</td>\n",
              "      <td>14.0</td>\n",
              "      <td>5</td>\n",
              "      <td>26</td>\n",
              "      <td>6.846154</td>\n",
              "      <td>7.0</td>\n",
              "      <td>1</td>\n",
              "      <td>12</td>\n",
              "      <td>0.482419</td>\n",
              "      <td>0.571429</td>\n",
              "      <td>0.0</td>\n",
              "      <td>0.888889</td>\n",
              "      <td>0.088779</td>\n",
              "      <td>0.098166</td>\n",
              "      <td>1</td>\n",
              "      <td>264.682791</td>\n",
              "      <td>0.574180</td>\n",
              "      <td>306.341772</td>\n",
              "      <td>0.591986</td>\n",
              "      <td>791.0</td>\n",
              "      <td>1370.0</td>\n",
              "      <td>579.0</td>\n",
              "      <td>0.577372</td>\n",
              "      <td>8</td>\n",
              "      <td>0.615385</td>\n",
              "      <td>0</td>\n",
              "      <td>0</td>\n",
              "      <td>1</td>\n",
              "      <td>0.0</td>\n",
              "    </tr>\n",
              "  </tbody>\n",
              "</table>\n",
              "</div>"
            ],
            "text/plain": [
              "   user_id  product_id  ...  reordered_in_3rdlast_order prediction\n",
              "0        2       13176  ...                           0        0.0\n",
              "1        2       41787  ...                           0        0.0\n",
              "2        2       32792  ...                           1        0.0\n",
              "\n",
              "[3 rows x 42 columns]"
            ]
          },
          "metadata": {
            "tags": []
          },
          "execution_count": 30
        }
      ]
    },
    {
      "cell_type": "code",
      "metadata": {
        "colab": {
          "base_uri": "https://localhost:8080/"
        },
        "id": "pNgG866tcCFT",
        "outputId": "f5be1896-a903-42f0-8b24-40a09271451a"
      },
      "source": [
        "f,pr,re = f_score(dataset[dataset.eval_set=='train'],'prediction',True)\n",
        "printb('\\tTrain')\n",
        "print('------------------------------')\n",
        "print('Precision:',pr)\n",
        "print('Recall   :',re)\n",
        "print('F1-score :',f)"
      ],
      "execution_count": null,
      "outputs": [
        {
          "output_type": "stream",
          "text": [
            "\u001b[1m\tTrain\u001b[0m\n",
            "------------------------------\n",
            "Precision: 0.28617361269170094\n",
            "Recall   : 0.42907766220462307\n",
            "F1-score : 0.31153070081836953\n"
          ],
          "name": "stdout"
        }
      ]
    },
    {
      "cell_type": "code",
      "metadata": {
        "colab": {
          "base_uri": "https://localhost:8080/"
        },
        "id": "ayz-SUHVcCFV",
        "outputId": "d82d6bc8-2e3f-4678-8c0b-ea813d5d1e12"
      },
      "source": [
        "f,pr,re = f_score(dataset[dataset.eval_set=='cv'],'prediction',True)\n",
        "printb('\\tCV')\n",
        "print('------------------------------')\n",
        "print('Precision:',pr)\n",
        "print('Recall   :',re)\n",
        "print('F1-score :',f)"
      ],
      "execution_count": null,
      "outputs": [
        {
          "output_type": "stream",
          "text": [
            "\u001b[1m\tCV\u001b[0m\n",
            "------------------------------\n",
            "Precision: 0.28414623956748736\n",
            "Recall   : 0.4276941325218089\n",
            "F1-score : 0.3095193525012776\n"
          ],
          "name": "stdout"
        }
      ]
    },
    {
      "cell_type": "code",
      "metadata": {
        "colab": {
          "base_uri": "https://localhost:8080/"
        },
        "id": "TfVgj2r3T-fH",
        "outputId": "d2991653-e6b0-47a1-eedf-5ac7f1d780a3"
      },
      "source": [
        "submission(dataset[dataset.eval_set=='test'],\n",
        "           'prediction',\n",
        "           msg='purchases of last order as reorder',\n",
        "           sub_file_name='last_order.csv')"
      ],
      "execution_count": null,
      "outputs": [
        {
          "output_type": "stream",
          "text": [
            "Warning: Looks like you're using an outdated API Version, please consider updating (server 1.5.12 / client 1.5.4)\n",
            "fileName                    date                 description                                     status    publicScore  privateScore  \n",
            "--------------------------  -------------------  ----------------------------------------------  --------  -----------  ------------  \n",
            "\u001b[1;31;47mlast_order.csv              2021-07-01 16:34:08  purchases of last order as reorder              complete  0.31180      0.31202       \u001b[0m\n",
            "random_k_prod.csv           2021-07-01 16:18:53  k most reordered prod(weighted) by user         complete  0.24865      0.24653       \n",
            "random_k_prod.csv           2021-07-01 16:10:04  k most reordered prod by user                   complete  0.16905      0.16757       \n",
            "random_6_prod.csv           2021-07-01 15:45:50  Random 6 products per order                     complete  0.13114      0.13044       \n",
            "all_prior_prod.csv          2021-07-01 15:37:03  Dumb Baseline Model                             complete  0.21648      0.21527       \n"
          ],
          "name": "stdout"
        }
      ]
    },
    {
      "cell_type": "code",
      "metadata": {
        "id": "mp8kR4FqC4Z8"
      },
      "source": [
        "del dataset['prediction']"
      ],
      "execution_count": null,
      "outputs": []
    },
    {
      "cell_type": "markdown",
      "metadata": {
        "id": "ojAOp0tEDbqO"
      },
      "source": [
        "Data | F1-score\n",
        "--- | ---\n",
        "Train | 0.3115\n",
        "CV | 0.3095\n",
        "Test | 0.3120\n",
        "\n",
        "**Any sensible ML model must give test f1-score of more than 0.3120.**"
      ]
    },
    {
      "cell_type": "markdown",
      "metadata": {
        "id": "ACzv7zyCzP4J"
      },
      "source": [
        "### 6.Predict reorders of last order as a reorder:"
      ]
    },
    {
      "cell_type": "code",
      "metadata": {
        "id": "x6vJovBoEONw"
      },
      "source": [
        "def get_products_dataframe(df):\n",
        "    \"\"\"Returns string: space delimited product_ids of user's last order's reordered products.\"\"\"\n",
        "    last_order_number = df.order_number.max()\n",
        "    reordered_prod = df.loc[(df.order_number==last_order_number) & (df.reordered==1),['product_id']]\n",
        "    return reordered_prod"
      ],
      "execution_count": null,
      "outputs": []
    },
    {
      "cell_type": "code",
      "metadata": {
        "colab": {
          "base_uri": "https://localhost:8080/",
          "height": 142
        },
        "id": "GN_y9sbNEONz",
        "outputId": "c03d9519-42bc-4447-a47d-dd7d4e74b70b"
      },
      "source": [
        "prediction = prior_data.groupby('user_id')\\\n",
        "                        .apply(get_products_dataframe)\n",
        "prediction = prediction.droplevel(level=1)\n",
        "prediction = prediction.reset_index()\n",
        "prediction['prediction'] = 1\n",
        "prediction.head(3)"
      ],
      "execution_count": null,
      "outputs": [
        {
          "output_type": "execute_result",
          "data": {
            "text/html": [
              "<div>\n",
              "<style scoped>\n",
              "    .dataframe tbody tr th:only-of-type {\n",
              "        vertical-align: middle;\n",
              "    }\n",
              "\n",
              "    .dataframe tbody tr th {\n",
              "        vertical-align: top;\n",
              "    }\n",
              "\n",
              "    .dataframe thead th {\n",
              "        text-align: right;\n",
              "    }\n",
              "</style>\n",
              "<table border=\"1\" class=\"dataframe\">\n",
              "  <thead>\n",
              "    <tr style=\"text-align: right;\">\n",
              "      <th></th>\n",
              "      <th>user_id</th>\n",
              "      <th>product_id</th>\n",
              "      <th>prediction</th>\n",
              "    </tr>\n",
              "  </thead>\n",
              "  <tbody>\n",
              "    <tr>\n",
              "      <th>0</th>\n",
              "      <td>1</td>\n",
              "      <td>196</td>\n",
              "      <td>1</td>\n",
              "    </tr>\n",
              "    <tr>\n",
              "      <th>1</th>\n",
              "      <td>1</td>\n",
              "      <td>46149</td>\n",
              "      <td>1</td>\n",
              "    </tr>\n",
              "    <tr>\n",
              "      <th>2</th>\n",
              "      <td>1</td>\n",
              "      <td>25133</td>\n",
              "      <td>1</td>\n",
              "    </tr>\n",
              "  </tbody>\n",
              "</table>\n",
              "</div>"
            ],
            "text/plain": [
              "   user_id  product_id  prediction\n",
              "0        1         196           1\n",
              "1        1       46149           1\n",
              "2        1       25133           1"
            ]
          },
          "metadata": {
            "tags": []
          },
          "execution_count": 40
        }
      ]
    },
    {
      "cell_type": "code",
      "metadata": {
        "colab": {
          "base_uri": "https://localhost:8080/",
          "height": 131
        },
        "id": "Tidn6SxOEON4",
        "outputId": "a9be7053-e930-4c48-9226-57d995120ad2"
      },
      "source": [
        "dataset = dataset.merge(prediction,on=['user_id','product_id'],how='left')\n",
        "dataset['prediction'] = dataset['prediction'].fillna(0)\n",
        "dataset.head(2)"
      ],
      "execution_count": null,
      "outputs": [
        {
          "output_type": "execute_result",
          "data": {
            "text/html": [
              "<div>\n",
              "<style scoped>\n",
              "    .dataframe tbody tr th:only-of-type {\n",
              "        vertical-align: middle;\n",
              "    }\n",
              "\n",
              "    .dataframe tbody tr th {\n",
              "        vertical-align: top;\n",
              "    }\n",
              "\n",
              "    .dataframe thead th {\n",
              "        text-align: right;\n",
              "    }\n",
              "</style>\n",
              "<table border=\"1\" class=\"dataframe\">\n",
              "  <thead>\n",
              "    <tr style=\"text-align: right;\">\n",
              "      <th></th>\n",
              "      <th>user_id</th>\n",
              "      <th>product_id</th>\n",
              "      <th>order_id</th>\n",
              "      <th>eval_set</th>\n",
              "      <th>reordered</th>\n",
              "      <th>#reorders_u</th>\n",
              "      <th>#purchases_u</th>\n",
              "      <th>#first_purchases_u</th>\n",
              "      <th>p(reorder|user)_u</th>\n",
              "      <th>mean_#reorders_u</th>\n",
              "      <th>median_#reorders_u</th>\n",
              "      <th>min_#reorders_u</th>\n",
              "      <th>max_#reorders_u</th>\n",
              "      <th>mean_#purchases_u</th>\n",
              "      <th>median_#purchases_u</th>\n",
              "      <th>min_#purchases_u</th>\n",
              "      <th>max_#purchases_u</th>\n",
              "      <th>mean_#first_purchases_u</th>\n",
              "      <th>median_#first_purchases_u</th>\n",
              "      <th>min_#first_purchases_u</th>\n",
              "      <th>max_#first_purchases_u</th>\n",
              "      <th>mean_p(reorder|user,order)_u</th>\n",
              "      <th>median_p(reorder|user,order)_u</th>\n",
              "      <th>min_p(reorder|user,order)_u</th>\n",
              "      <th>max_p(reorder|user,order)_u</th>\n",
              "      <th>dep_target_enc</th>\n",
              "      <th>aisle_target_enc</th>\n",
              "      <th>eatable</th>\n",
              "      <th>#avg_reorders_dep</th>\n",
              "      <th>p(reorder|dep_of_prod)</th>\n",
              "      <th>#avg_reorders_aisle</th>\n",
              "      <th>p(reorder|aisle_of_prod)</th>\n",
              "      <th>#reorders_p</th>\n",
              "      <th>#purchases_p</th>\n",
              "      <th>#first_purchases_p</th>\n",
              "      <th>p(reorder|product)_p</th>\n",
              "      <th>#reorders_up</th>\n",
              "      <th>p(reorder|user,product)_up</th>\n",
              "      <th>reordered_in_last_order</th>\n",
              "      <th>reordered_in_2ndlast_order</th>\n",
              "      <th>reordered_in_3rdlast_order</th>\n",
              "      <th>prediction</th>\n",
              "    </tr>\n",
              "  </thead>\n",
              "  <tbody>\n",
              "    <tr>\n",
              "      <th>0</th>\n",
              "      <td>2</td>\n",
              "      <td>13176</td>\n",
              "      <td>1492625</td>\n",
              "      <td>train</td>\n",
              "      <td>0.0</td>\n",
              "      <td>93.0</td>\n",
              "      <td>195</td>\n",
              "      <td>102.0</td>\n",
              "      <td>0.476923</td>\n",
              "      <td>7.153846</td>\n",
              "      <td>9.0</td>\n",
              "      <td>0</td>\n",
              "      <td>14</td>\n",
              "      <td>14.0</td>\n",
              "      <td>14.0</td>\n",
              "      <td>5</td>\n",
              "      <td>26</td>\n",
              "      <td>6.846154</td>\n",
              "      <td>7.0</td>\n",
              "      <td>1</td>\n",
              "      <td>12</td>\n",
              "      <td>0.482419</td>\n",
              "      <td>0.571429</td>\n",
              "      <td>0.0</td>\n",
              "      <td>0.888889</td>\n",
              "      <td>0.128464</td>\n",
              "      <td>0.169311</td>\n",
              "      <td>1</td>\n",
              "      <td>3658.37886</td>\n",
              "      <td>0.649913</td>\n",
              "      <td>6846.777487</td>\n",
              "      <td>0.718104</td>\n",
              "      <td>315913.0</td>\n",
              "      <td>379450.0</td>\n",
              "      <td>63537.0</td>\n",
              "      <td>0.832555</td>\n",
              "      <td>0</td>\n",
              "      <td>0.000000</td>\n",
              "      <td>0</td>\n",
              "      <td>0</td>\n",
              "      <td>0</td>\n",
              "      <td>0.0</td>\n",
              "    </tr>\n",
              "    <tr>\n",
              "      <th>1</th>\n",
              "      <td>2</td>\n",
              "      <td>41787</td>\n",
              "      <td>1492625</td>\n",
              "      <td>train</td>\n",
              "      <td>1.0</td>\n",
              "      <td>93.0</td>\n",
              "      <td>195</td>\n",
              "      <td>102.0</td>\n",
              "      <td>0.476923</td>\n",
              "      <td>7.153846</td>\n",
              "      <td>9.0</td>\n",
              "      <td>0</td>\n",
              "      <td>14</td>\n",
              "      <td>14.0</td>\n",
              "      <td>14.0</td>\n",
              "      <td>5</td>\n",
              "      <td>26</td>\n",
              "      <td>6.846154</td>\n",
              "      <td>7.0</td>\n",
              "      <td>1</td>\n",
              "      <td>12</td>\n",
              "      <td>0.482419</td>\n",
              "      <td>0.571429</td>\n",
              "      <td>0.0</td>\n",
              "      <td>0.888889</td>\n",
              "      <td>0.128464</td>\n",
              "      <td>0.169311</td>\n",
              "      <td>1</td>\n",
              "      <td>3658.37886</td>\n",
              "      <td>0.649913</td>\n",
              "      <td>6846.777487</td>\n",
              "      <td>0.718104</td>\n",
              "      <td>23015.0</td>\n",
              "      <td>35413.0</td>\n",
              "      <td>12398.0</td>\n",
              "      <td>0.649903</td>\n",
              "      <td>1</td>\n",
              "      <td>0.076923</td>\n",
              "      <td>0</td>\n",
              "      <td>0</td>\n",
              "      <td>0</td>\n",
              "      <td>0.0</td>\n",
              "    </tr>\n",
              "  </tbody>\n",
              "</table>\n",
              "</div>"
            ],
            "text/plain": [
              "   user_id  product_id  ...  reordered_in_3rdlast_order prediction\n",
              "0        2       13176  ...                           0        0.0\n",
              "1        2       41787  ...                           0        0.0\n",
              "\n",
              "[2 rows x 42 columns]"
            ]
          },
          "metadata": {
            "tags": []
          },
          "execution_count": 41
        }
      ]
    },
    {
      "cell_type": "code",
      "metadata": {
        "colab": {
          "base_uri": "https://localhost:8080/"
        },
        "id": "_D1UveMoEON8",
        "outputId": "5092a800-5ec6-4b8b-c1b2-2d996088186a"
      },
      "source": [
        "f,pr,re = f_score(dataset[dataset.eval_set=='train'],'prediction',True)\n",
        "printb('\\tTrain')\n",
        "print('------------------------------')\n",
        "print('Precision:',pr)\n",
        "print('Recall   :',re)\n",
        "print('F1-score :',f)"
      ],
      "execution_count": null,
      "outputs": [
        {
          "output_type": "stream",
          "text": [
            "\u001b[1m\tTrain\u001b[0m\n",
            "------------------------------\n",
            "Precision: 0.36659992740179564\n",
            "Recall   : 0.3478140704088926\n",
            "F1-score : 0.32665589705750153\n"
          ],
          "name": "stdout"
        }
      ]
    },
    {
      "cell_type": "code",
      "metadata": {
        "colab": {
          "base_uri": "https://localhost:8080/"
        },
        "id": "1yzItWqJEON9",
        "outputId": "903d6c7c-f5e1-46f4-e450-03bb2ddc6b90"
      },
      "source": [
        "f,pr,re = f_score(dataset[dataset.eval_set=='cv'],'prediction',True)\n",
        "printb('\\tCV')\n",
        "print('------------------------------')\n",
        "print('Precision:',pr)\n",
        "print('Recall   :',re)\n",
        "print('F1-score :',f)"
      ],
      "execution_count": null,
      "outputs": [
        {
          "output_type": "stream",
          "text": [
            "\u001b[1m\tCV\u001b[0m\n",
            "------------------------------\n",
            "Precision: 0.36370208855045355\n",
            "Recall   : 0.3445139459523401\n",
            "F1-score : 0.3230913244011057\n"
          ],
          "name": "stdout"
        }
      ]
    },
    {
      "cell_type": "code",
      "metadata": {
        "colab": {
          "base_uri": "https://localhost:8080/"
        },
        "id": "x3KRCH1EUbFs",
        "outputId": "a4e40043-3fcf-4ed7-dcf5-6e7e4fbc2cc5"
      },
      "source": [
        "submission(dataset[dataset.eval_set=='test'],\n",
        "           'prediction',\n",
        "           msg='reorders of last order as prediction',\n",
        "           sub_file_name='last_order.csv')"
      ],
      "execution_count": null,
      "outputs": [
        {
          "output_type": "stream",
          "text": [
            "Warning: Looks like you're using an outdated API Version, please consider updating (server 1.5.12 / client 1.5.4)\n",
            "fileName                    date                 description                                     status    publicScore  privateScore  \n",
            "--------------------------  -------------------  ----------------------------------------------  --------  -----------  ------------  \n",
            "\u001b[1;31;47mlast_order.csv              2021-07-01 16:47:38  reorders of last order as prediction            complete  0.32768      0.32763       \u001b[0m\n",
            "last_order.csv              2021-07-01 16:34:08  purchases of last order as reorder              complete  0.31180      0.31202       \n",
            "random_k_prod.csv           2021-07-01 16:18:53  k most reordered prod(weighted) by user         complete  0.24865      0.24653       \n",
            "random_k_prod.csv           2021-07-01 16:10:04  k most reordered prod by user                   complete  0.16905      0.16757       \n",
            "random_6_prod.csv           2021-07-01 15:45:50  Random 6 products per order                     complete  0.13114      0.13044       \n",
            "all_prior_prod.csv          2021-07-01 15:37:03  Dumb Baseline Model                             complete  0.21648      0.21527       \n"
          ],
          "name": "stdout"
        }
      ]
    },
    {
      "cell_type": "code",
      "metadata": {
        "id": "xaF1MbRo9p5u"
      },
      "source": [
        "del prediction"
      ],
      "execution_count": null,
      "outputs": []
    },
    {
      "cell_type": "code",
      "metadata": {
        "id": "V4Q7FZV4EON_"
      },
      "source": [
        "del dataset['prediction']"
      ],
      "execution_count": null,
      "outputs": []
    },
    {
      "cell_type": "markdown",
      "metadata": {
        "id": "nTpYtMvmG1aG"
      },
      "source": [
        "Data | F1-score\n",
        "--- | ---\n",
        "Train | 0.3267\n",
        "CV | 0.3231\n",
        "Test | 0.3276\n",
        "\n",
        "**Any sensible ML model must give test f1-score of more than 0.3276.**"
      ]
    },
    {
      "cell_type": "markdown",
      "metadata": {
        "id": "rWlmtcYgHJXL"
      },
      "source": [
        "### Summary of Baseline models:\n",
        "Baseline-Model | Test F1-score | Rank\n",
        "--- | --- | ---\n",
        "1 | 0.2153 | 4th\n",
        "2 | 0.1304 | 6th\n",
        "3 | 0.1676 | 5th\n",
        "4 | 0.2465 | 3rd\n",
        "5 | 0.3120 | 2nd\n",
        "6 | 0.3276 | 1st\n",
        "\n",
        "**The best baseline model we got is when we predict reorders of last order of customer as reorder.\n",
        "Any sensible ML model must perform better than this.**\n",
        "\n",
        "---\n",
        "\n"
      ]
    }
  ]
}