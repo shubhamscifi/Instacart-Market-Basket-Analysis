{
  "nbformat": 4,
  "nbformat_minor": 0,
  "metadata": {
    "colab": {
      "name": "6. First-Cut Approach.ipynb",
      "provenance": [],
      "collapsed_sections": [],
      "toc_visible": true,
      "authorship_tag": "ABX9TyMix9Qy8wxfzU3GsAE5CnXc",
      "include_colab_link": true
    },
    "kernelspec": {
      "name": "python3",
      "display_name": "Python 3"
    },
    "language_info": {
      "name": "python"
    }
  },
  "cells": [
    {
      "cell_type": "markdown",
      "metadata": {
        "id": "view-in-github",
        "colab_type": "text"
      },
      "source": [
        "<a href=\"https://colab.research.google.com/github/shubhamscifi/Instacart-Market-Basket-Analysis/blob/main/6.%20First-Cut%20Approach.ipynb\" target=\"_parent\"><img src=\"https://colab.research.google.com/assets/colab-badge.svg\" alt=\"Open In Colab\"/></a>"
      ]
    },
    {
      "cell_type": "markdown",
      "metadata": {
        "id": "ddz-BwQy2-S-"
      },
      "source": [
        "# **[Instacart Market Basket Analysis](https://www.kaggle.com/c/instacart-market-basket-analysis/)**\n",
        "\n",
        "---\n",
        "- Given order_id predict all the products that the user will reorder.\n",
        "\n",
        "---\n",
        "\n",
        "\n",
        "\n",
        "\n",
        "\n",
        "\n"
      ]
    },
    {
      "cell_type": "markdown",
      "metadata": {
        "id": "g12i9UdRWOwy"
      },
      "source": [
        "## Importing libraries"
      ]
    },
    {
      "cell_type": "code",
      "metadata": {
        "id": "8xsk-yqDBXSA"
      },
      "source": [
        "import plotly\n",
        "import plotly.express as px\n",
        "import numpy as np\n",
        "from scipy import stats\n",
        "import pandas as pd\n",
        "import matplotlib.pyplot as plt\n",
        "import seaborn as sns\n",
        "sns.set()\n",
        "import re\n",
        "import gc   # garbage collector\n",
        "import pickle\n",
        "# https://pypi.org/project/tqdm/#:~:text=jupyter%20console.%20Use-,auto,-instead%20of%20autonotebook\n",
        "from tqdm.auto import tqdm\n",
        "import time\n",
        "from joblib import Parallel, delayed\n",
        "from sklearn.metrics import f1_score,confusion_matrix,\\\n",
        "                            precision_recall_fscore_support,classification_report,\\\n",
        "                            accuracy_score,log_loss\n",
        "from sklearn.model_selection import train_test_split\n",
        "\n",
        "bold = lambda string: '\\033[1m'+string+'\\033[0m'    # for bold text\n",
        "printb = lambda string: print('\\033[1m'+string+'\\033[0m')\n",
        "# https://stackoverflow.com/questions/8924173/how-do-i-print-bold-text-in-python/8930747"
      ],
      "execution_count": null,
      "outputs": []
    },
    {
      "cell_type": "markdown",
      "metadata": {
        "id": "bwp2y_BKLOcb"
      },
      "source": [
        "## Kaggle file uploader utility:\n",
        "- To upload intermediate tables."
      ]
    },
    {
      "cell_type": "code",
      "metadata": {
        "id": "MoX8a6WRLOcc"
      },
      "source": [
        "def kaggle_file_uploader(files,id='shubhamscifi/instacart',title='instacart',folder='data',msg='',first_time=False,del_after_upload=True):\n",
        "    '''Uploads list of files to kaggle.\n",
        "    Note: make sure to run after kaggle authentication.\n",
        "    id : must be between 6-50 chars after \"username/\".\n",
        "    title : must be between 6-50 chars.\n",
        "    files : list of path of files that are to be uploaded.\n",
        "    first_time: True if the data is being uploaded for the first time.\n",
        "    del_after_upload: True if given folder needs to be deleted after file upload finishes.'''\n",
        "    # https://github.com/Kaggle/kaggle-api\n",
        "\n",
        "    # create data package json file\n",
        "    !mkdir {folder}\n",
        "    !kaggle datasets init -p {folder}\n",
        "\n",
        "    # preparing metadata json file\n",
        "    import json,os\n",
        "    metadata = open(os.path.join(folder,'dataset-metadata.json'),'r+')\n",
        "    meta = json.load(metadata)\n",
        "    meta['id'] = id\n",
        "    meta['title']= title\n",
        "    metadata.seek(0)\n",
        "    json.dump(meta,metadata)\n",
        "    metadata.truncate()\n",
        "    metadata.close()\n",
        "\n",
        "    for file in set(files):\n",
        "        !cp {file} {folder}\n",
        "\n",
        "    # upload dataset to kaggle\n",
        "    if (first_time):\n",
        "        !kaggle datasets create -p {folder}\n",
        "    else:\n",
        "        # Create a New Dataset Version\n",
        "        !kaggle datasets version -p {folder} -m '{msg}'\n",
        "\n",
        "    if (del_after_upload):\n",
        "        !rm -rf {folder}"
      ],
      "execution_count": null,
      "outputs": []
    },
    {
      "cell_type": "markdown",
      "metadata": {
        "id": "x4xSz7nZ-Zsu"
      },
      "source": [
        "## Loading Data"
      ]
    },
    {
      "cell_type": "code",
      "metadata": {
        "colab": {
          "base_uri": "https://localhost:8080/"
        },
        "id": "I6NI3bdOT0-p",
        "outputId": "1be6a6f7-fdb9-45b6-c0d7-b7e6f4624346"
      },
      "source": [
        "# Kaggle authentication\n",
        "from getpass import getpass\n",
        "import os\n",
        "\n",
        "os.environ['KAGGLE_USERNAME'] = \"shubhamscifi\" #input('Enter kaggle username: ') # kaggle username\n",
        "os.environ['KAGGLE_KEY'] = getpass('Enter Token: ') # kaggle api key"
      ],
      "execution_count": null,
      "outputs": [
        {
          "output_type": "stream",
          "text": [
            "Enter Token: ··········\n"
          ],
          "name": "stdout"
        }
      ]
    },
    {
      "cell_type": "markdown",
      "metadata": {
        "id": "W-Ai4H5e2u6w"
      },
      "source": [
        "**Download intermediate prepared tables.**"
      ]
    },
    {
      "cell_type": "code",
      "metadata": {
        "colab": {
          "base_uri": "https://localhost:8080/"
        },
        "id": "e6zJQKy5twH9",
        "outputId": "7c7adea0-cb08-4f1e-b7f4-e29efbc5bb8f"
      },
      "source": [
        "!kaggle datasets download -d shubhamscifi/instacart --unzip"
      ],
      "execution_count": null,
      "outputs": [
        {
          "output_type": "stream",
          "text": [
            "Downloading instacart.zip to /content\n",
            " 99% 1.46G/1.47G [00:13<00:00, 189MB/s]\n",
            "100% 1.47G/1.47G [00:13<00:00, 113MB/s]\n"
          ],
          "name": "stdout"
        }
      ]
    },
    {
      "cell_type": "code",
      "metadata": {
        "colab": {
          "base_uri": "https://localhost:8080/"
        },
        "id": "6MRBg0fBe6mK",
        "outputId": "6e521a14-28af-4da5-9bbf-21d4a79fde7d"
      },
      "source": [
        "%%time\n",
        "dataset = pd.read_feather('dataset.feather')"
      ],
      "execution_count": null,
      "outputs": [
        {
          "output_type": "stream",
          "text": [
            "CPU times: user 2.92 s, sys: 19.8 s, total: 22.7 s\n",
            "Wall time: 1.35 s\n"
          ],
          "name": "stdout"
        }
      ]
    },
    {
      "cell_type": "code",
      "metadata": {
        "id": "w7n_Mhwm3DUa"
      },
      "source": [
        "# loading data into pandas dataframe\n",
        "orders = pd.read_csv('/content/orders.csv',dtype={'order_id':np.uint32,\n",
        "                                                  'user_id' :np.uint32,\n",
        "                                                  'order_number':'uint8',\n",
        "                                                  'order_hour_of_day':'uint8',\n",
        "                                                  'order_dow':'uint8',\n",
        "                                                  'days_since_prior_order':'float16'})\n",
        "dep = pd.read_csv('/content/departments.csv', dtype={'department_id':'uint8',\n",
        "                                                     'department': str})\n",
        "aisles = pd.read_csv('/content/aisles.csv', dtype={'aisle_id':'uint8',\n",
        "                                                     'aisle': str})\n",
        "products = pd.read_csv('/content/products.csv', dtype={'aisle_id':'uint8',\n",
        "                                                     'department_id':'uint8',\n",
        "                                                     'product_name': str,\n",
        "                                                     'product_id': np.uint16})\n",
        "order_products_prior = pd.read_csv('/content/order_products__prior.csv',\n",
        "                                   dtype={'add_to_cart_order':'uint8',\n",
        "                                          'reordered':'uint8',\n",
        "                                          'order_id':np.uint32,\n",
        "                                          'product_id':np.uint16})\n",
        "order_products_train = pd.read_csv('/content/order_products__train.csv',\n",
        "                                   dtype={'add_to_cart_order':'uint8',\n",
        "                                          'reordered':'uint8',\n",
        "                                          'order_id':np.uint32,\n",
        "                                          'product_id':np.uint16})"
      ],
      "execution_count": null,
      "outputs": []
    },
    {
      "cell_type": "markdown",
      "metadata": {
        "id": "sB0EVfxLKo51"
      },
      "source": [
        "## Merging Tables."
      ]
    },
    {
      "cell_type": "code",
      "metadata": {
        "colab": {
          "base_uri": "https://localhost:8080/",
          "height": 439
        },
        "id": "TK6orlOPFxAG",
        "outputId": "e1c317cf-ff8b-4a52-cb92-a6477fdf8918"
      },
      "source": [
        "# Merging relational tables\n",
        "# joining orders and order_products_prior table to get whole prior data table.\n",
        "prior_data = orders.merge(order_products_prior, how='inner', on='order_id')\n",
        "\n",
        "# sorting prior_data to get a more structured data so that we can analyse well.\n",
        "prior_data.sort_values(['user_id','order_number','add_to_cart_order'],inplace=True, axis='index',\\\n",
        "                 ignore_index=True)\n",
        "prior_data"
      ],
      "execution_count": null,
      "outputs": [
        {
          "output_type": "execute_result",
          "data": {
            "text/html": [
              "<div>\n",
              "<style scoped>\n",
              "    .dataframe tbody tr th:only-of-type {\n",
              "        vertical-align: middle;\n",
              "    }\n",
              "\n",
              "    .dataframe tbody tr th {\n",
              "        vertical-align: top;\n",
              "    }\n",
              "\n",
              "    .dataframe thead th {\n",
              "        text-align: right;\n",
              "    }\n",
              "</style>\n",
              "<table border=\"1\" class=\"dataframe\">\n",
              "  <thead>\n",
              "    <tr style=\"text-align: right;\">\n",
              "      <th></th>\n",
              "      <th>order_id</th>\n",
              "      <th>user_id</th>\n",
              "      <th>eval_set</th>\n",
              "      <th>order_number</th>\n",
              "      <th>order_dow</th>\n",
              "      <th>order_hour_of_day</th>\n",
              "      <th>days_since_prior_order</th>\n",
              "      <th>product_id</th>\n",
              "      <th>add_to_cart_order</th>\n",
              "      <th>reordered</th>\n",
              "    </tr>\n",
              "  </thead>\n",
              "  <tbody>\n",
              "    <tr>\n",
              "      <th>0</th>\n",
              "      <td>2539329</td>\n",
              "      <td>1</td>\n",
              "      <td>prior</td>\n",
              "      <td>1</td>\n",
              "      <td>2</td>\n",
              "      <td>8</td>\n",
              "      <td>NaN</td>\n",
              "      <td>196</td>\n",
              "      <td>1</td>\n",
              "      <td>0</td>\n",
              "    </tr>\n",
              "    <tr>\n",
              "      <th>1</th>\n",
              "      <td>2539329</td>\n",
              "      <td>1</td>\n",
              "      <td>prior</td>\n",
              "      <td>1</td>\n",
              "      <td>2</td>\n",
              "      <td>8</td>\n",
              "      <td>NaN</td>\n",
              "      <td>14084</td>\n",
              "      <td>2</td>\n",
              "      <td>0</td>\n",
              "    </tr>\n",
              "    <tr>\n",
              "      <th>2</th>\n",
              "      <td>2539329</td>\n",
              "      <td>1</td>\n",
              "      <td>prior</td>\n",
              "      <td>1</td>\n",
              "      <td>2</td>\n",
              "      <td>8</td>\n",
              "      <td>NaN</td>\n",
              "      <td>12427</td>\n",
              "      <td>3</td>\n",
              "      <td>0</td>\n",
              "    </tr>\n",
              "    <tr>\n",
              "      <th>3</th>\n",
              "      <td>2539329</td>\n",
              "      <td>1</td>\n",
              "      <td>prior</td>\n",
              "      <td>1</td>\n",
              "      <td>2</td>\n",
              "      <td>8</td>\n",
              "      <td>NaN</td>\n",
              "      <td>26088</td>\n",
              "      <td>4</td>\n",
              "      <td>0</td>\n",
              "    </tr>\n",
              "    <tr>\n",
              "      <th>4</th>\n",
              "      <td>2539329</td>\n",
              "      <td>1</td>\n",
              "      <td>prior</td>\n",
              "      <td>1</td>\n",
              "      <td>2</td>\n",
              "      <td>8</td>\n",
              "      <td>NaN</td>\n",
              "      <td>26405</td>\n",
              "      <td>5</td>\n",
              "      <td>0</td>\n",
              "    </tr>\n",
              "    <tr>\n",
              "      <th>...</th>\n",
              "      <td>...</td>\n",
              "      <td>...</td>\n",
              "      <td>...</td>\n",
              "      <td>...</td>\n",
              "      <td>...</td>\n",
              "      <td>...</td>\n",
              "      <td>...</td>\n",
              "      <td>...</td>\n",
              "      <td>...</td>\n",
              "      <td>...</td>\n",
              "    </tr>\n",
              "    <tr>\n",
              "      <th>32434484</th>\n",
              "      <td>2977660</td>\n",
              "      <td>206209</td>\n",
              "      <td>prior</td>\n",
              "      <td>13</td>\n",
              "      <td>1</td>\n",
              "      <td>12</td>\n",
              "      <td>7.0</td>\n",
              "      <td>14197</td>\n",
              "      <td>5</td>\n",
              "      <td>1</td>\n",
              "    </tr>\n",
              "    <tr>\n",
              "      <th>32434485</th>\n",
              "      <td>2977660</td>\n",
              "      <td>206209</td>\n",
              "      <td>prior</td>\n",
              "      <td>13</td>\n",
              "      <td>1</td>\n",
              "      <td>12</td>\n",
              "      <td>7.0</td>\n",
              "      <td>38730</td>\n",
              "      <td>6</td>\n",
              "      <td>0</td>\n",
              "    </tr>\n",
              "    <tr>\n",
              "      <th>32434486</th>\n",
              "      <td>2977660</td>\n",
              "      <td>206209</td>\n",
              "      <td>prior</td>\n",
              "      <td>13</td>\n",
              "      <td>1</td>\n",
              "      <td>12</td>\n",
              "      <td>7.0</td>\n",
              "      <td>31477</td>\n",
              "      <td>7</td>\n",
              "      <td>0</td>\n",
              "    </tr>\n",
              "    <tr>\n",
              "      <th>32434487</th>\n",
              "      <td>2977660</td>\n",
              "      <td>206209</td>\n",
              "      <td>prior</td>\n",
              "      <td>13</td>\n",
              "      <td>1</td>\n",
              "      <td>12</td>\n",
              "      <td>7.0</td>\n",
              "      <td>6567</td>\n",
              "      <td>8</td>\n",
              "      <td>0</td>\n",
              "    </tr>\n",
              "    <tr>\n",
              "      <th>32434488</th>\n",
              "      <td>2977660</td>\n",
              "      <td>206209</td>\n",
              "      <td>prior</td>\n",
              "      <td>13</td>\n",
              "      <td>1</td>\n",
              "      <td>12</td>\n",
              "      <td>7.0</td>\n",
              "      <td>22920</td>\n",
              "      <td>9</td>\n",
              "      <td>0</td>\n",
              "    </tr>\n",
              "  </tbody>\n",
              "</table>\n",
              "<p>32434489 rows × 10 columns</p>\n",
              "</div>"
            ],
            "text/plain": [
              "          order_id  user_id eval_set  ...  product_id  add_to_cart_order  reordered\n",
              "0          2539329        1    prior  ...         196                  1          0\n",
              "1          2539329        1    prior  ...       14084                  2          0\n",
              "2          2539329        1    prior  ...       12427                  3          0\n",
              "3          2539329        1    prior  ...       26088                  4          0\n",
              "4          2539329        1    prior  ...       26405                  5          0\n",
              "...            ...      ...      ...  ...         ...                ...        ...\n",
              "32434484   2977660   206209    prior  ...       14197                  5          1\n",
              "32434485   2977660   206209    prior  ...       38730                  6          0\n",
              "32434486   2977660   206209    prior  ...       31477                  7          0\n",
              "32434487   2977660   206209    prior  ...        6567                  8          0\n",
              "32434488   2977660   206209    prior  ...       22920                  9          0\n",
              "\n",
              "[32434489 rows x 10 columns]"
            ]
          },
          "metadata": {
            "tags": []
          },
          "execution_count": 35
        }
      ]
    },
    {
      "cell_type": "code",
      "metadata": {
        "colab": {
          "base_uri": "https://localhost:8080/",
          "height": 419
        },
        "id": "zJYiHOhq_VMl",
        "outputId": "54c44fcb-82c4-4e75-d865-c509308e3c17"
      },
      "source": [
        "prod_info = products.merge(dep,on='department_id').merge(aisles,on='aisle_id')\n",
        "prod_info"
      ],
      "execution_count": null,
      "outputs": [
        {
          "output_type": "execute_result",
          "data": {
            "text/html": [
              "<div>\n",
              "<style scoped>\n",
              "    .dataframe tbody tr th:only-of-type {\n",
              "        vertical-align: middle;\n",
              "    }\n",
              "\n",
              "    .dataframe tbody tr th {\n",
              "        vertical-align: top;\n",
              "    }\n",
              "\n",
              "    .dataframe thead th {\n",
              "        text-align: right;\n",
              "    }\n",
              "</style>\n",
              "<table border=\"1\" class=\"dataframe\">\n",
              "  <thead>\n",
              "    <tr style=\"text-align: right;\">\n",
              "      <th></th>\n",
              "      <th>product_id</th>\n",
              "      <th>product_name</th>\n",
              "      <th>aisle_id</th>\n",
              "      <th>department_id</th>\n",
              "      <th>department</th>\n",
              "      <th>aisle</th>\n",
              "    </tr>\n",
              "  </thead>\n",
              "  <tbody>\n",
              "    <tr>\n",
              "      <th>0</th>\n",
              "      <td>1</td>\n",
              "      <td>Chocolate Sandwich Cookies</td>\n",
              "      <td>61</td>\n",
              "      <td>19</td>\n",
              "      <td>snacks</td>\n",
              "      <td>cookies cakes</td>\n",
              "    </tr>\n",
              "    <tr>\n",
              "      <th>1</th>\n",
              "      <td>78</td>\n",
              "      <td>Nutter Butter Cookie Bites Go-Pak</td>\n",
              "      <td>61</td>\n",
              "      <td>19</td>\n",
              "      <td>snacks</td>\n",
              "      <td>cookies cakes</td>\n",
              "    </tr>\n",
              "    <tr>\n",
              "      <th>2</th>\n",
              "      <td>102</td>\n",
              "      <td>Danish Butter Cookies</td>\n",
              "      <td>61</td>\n",
              "      <td>19</td>\n",
              "      <td>snacks</td>\n",
              "      <td>cookies cakes</td>\n",
              "    </tr>\n",
              "    <tr>\n",
              "      <th>3</th>\n",
              "      <td>172</td>\n",
              "      <td>Gluten Free All Natural Chocolate Chip Cookies</td>\n",
              "      <td>61</td>\n",
              "      <td>19</td>\n",
              "      <td>snacks</td>\n",
              "      <td>cookies cakes</td>\n",
              "    </tr>\n",
              "    <tr>\n",
              "      <th>4</th>\n",
              "      <td>285</td>\n",
              "      <td>Mini Nilla Wafers Munch Pack</td>\n",
              "      <td>61</td>\n",
              "      <td>19</td>\n",
              "      <td>snacks</td>\n",
              "      <td>cookies cakes</td>\n",
              "    </tr>\n",
              "    <tr>\n",
              "      <th>...</th>\n",
              "      <td>...</td>\n",
              "      <td>...</td>\n",
              "      <td>...</td>\n",
              "      <td>...</td>\n",
              "      <td>...</td>\n",
              "      <td>...</td>\n",
              "    </tr>\n",
              "    <tr>\n",
              "      <th>49683</th>\n",
              "      <td>22827</td>\n",
              "      <td>Organic Black Mission Figs</td>\n",
              "      <td>18</td>\n",
              "      <td>10</td>\n",
              "      <td>bulk</td>\n",
              "      <td>bulk dried fruits vegetables</td>\n",
              "    </tr>\n",
              "    <tr>\n",
              "      <th>49684</th>\n",
              "      <td>28655</td>\n",
              "      <td>Crystallized Ginger Chunks</td>\n",
              "      <td>18</td>\n",
              "      <td>10</td>\n",
              "      <td>bulk</td>\n",
              "      <td>bulk dried fruits vegetables</td>\n",
              "    </tr>\n",
              "    <tr>\n",
              "      <th>49685</th>\n",
              "      <td>30365</td>\n",
              "      <td>Vegetable Chips</td>\n",
              "      <td>18</td>\n",
              "      <td>10</td>\n",
              "      <td>bulk</td>\n",
              "      <td>bulk dried fruits vegetables</td>\n",
              "    </tr>\n",
              "    <tr>\n",
              "      <th>49686</th>\n",
              "      <td>38007</td>\n",
              "      <td>Naturally Sweet Plantain Chips</td>\n",
              "      <td>18</td>\n",
              "      <td>10</td>\n",
              "      <td>bulk</td>\n",
              "      <td>bulk dried fruits vegetables</td>\n",
              "    </tr>\n",
              "    <tr>\n",
              "      <th>49687</th>\n",
              "      <td>48778</td>\n",
              "      <td>Fit Super A Juice, Cold Pressed, Carrot/Apple/...</td>\n",
              "      <td>18</td>\n",
              "      <td>10</td>\n",
              "      <td>bulk</td>\n",
              "      <td>bulk dried fruits vegetables</td>\n",
              "    </tr>\n",
              "  </tbody>\n",
              "</table>\n",
              "<p>49688 rows × 6 columns</p>\n",
              "</div>"
            ],
            "text/plain": [
              "       product_id  ...                         aisle\n",
              "0               1  ...                 cookies cakes\n",
              "1              78  ...                 cookies cakes\n",
              "2             102  ...                 cookies cakes\n",
              "3             172  ...                 cookies cakes\n",
              "4             285  ...                 cookies cakes\n",
              "...           ...  ...                           ...\n",
              "49683       22827  ...  bulk dried fruits vegetables\n",
              "49684       28655  ...  bulk dried fruits vegetables\n",
              "49685       30365  ...  bulk dried fruits vegetables\n",
              "49686       38007  ...  bulk dried fruits vegetables\n",
              "49687       48778  ...  bulk dried fruits vegetables\n",
              "\n",
              "[49688 rows x 6 columns]"
            ]
          },
          "metadata": {
            "tags": []
          },
          "execution_count": 9
        }
      ]
    },
    {
      "cell_type": "markdown",
      "metadata": {
        "id": "QsJc8SvEY3pM"
      },
      "source": [
        "\n",
        "\n",
        "---\n",
        "\n"
      ]
    },
    {
      "cell_type": "markdown",
      "metadata": {
        "id": "tEjSIHvmgRB8"
      },
      "source": [
        "## First-Cut Approach\n",
        "- Logistic Regression"
      ]
    },
    {
      "cell_type": "code",
      "metadata": {
        "id": "iwwtbx5cJ2tL"
      },
      "source": [
        "from sklearn.linear_model import SGDClassifier\n",
        "from sklearn.calibration import CalibratedClassifierCV, calibration_curve\n",
        "from sklearn.model_selection import GroupShuffleSplit"
      ],
      "execution_count": null,
      "outputs": []
    },
    {
      "cell_type": "markdown",
      "metadata": {
        "id": "I5uw7peQLM1f"
      },
      "source": [
        "### F1-score function:"
      ]
    },
    {
      "cell_type": "code",
      "metadata": {
        "id": "AyH5blQYBQQ_"
      },
      "source": [
        "def f_score_helper(df,target):\n",
        "    '''\n",
        "    Returns pd.Series of f1-score, precision and recall for given order_id.\n",
        "    '''\n",
        "    TP = df['reordered'] @ df[target] # true positive(numerator)\n",
        "    den_pr = df[target].sum() # denominator for precision\n",
        "    den_re = df['reordered'].sum()  # denominator for recall\n",
        "    if (den_pr==0 and den_re==0):\n",
        "        # if both the actual and prediction is None.\n",
        "        TP+=1\n",
        "    if den_pr==0:\n",
        "        # if prediction is None.\n",
        "        den_pr+=1\n",
        "    if den_re==0:\n",
        "        # if actual is None.\n",
        "        den_re+=1\n",
        "    \n",
        "    return pd.Series({'f_score':2*TP/(den_re+den_pr),\n",
        "                      'precision' :TP/(den_pr),\n",
        "                      'recall': TP/(den_re)})\n",
        "\n",
        "def f_score(dataset,target='reordered',pr_re=False):\n",
        "    '''\n",
        "    Returns Samples F1-score.\n",
        "\n",
        "    pr_re : if True return (f-score, precision & recall) otherwise only f-score.\n",
        "    '''\n",
        "    # dataframe to contain contribution of each order_id to precision and recall.\n",
        "    f_score,pr,re = dataset[['order_id','reordered',target]]\\\n",
        "                    .groupby('order_id')\\\n",
        "                    .apply(f_score_helper,target)\\\n",
        "                    .mean()\n",
        "    \n",
        "    if (pr_re==True):\n",
        "        return f_score,pr,re\n",
        "    return f_score"
      ],
      "execution_count": null,
      "outputs": []
    },
    {
      "cell_type": "markdown",
      "metadata": {
        "id": "9rrONoELOeUg"
      },
      "source": [
        "### Utility Functions:"
      ]
    },
    {
      "cell_type": "markdown",
      "metadata": {
        "id": "i0yo96SyF9Al"
      },
      "source": [
        "**Submission Function for test data:**"
      ]
    },
    {
      "cell_type": "code",
      "metadata": {
        "id": "gW39KvCvPqM4"
      },
      "source": [
        "def get_reordered_prod_string(df,target='reordered'):\n",
        "    '''Returns string: space delimited product_ids of reordered products.'''\n",
        "    reordered_prod_list = ' '.join(list(map(str,df.loc[df[target]==1,'product_id'])))\n",
        "    if len(reordered_prod_list)!=0:\n",
        "        return reordered_prod_list\n",
        "    else:   # if no reordered products\n",
        "        return 'None'\n",
        "\n",
        "def submission(prediction,target='reordered',msg='',sub_file_name='submission.csv'):\n",
        "    '''Submits the prediction and prints the result.'''\n",
        "\n",
        "    # creating submission dataframe as mentioned here\n",
        "    # https://www.kaggle.com/c/instacart-market-basket-analysis/overview/evaluation\n",
        "    sub = prediction[['order_id','product_id','reordered',target]].groupby(['order_id'])\\\n",
        "                    .apply(lambda df: get_reordered_prod_string(df,target))\\\n",
        "                    .reset_index()\n",
        "\n",
        "    sub.columns = ['order_id','products']\n",
        "    sub.to_csv(sub_file_name,index=False)\n",
        "\n",
        "    # Submit a competition\n",
        "    # https://github.com/Kaggle/kaggle-api#submit-to-a-competition\n",
        "    !kaggle competitions submit instacart-market-basket-analysis -f {sub_file_name} -m '{msg}'\n",
        "\n",
        "    time.sleep(2)\n",
        "    \n",
        "    # List my competition submissions\n",
        "    # https://github.com/Kaggle/kaggle-api#list-competition-submissions\n",
        "    result = !kaggle competitions submissions instacart-market-basket-analysis\n",
        "    result[3] = \"\\033[1;31;47m\"+result[3]+\"\\033[0m\" # changing string color & background. https://ozzmaker.com/add-colour-to-text-in-python/\n",
        "    print('\\n'.join(result[:-37]))"
      ],
      "execution_count": null,
      "outputs": []
    },
    {
      "cell_type": "code",
      "metadata": {
        "id": "AhsluKJIh3gL"
      },
      "source": [
        "def batch_predict_proba(clf,dataset,batch_size):\n",
        "    '''\n",
        "    Return the predicted probability for each class for each sample; one batch at a time.\n",
        "    Saves RAM.\n",
        "    '''\n",
        "    if(isinstance(batch_size,float)):\n",
        "        if(batch_size>1):\n",
        "            print(r\"batch_size must be b\\w [0,1].\")\n",
        "            return\n",
        "        batch_size = round(len(dataset)*batch_size)\n",
        "\n",
        "    loop_size = len(dataset)//batch_size\n",
        "    rem = len(dataset)%batch_size\n",
        "    prob_pred = []\n",
        "    for i in range(loop_size):\n",
        "        start = i*batch_size\n",
        "        end = start+batch_size\n",
        "        prob_pred_batch = list(clf.predict_proba(dataset.iloc[start:end,:]))\n",
        "        prob_pred.extend(prob_pred_batch)\n",
        "    prob_pred_batch = list(clf.predict_proba(dataset.iloc[end:end+rem,:]))\n",
        "    prob_pred.extend(prob_pred_batch)\n",
        "    prob_pred = np.array(prob_pred)\n",
        "    del prob_pred_batch\n",
        "    return prob_pred"
      ],
      "execution_count": null,
      "outputs": []
    },
    {
      "cell_type": "code",
      "metadata": {
        "id": "1Ya1vW72jQk7"
      },
      "source": [
        "def plot_confusion_matrix(y_true,y_pred,title='',ax=None,cmap='Blues',fmt='d',normalize=None,):\n",
        "    \"\"\"\n",
        "    Plot confusion matrix to evaluate the accuracy of a classification.\n",
        "\n",
        "    title : str, plot title.\n",
        "\n",
        "    fmt : str, optional\n",
        "    String formatting code to use when adding annotations.\n",
        "\n",
        "    normalize : {'true', 'pred', 'all'}, default=None\n",
        "    Normalizes confusion matrix over the true (rows), predicted (columns)\n",
        "    conditions or all the population. If None, confusion matrix will not be\n",
        "    normalized.\n",
        "    \"\"\"\n",
        "    cm = confusion_matrix(y_true,\n",
        "                          y_pred,\n",
        "                          normalize=normalize)\n",
        "    sns.heatmap(data=cm,annot=True,fmt=fmt,cmap=cmap,ax=ax)\n",
        "    if(ax!=None):\n",
        "        ax.set_xlabel('Predicted label',)\n",
        "        ax.set_ylabel('True label')\n",
        "        ax.set_title(title);\n",
        "    else:\n",
        "        plt.xlabel('Predicted label',)\n",
        "        plt.ylabel('True label')\n",
        "        plt.title(title);        "
      ],
      "execution_count": null,
      "outputs": []
    },
    {
      "cell_type": "code",
      "metadata": {
        "id": "bwEakffkLmeD"
      },
      "source": [
        "# https://www.analyseup.com/learn-python-for-data-science/python-random-forest-feature-importance-plot.html\n",
        "def plot_feature_importance(importance,ftrs,model_name,labelpad=40,figsize=(10,10),return_ftr_imp=False):\n",
        "    '''\n",
        "    Plots Feature importance plot.\n",
        "    return_ftr_imp : returns a dataframe of (features,importance) \n",
        "                    sorted in descending order of importance.\n",
        "    '''\n",
        "    ftr_imp = pd.DataFrame(data= {'Feature':ftrs,\n",
        "                                'Importance':importance})\n",
        "    ftr_imp.sort_values(['Importance'],\n",
        "                        key=abs,\n",
        "                        ascending=False,\n",
        "                        inplace=True,\n",
        "                        ignore_index=True)\n",
        "    plt.figure(figsize=figsize)\n",
        "    sns.barplot(data=ftr_imp,x='Importance',y='Feature')\n",
        "    plt.ylabel('Feature',rotation=0,labelpad=labelpad)\n",
        "    plt.title(model_name+' Feature Importance.');\n",
        "    if(return_ftr_imp):\n",
        "        return ftr_imp"
      ],
      "execution_count": null,
      "outputs": []
    },
    {
      "cell_type": "code",
      "metadata": {
        "id": "0uwfJxwRHAfd"
      },
      "source": [
        "def plot_calibration_curve(y_true, y_pred, n_bins=10, **kwargs):\n",
        "    prob_true, prob_pred = calibration_curve(y_true,\n",
        "                                             y_pred,\n",
        "                                             n_bins=n_bins,\n",
        "                                             **kwargs)\n",
        "    plt.plot(prob_pred,prob_true)\n",
        "    plt.title(f'Calibration plot (reliability curve) - n_bins = {n_bins}.')\n",
        "    plt.xlabel('Mean predicted probability.')\n",
        "    plt.ylabel('Fraction of positives.');"
      ],
      "execution_count": null,
      "outputs": []
    },
    {
      "cell_type": "markdown",
      "metadata": {
        "id": "0t6yp-395Q1N"
      },
      "source": [
        "### Hyperparameter Tuning:"
      ]
    },
    {
      "cell_type": "code",
      "metadata": {
        "colab": {
          "base_uri": "https://localhost:8080/",
          "height": 66,
          "referenced_widgets": [
            "09ca35c292894ce7ba1a7f81d9cbc6ad",
            "740048fbc3ae46dea235f9f0f3ba8e0a",
            "1847757a21c1461e9fcfdd4d2f847041",
            "fbc2054b93eb46b5a5d9852150e9e24e",
            "e8e1840cbff04b399cd4fea2c4526a6d",
            "387d3e0053cf48f28e3c91313ed08558",
            "baca55e37150439f9b3909071b80587d",
            "f045fea056604e1a9664f877d1c48ce7"
          ]
        },
        "id": "ZV79ufVqiAC5",
        "outputId": "bece34be-891e-4fec-e162-a2e4178d4bf0"
      },
      "source": [
        "## optimal learning with encoded ftrs\n",
        "clf_list = []\n",
        "f_score_tr_list = []\n",
        "f_score_cv_list = []\n",
        "best_score_cv = 0\n",
        "\n",
        "alpha_list = [1e-5, 1e-4, 1e-3, 1e-2, 1e-1]\n",
        "prob_thresh = [0.18, 0.2, 0.22, 0.5, 0.7]\n",
        "\n",
        "t = tqdm(alpha_list)\n",
        "for alpha in t:\n",
        "    clf = SGDClassifier(loss='log',\n",
        "                        alpha=alpha,\n",
        "                        class_weight='balanced',\n",
        "                        penalty='elasticnet',\n",
        "                        n_jobs=-1,\n",
        "                        random_state=34)\n",
        "    \n",
        "    gss = GroupShuffleSplit(n_splits=1, test_size=0.2)\\\n",
        "                .split(dataset.loc[dataset.eval_set=='train',ftrs],\n",
        "                        dataset.loc[dataset.eval_set=='train','reordered'],\n",
        "                        dataset.loc[dataset.eval_set=='train','order_id'])\n",
        "                \n",
        "    calib_clf = CalibratedClassifierCV(clf,\n",
        "                                        method='isotonic',\n",
        "                                        cv=gss,)\n",
        "\n",
        "    calib_clf.fit(dataset.loc[dataset.eval_set=='train',ftrs],\n",
        "                dataset.loc[dataset.eval_set=='train','reordered'])    \n",
        "    prob_pred = calib_clf.predict_proba(dataset[ftrs])\n",
        "\n",
        "    clf_list.append(calib_clf)\n",
        "    score_tr = []\n",
        "    score_cv = []\n",
        "\n",
        "    def get_f_score(th):\n",
        "        '''Returns F1-score by using given th as probability threshold.'''\n",
        "        pred = (prob_pred[:,1]>=th).astype(np.uint8)\n",
        "        pred_name = f'prediction_{th}'\n",
        "        dataset[pred_name] = pred\n",
        "\n",
        "        f_score_tr = f_score(dataset[dataset.eval_set=='train'],\n",
        "                            target=pred_name,\n",
        "                            pr_re=False)       \n",
        "        f_score_cv = f_score(dataset[dataset.eval_set=='cv'],\n",
        "                            target=pred_name,\n",
        "                            pr_re=False)\n",
        "        del dataset[pred_name]\n",
        "        return f_score_tr, f_score_cv\n",
        "\n",
        "    out = Parallel(n_jobs=-1)(delayed(get_f_score)(th) for th in prob_thresh)\n",
        "    score_tr,score_cv = zip(*out)\n",
        "\n",
        "    max_score_cv_idx = np.argmax(score_cv)\n",
        "    if (score_cv[max_score_cv_idx] > best_score_cv):\n",
        "        best_clf = calib_clf\n",
        "        best_th = prob_thresh[max_score_cv_idx]\n",
        "        best_alpha = alpha\n",
        "        best_score_cv = score_cv[max_score_cv_idx]\n",
        "        best_score_tr = score_tr[max_score_cv_idx]\n",
        "        \n",
        "    # print parameters of the best CV score.\n",
        "    t.set_postfix({'Best CV score':best_score_cv,\n",
        "                    'Best alpha':best_alpha,\n",
        "                    'Best threshold':best_th})\n",
        "    \n",
        "    f_score_tr_list.append(score_tr)\n",
        "    f_score_cv_list.append(score_cv)"
      ],
      "execution_count": null,
      "outputs": [
        {
          "output_type": "display_data",
          "data": {
            "application/vnd.jupyter.widget-view+json": {
              "model_id": "09ca35c292894ce7ba1a7f81d9cbc6ad",
              "version_major": 2,
              "version_minor": 0
            },
            "text/plain": [
              "HBox(children=(FloatProgress(value=0.0, max=5.0), HTML(value='')))"
            ]
          },
          "metadata": {
            "tags": []
          }
        },
        {
          "output_type": "stream",
          "text": [
            "\n"
          ],
          "name": "stdout"
        }
      ]
    },
    {
      "cell_type": "code",
      "metadata": {
        "colab": {
          "base_uri": "https://localhost:8080/",
          "height": 246
        },
        "id": "EMuNJRIGmrwt",
        "outputId": "dc8fd1e6-4713-4d82-cd97-5133a90744cd"
      },
      "source": [
        "plt.subplots(figsize=(10,3))\n",
        "sns.heatmap(f_score_cv_list,annot=True,fmt='.5g',linewidths=0.01,\n",
        "            xticklabels=prob_thresh,yticklabels=alpha_list)\n",
        "plt.xlabel('Probability threshold.')\n",
        "plt.ylabel('alpha',rotation=0,labelpad=20)\n",
        "plt.title('Grid Search Result(Validaiton F1-score).');"
      ],
      "execution_count": null,
      "outputs": [
        {
          "output_type": "display_data",
          "data": {
            "image/png": "[encoded data removed]",
            "text/plain": [
              "<Figure size 720x216 with 2 Axes>"
            ]
          },
          "metadata": {
            "tags": []
          }
        }
      ]
    },
    {
      "cell_type": "code",
      "metadata": {
        "colab": {
          "base_uri": "https://localhost:8080/"
        },
        "id": "Xi02DzIYmrw6",
        "outputId": "f7f6935d-cad9-4509-e1a3-6a76788dbfbc"
      },
      "source": [
        "print(\"Classifier having best cross-validation F1-score:\")\n",
        "print('-'*50)\n",
        "print(best_clf)\n",
        "print('Prob threshold:'.ljust(15),best_th)\n",
        "print('alpha:'.ljust(15),best_alpha)\n",
        "print('Train F1-score:'.ljust(15),best_score_tr)\n",
        "print('CV F1-score:'.ljust(15),best_score_cv)"
      ],
      "execution_count": null,
      "outputs": [
        {
          "output_type": "stream",
          "text": [
            "Classifier having best cross-validation F1-score:\n",
            "--------------------------------------------------\n",
            "CalibratedClassifierCV(base_estimator=SGDClassifier(alpha=0.0001, average=False,\n",
            "                                                    class_weight='balanced',\n",
            "                                                    early_stopping=False,\n",
            "                                                    epsilon=0.1, eta0=0.0,\n",
            "                                                    fit_intercept=True,\n",
            "                                                    l1_ratio=0.15,\n",
            "                                                    learning_rate='optimal',\n",
            "                                                    loss='log', max_iter=1000,\n",
            "                                                    n_iter_no_change=5,\n",
            "                                                    n_jobs=-1,\n",
            "                                                    penalty='elasticnet',\n",
            "                                                    power_t=0.5,\n",
            "                                                    random_state=34,\n",
            "                                                    shuffle=True, tol=0.001,\n",
            "                                                    validation_fraction=0.1,\n",
            "                                                    verbose=0,\n",
            "                                                    warm_start=False),\n",
            "                       cv=<generator object BaseShuffleSplit.split at 0x7fc3ecbe3b50>,\n",
            "                       method='isotonic')\n",
            "Prob threshold: 0.18\n",
            "alpha:          0.0001\n",
            "Train F1-score: 0.36541811928948076\n",
            "CV F1-score:    0.3638688610419028\n"
          ],
          "name": "stdout"
        }
      ]
    },
    {
      "cell_type": "code",
      "metadata": {
        "id": "Glub-dlVKLib"
      },
      "source": [
        ""
      ],
      "execution_count": null,
      "outputs": []
    },
    {
      "cell_type": "markdown",
      "metadata": {
        "id": "QLDB1eo-CUut"
      },
      "source": [
        "### Best Classifier:\n",
        "- alpha = 1e-4\n",
        "- Probability threshold = 0.18"
      ]
    },
    {
      "cell_type": "code",
      "metadata": {
        "colab": {
          "base_uri": "https://localhost:8080/"
        },
        "id": "W0L9eHbmZq47",
        "outputId": "3342bd6b-dec7-4336-f493-854138d5cfb1"
      },
      "source": [
        "%%time\n",
        "best_alpha = 1e-4\n",
        "best_th = 0.18\n",
        "clf = SGDClassifier(loss='log',\n",
        "                        alpha=best_alpha,\n",
        "                        class_weight='balanced',\n",
        "                        penalty='elasticnet',\n",
        "                        n_jobs=-1,\n",
        "                        random_state=34)\n",
        "    \n",
        "gss = GroupShuffleSplit(n_splits=1, test_size=0.2, random_state=0)\\\n",
        "            .split(dataset.loc[dataset.eval_set=='train',ftrs],\n",
        "                    dataset.loc[dataset.eval_set=='train','reordered'],\n",
        "                    dataset.loc[dataset.eval_set=='train','order_id'])\n",
        "            \n",
        "best_clf = CalibratedClassifierCV(clf,\n",
        "                                    method='isotonic',\n",
        "                                    cv=gss,)\n",
        "\n",
        "best_clf.fit(dataset.loc[dataset.eval_set=='train',ftrs],\n",
        "            dataset.loc[dataset.eval_set=='train','reordered'])  "
      ],
      "execution_count": null,
      "outputs": [
        {
          "output_type": "stream",
          "text": [
            "CPU times: user 35.2 s, sys: 6.52 s, total: 41.7 s\n",
            "Wall time: 36.8 s\n"
          ],
          "name": "stdout"
        }
      ]
    },
    {
      "cell_type": "code",
      "metadata": {
        "colab": {
          "base_uri": "https://localhost:8080/"
        },
        "id": "qTsIfbI0C9ev",
        "outputId": "cd790717-a7d6-4aa9-ed38-8f015f353c8b"
      },
      "source": [
        "%%time\n",
        "prob_pred = best_clf.predict_proba(dataset[ftrs])\n",
        "pred = (prob_pred[:,1]>=best_th).astype(np.uint8)\n",
        "dataset['log_reg_pred'] = pred"
      ],
      "execution_count": null,
      "outputs": [
        {
          "output_type": "stream",
          "text": [
            "CPU times: user 7.03 s, sys: 4.27 s, total: 11.3 s\n",
            "Wall time: 4.57 s\n"
          ],
          "name": "stdout"
        }
      ]
    },
    {
      "cell_type": "code",
      "metadata": {
        "colab": {
          "base_uri": "https://localhost:8080/",
          "height": 619
        },
        "id": "0dJMgVQ4WicY",
        "outputId": "ce87c2ce-ef3f-4cf6-99a5-82dfba80c669"
      },
      "source": [
        "# checking if probabilities are well calibrated or not\n",
        "printb('Train:')\n",
        "eval_set = 'train'\n",
        "idx = dataset.loc[dataset.eval_set==eval_set,'eval_set'].index\n",
        "n_bins=10\n",
        "plot_calibration_curve(dataset.loc[dataset.eval_set==eval_set,'reordered'],\n",
        "                        prob_pred[idx,1],\n",
        "                        n_bins=n_bins,\n",
        "                       normalize=False)\n",
        "plt.show()\n",
        "\n",
        "printb('Validation:')\n",
        "eval_set = 'cv'\n",
        "idx = dataset.loc[dataset.eval_set==eval_set,'eval_set'].index\n",
        "n_bins=10\n",
        "plot_calibration_curve(dataset.loc[dataset.eval_set==eval_set,'reordered'],\n",
        "                        prob_pred[idx,1],\n",
        "                        n_bins=n_bins,\n",
        "                       normalize=False)\n",
        "plt.show()"
      ],
      "execution_count": null,
      "outputs": [
        {
          "output_type": "stream",
          "text": [
            "\u001b[1mTrain:\u001b[0m\n"
          ],
          "name": "stdout"
        },
        {
          "output_type": "display_data",
          "data": {
            "image/png": "[encoded data removed]",
            "text/plain": [
              "<Figure size 432x288 with 1 Axes>"
            ]
          },
          "metadata": {
            "tags": []
          }
        },
        {
          "output_type": "stream",
          "text": [
            "\u001b[1mValidation:\u001b[0m\n"
          ],
          "name": "stdout"
        },
        {
          "output_type": "display_data",
          "data": {
            "image/png": "[encoded data removed]",
            "text/plain": [
              "<Figure size 432x288 with 1 Axes>"
            ]
          },
          "metadata": {
            "tags": []
          }
        }
      ]
    },
    {
      "cell_type": "markdown",
      "metadata": {
        "id": "V-Ee4hXqXiGe"
      },
      "source": [
        "> Calibration curve is an almost straight line. Hence, the probabilities are well calibrated."
      ]
    },
    {
      "cell_type": "code",
      "metadata": {
        "colab": {
          "base_uri": "https://localhost:8080/",
          "height": 301
        },
        "id": "_T8PBTZd_gA2",
        "outputId": "101abd27-ea8d-48c7-d286-fbbfd161445d"
      },
      "source": [
        "# confusion matrix\n",
        "fig,ax = plt.subplots(1,2,figsize=(15,4))\n",
        "plot_confusion_matrix(dataset.loc[dataset.eval_set=='train','reordered'],\n",
        "                 dataset.loc[dataset.eval_set=='train','log_reg_pred'],\n",
        "                 title='Training data Conf matrix.',\n",
        "                 ax=ax[0])\n",
        "\n",
        "plot_confusion_matrix(dataset.loc[dataset.eval_set=='cv','reordered'],\n",
        "                 dataset.loc[dataset.eval_set=='cv','log_reg_pred'],\n",
        "                 title='Validation data Conf matrix.',\n",
        "                 ax=ax[1])"
      ],
      "execution_count": null,
      "outputs": [
        {
          "output_type": "display_data",
          "data": {
            "image/png": "[encoded data removed]",
            "text/plain": [
              "<Figure size 1080x288 with 4 Axes>"
            ]
          },
          "metadata": {
            "tags": []
          }
        }
      ]
    },
    {
      "cell_type": "code",
      "metadata": {
        "colab": {
          "base_uri": "https://localhost:8080/"
        },
        "id": "2P3qTIumVg24",
        "outputId": "eaa4611f-4ed2-4774-faa5-044c0aa5c70c"
      },
      "source": [
        "%%time\n",
        "best_score_tr = f_score(dataset[dataset.eval_set=='train'],\n",
        "                    target='log_reg_pred',\n",
        "                    pr_re=False)       \n",
        "best_score_cv = f_score(dataset[dataset.eval_set=='cv'],\n",
        "                    target='log_reg_pred',\n",
        "                    pr_re=False)\n",
        "print('Train F1-score:'.ljust(15),best_score_tr)\n",
        "print('CV F1-score:'.ljust(15),best_score_cv)"
      ],
      "execution_count": null,
      "outputs": [
        {
          "output_type": "stream",
          "text": [
            "Train F1-score: 0.3653548339783208\n",
            "CV F1-score:    0.36378059503346777\n",
            "CPU times: user 1min 36s, sys: 7.1 s, total: 1min 43s\n",
            "Wall time: 1min 36s\n"
          ],
          "name": "stdout"
        }
      ]
    },
    {
      "cell_type": "code",
      "metadata": {
        "colab": {
          "base_uri": "https://localhost:8080/"
        },
        "id": "hMYii6pb_mPm",
        "outputId": "3f9f82e9-7451-44b2-a43c-305252c6acf6"
      },
      "source": [
        "tr_acc = accuracy_score(dataset.loc[dataset.eval_set=='train','reordered'],\n",
        "                        dataset.loc[dataset.eval_set=='train','log_reg_pred'],)\n",
        "cv_acc = accuracy_score(dataset.loc[dataset.eval_set=='cv','reordered'],\n",
        "                        dataset.loc[dataset.eval_set=='cv','log_reg_pred'])\n",
        "\n",
        "print(f'Train Accuracy: {tr_acc*100} %')\n",
        "print(f'Validation Accuracy: {cv_acc*100} %')"
      ],
      "execution_count": null,
      "outputs": [
        {
          "output_type": "stream",
          "text": [
            "Train Accuracy: 85.97038733324935 %\n",
            "Validation Accuracy: 85.97078464697134 %\n"
          ],
          "name": "stdout"
        }
      ]
    },
    {
      "cell_type": "code",
      "metadata": {
        "colab": {
          "base_uri": "https://localhost:8080/"
        },
        "id": "Szb0po0jFbgF",
        "outputId": "be39e329-dcbe-4158-e4e5-0ed3b7667ad9"
      },
      "source": [
        "submission(dataset[dataset.eval_set=='test'],\n",
        "           target='log_reg_pred',\n",
        "           msg='1st-cut Approach Log-Reg th:0.18')"
      ],
      "execution_count": null,
      "outputs": [
        {
          "output_type": "stream",
          "text": [
            "Warning: Looks like you're using an outdated API Version, please consider updating (server 1.5.12 / client 1.5.4)\n",
            "100% 4.43M/4.43M [00:01<00:00, 2.49MB/s]\n",
            "Successfully submitted to Instacart Market Basket AnalysisWarning: Looks like you're using an outdated API Version, please consider updating (server 1.5.12 / client 1.5.4)\n",
            "fileName                    date                 description                                     status    publicScore  privateScore  \n",
            "--------------------------  -------------------  ----------------------------------------------  --------  -----------  ------------  \n",
            "\u001b[1;31;47msubmission.csv              2021-07-01 19:01:01  1st-cut Approach Log-Reg th:0.18                complete  0.36886      0.36742       \u001b[0m\n",
            "last_order.csv              2021-07-01 16:47:38  reorders of last order as prediction            complete  0.32768      0.32763       \n",
            "last_order.csv              2021-07-01 16:34:08  purchases of last order as reorder              complete  0.31180      0.31202       \n",
            "random_k_prod.csv           2021-07-01 16:21:23  k most reordered prod(weighted) by user         complete  0.24865      0.24653       \n",
            "random_k_prod.csv           2021-07-01 16:18:53  k most reordered prod(weighted) by user         complete  0.24865      0.24653       \n",
            "random_k_prod.csv           2021-07-01 16:10:04  k most reordered prod by user                   complete  0.16905      0.16757       \n",
            "random_6_prod.csv           2021-07-01 15:45:50  Random 6 products per order                     complete  0.13114      0.13044       \n",
            "all_prior_prod.csv          2021-07-01 15:37:03  Dumb Baseline Model                             complete  0.21648      0.21527       \n"
          ],
          "name": "stdout"
        }
      ]
    },
    {
      "cell_type": "code",
      "metadata": {
        "colab": {
          "base_uri": "https://localhost:8080/",
          "height": 627
        },
        "id": "mRd2d7sd37vE",
        "outputId": "d7cba87c-45cb-417e-cba0-ec2e933da8a3"
      },
      "source": [
        "ftr_imp = plot_feature_importance(best_clf.calibrated_classifiers_[0].base_estimator.coef_[0],\n",
        "                                  ftrs,\n",
        "                                  'Logistic Regression',\n",
        "                                  figsize=(10,10),\n",
        "                                  return_ftr_imp=True);"
      ],
      "execution_count": null,
      "outputs": [
        {
          "output_type": "display_data",
          "data": {
            "image/png": "[encoded data removed]",
            "text/plain": [
              "<Figure size 720x720 with 1 Axes>"
            ]
          },
          "metadata": {
            "tags": []
          }
        }
      ]
    },
    {
      "cell_type": "code",
      "metadata": {
        "id": "vj91sXw_mrw8"
      },
      "source": [
        "# Saving\n",
        "pickle.dump(best_clf,open('best_Log_Reg.pkl','wb'))"
      ],
      "execution_count": null,
      "outputs": []
    },
    {
      "cell_type": "code",
      "metadata": {
        "id": "NItepQ2imKFe"
      },
      "source": [
        "best_clf = pickle.load(open('/content/best_Log_Reg.pkl','rb'))"
      ],
      "execution_count": null,
      "outputs": []
    },
    {
      "cell_type": "code",
      "metadata": {
        "colab": {
          "base_uri": "https://localhost:8080/"
        },
        "id": "YoZPSpsXbKtu",
        "outputId": "a9a0a446-d504-4152-96cf-5d3a7cc6890c"
      },
      "source": [
        "dataset.to_feather('dataset.feather')\n",
        "kaggle_file_uploader(files = ['/content/dataset.feather'],\n",
        "                     id = 'shubhamscifi/instacart',\n",
        "                     title = 'instacart',\n",
        "                     folder = 'data',\n",
        "                     msg = 'dataset with log-reg prediction',\n",
        "                     del_after_upload=False)"
      ],
      "execution_count": null,
      "outputs": [
        {
          "output_type": "stream",
          "text": [
            "Data package template written to: data/dataset-metadata.json\n",
            "Starting upload for file dataset-unscaled.feather\n",
            "Warning: Looks like you're using an outdated API Version, please consider updating (server 1.5.12 / client 1.5.4)\n",
            "100% 529M/529M [00:10<00:00, 54.8MB/s]\n",
            "Upload successful: dataset-unscaled.feather (529MB)\n",
            "Starting upload for file dataset.feather\n",
            "100% 0.99G/0.99G [00:16<00:00, 62.8MB/s]\n",
            "Upload successful: dataset.feather (1014MB)\n",
            "Starting upload for file dataset-prev.feather\n",
            "100% 603M/603M [00:12<00:00, 50.1MB/s]\n",
            "Upload successful: dataset-prev.feather (603MB)\n",
            "Dataset version is being created. Please check progress at /api/v1/datasets/status/shubhamscifi/instacart\n"
          ],
          "name": "stdout"
        }
      ]
    },
    {
      "cell_type": "code",
      "metadata": {
        "id": "tRhuq0zrio5f"
      },
      "source": [
        ""
      ],
      "execution_count": null,
      "outputs": []
    },
    {
      "cell_type": "markdown",
      "metadata": {
        "id": "dgAofzCGYvl3"
      },
      "source": [
        "\n",
        "\n",
        "---\n",
        "\n"
      ]
    }
  ]
}