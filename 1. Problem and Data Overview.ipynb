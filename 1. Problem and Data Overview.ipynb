{
  "nbformat": 4,
  "nbformat_minor": 0,
  "metadata": {
    "colab": {
      "name": "1. Problem and Data Overview.ipynb",
      "provenance": [],
      "collapsed_sections": [],
      "toc_visible": true,
      "authorship_tag": "ABX9TyNhYCJ1JSXLf/bVnA+1JudE",
      "include_colab_link": true
    },
    "kernelspec": {
      "name": "python3",
      "display_name": "Python 3"
    },
    "language_info": {
      "name": "python"
    }
  },
  "cells": [
    {
      "cell_type": "markdown",
      "metadata": {
        "id": "view-in-github",
        "colab_type": "text"
      },
      "source": [
        "<a href=\"https://colab.research.google.com/github/shubhamscifi/Instacart-Market-Basket-Analysis/blob/main/1.%20Problem%20and%20Data%20Overview.ipynb\" target=\"_parent\"><img src=\"https://colab.research.google.com/assets/colab-badge.svg\" alt=\"Open In Colab\"/></a>"
      ]
    },
    {
      "cell_type": "markdown",
      "metadata": {
        "id": "ddz-BwQy2-S-"
      },
      "source": [
        "# **[Instacart Market Basket Analysis](https://www.kaggle.com/c/instacart-market-basket-analysis/)**\n",
        "\n",
        "---\n",
        "# **Problem Overview:**\n",
        "\n",
        "Which products will an Instacart consumer purchase again?\n",
        "\n",
        "1. Instacart is a grocery ordering and delivery app.\n",
        "2.   Currently they use transactional data to develop models that predict which products a user will buy again, try for the first time, or add to their cart next during a session.\n",
        "3.    The goal is to predict which previously purchased products will be in a user’s next order.\n",
        "4. For each orderid in the test set, we should predict a space-delimited list of productids for that order. If we wish to predict an empty order, we should submit an explicit 'None' value. Note that some orders will have no reordered items. We may predict an explicit 'None' value for orders with no reordered items.\n",
        "5. over 3 million grocery orders.\n",
        "6. more than 200,000 Instacart users.\n",
        "7. For each user, instacart provided between 4 and 100 of their orders, with the sequence of products purchased in each order.\n",
        "\n",
        "---\n",
        "\n",
        "\n",
        "\n",
        "\n",
        "\n",
        "\n"
      ]
    },
    {
      "cell_type": "markdown",
      "metadata": {
        "id": "ZHbXUBhuobM1"
      },
      "source": [
        "## **Problem Definition:**\n",
        "###    - Given order_id predict all the products that the user will reorder.\n",
        "\n",
        "---\n",
        "\n"
      ]
    },
    {
      "cell_type": "markdown",
      "metadata": {
        "id": "qs_UrUODrK9x"
      },
      "source": [
        "## **Business Objective:**\n",
        "- Predicting reorders in advance is of huge business value for any delivery business, as this can significantly help in optimising the supply-chain management system.\n",
        "- This can also be used to enhance the customer experience. eg:- Remind the customer to reorder a product.\n",
        "- This can also be used to improve the recommender system.\n",
        "- ML model can help here in predicting the reorders.\n",
        "- Any delivery or retail business can get benefitted from the solution to this problem."
      ]
    },
    {
      "cell_type": "markdown",
      "metadata": {
        "id": "qrLb54y8rRw7"
      },
      "source": [
        "## **Business Constraints:**\n",
        "- We want our model to perform equally good for all the orders.\n",
        "- Predicting reorders of products that are reordered a lot is more important than the products that are reordered a few times.\n",
        "- No strict latency requirements.\n",
        "- Interpretability is partially important.\n",
        "- Since recommending some products which a customer is not going to reorder will lead to the customer exploring new products, a few False Positives doesn't harm.\n",
        "- False Negatives for highly reordered products can be costly.\n",
        "\n",
        "\n",
        "---"
      ]
    },
    {
      "cell_type": "markdown",
      "metadata": {
        "id": "0IqLLzmC5klf"
      },
      "source": [
        "## [**Dataset Description:**](https://gist.github.com/jeremystan/c3b39d947d9b88b3ccff3147dbcf6c6b#file-data_description-md)\n",
        "<article class=\"markdown-body entry-content container-lg\" itemprop=\"text\"><p><code>orders</code> (3.4m rows, 206k users):</p>\n",
        "<ul>\n",
        "<li><code>order_id</code>: order identifier</li>\n",
        "<li><code>user_id</code>: customer identifier</li>\n",
        "<li><code>eval_set</code>: which evaluation set this order belongs in (see <code>SET</code> described below)</li>\n",
        "<li><code>order_number</code>: the order sequence number for this user (1 = first, n = nth)</li>\n",
        "<li><code>order_dow</code>: the day of the week the order was placed on</li>\n",
        "<li><code>order_hour_of_day</code>: the hour of the day the order was placed on</li>\n",
        "<li><code>days_since_prior</code>: days since the last order, capped at 30 (with NAs for <code>order_number</code> = 1)</li>\n",
        "</ul>\n",
        "<p><code>products</code> (50k rows):</p>\n",
        "<ul>\n",
        "<li><code>product_id</code>: product identifier</li>\n",
        "<li><code>product_name</code>: name of the product</li>\n",
        "<li><code>aisle_id</code>: foreign key</li>\n",
        "<li><code>department_id</code>: foreign key</li>\n",
        "</ul>\n",
        "<p><code>aisles</code> (134 rows):</p>\n",
        "<ul>\n",
        "<li><code>aisle_id</code>: aisle identifier</li>\n",
        "<li><code>aisle</code>: the name of the aisle</li>\n",
        "</ul>\n",
        "<p><code>deptartments</code> (21 rows):</p>\n",
        "<ul>\n",
        "<li><code>department_id</code>: department identifier</li>\n",
        "<li><code>department</code>: the name of the department</li>\n",
        "</ul>\n",
        "<p><code>order_products__SET</code> (30m+ rows):</p>\n",
        "<ul>\n",
        "<li><code>order_id</code>: foreign key</li>\n",
        "<li><code>product_id</code>: foreign key</li>\n",
        "<li><code>add_to_cart_order</code>: order in which each product was added to cart</li>\n",
        "<li><code>reordered</code>: 1 if this product has been ordered by this user in the past, 0 otherwise</li>\n",
        "</ul>\n",
        "<p>where <code>SET</code> is one of the four following evaluation sets (<code>eval_set</code> in <code>orders</code>):</p>\n",
        "<ul>\n",
        "<li><code>\"prior\"</code>: orders prior to that users most recent order (~3.2m orders)</li>\n",
        "<li><code>\"train\"</code>: training data supplied to participants (~131k orders)</li>\n",
        "<li><code>\"test\"</code>: test data reserved for machine learning competitions (~75k orders)</li>\n",
        "</ul>\n",
        "</article>\n",
        "\n",
        "\n",
        "src: https://tech.instacart.com/3-million-instacart-orders-open-sourced-d40d29ead6f2\n",
        "\n",
        "---\n",
        "\n"
      ]
    },
    {
      "cell_type": "markdown",
      "metadata": {
        "id": "utDuJg6twQaG"
      },
      "source": [
        "<div class=\"markdown-converter__text--rendered\">\n",
        "<h2>Submission File</h2>\n",
        "<p>For each order_id in the test set, you should predict a space-delimited list of product_ids for that order. If you wish to predict an empty order, you should submit an explicit 'None' value. You may combine 'None' with product_ids. The spelling of 'None' is case sensitive in the scoring metric. The file should have a header and look like the following:</p>\n",
        "<pre><code>order_id,products  \n",
        "17,1 2  \n",
        "34,None  \n",
        "137,1 2 3  \n",
        "etc.\n",
        "</code></pre></div>\n",
        "\n",
        "---"
      ]
    },
    {
      "cell_type": "markdown",
      "metadata": {
        "id": "qKwx7joc3mMY"
      },
      "source": [
        "![instacart_Files.png](https://storage.googleapis.com/kaggle-forum-message-attachments/183176/6539/instacartFiles.png)\n",
        "src: https://www.kaggle.com/c/instacart-market-basket-analysis/discussion/33128\n",
        "\n",
        "---\n",
        "\n"
      ]
    },
    {
      "cell_type": "markdown",
      "metadata": {
        "id": "6pATq5vjQJTd"
      },
      "source": [
        "## **Evaluation Metric**\n",
        "* Submissions will be evaluated based on their \n",
        "<a href=\"https://scikit-learn.org/stable/modules/model_evaluation.html#:~:text=F%CE%B2(y%2Cy%5E)-,%22samples%22,-1%7CS%7C%E2%88%91s\">Samples F1-score</a> i.e. average of F1-score for each order_id.\n",
        "\n",
        "[](https://www.kaggle.com/c/instacart-market-basket-analysis/discussion/33357#:~:text=You%20take%20the%20average%20of%20all%20the%20F1%20scores%20across%20the%20order_ids)\n",
        "    \n",
        "    - Reason:\n",
        "        - We want our model to give equal weightage to each order.\n",
        "        - We want a model with good Precision and Recall both.\n",
        "\n",
        "* Confusion Matrix will be used as secondary metric.\n",
        "---\n",
        "\n"
      ]
    },
    {
      "cell_type": "markdown",
      "metadata": {
        "id": "iuVfxyccCixf"
      },
      "source": [
        "## System Specifications💻:"
      ]
    },
    {
      "cell_type": "markdown",
      "metadata": {
        "id": "Vk9IYmlyTRPG"
      },
      "source": [
        "**Operating System:**"
      ]
    },
    {
      "cell_type": "code",
      "metadata": {
        "colab": {
          "base_uri": "https://localhost:8080/"
        },
        "id": "w4GAYsy-StqN",
        "outputId": "177f45c9-aabc-4210-eaba-2414f7f03e85"
      },
      "source": [
        "!uname\n",
        "!lsb_release -d"
      ],
      "execution_count": null,
      "outputs": [
        {
          "output_type": "stream",
          "text": [
            "Linux\n",
            "Description:\tUbuntu 18.04.5 LTS\n"
          ],
          "name": "stdout"
        }
      ]
    },
    {
      "cell_type": "markdown",
      "metadata": {
        "id": "PjE-daw7LQp7"
      },
      "source": [
        "**CPU Info:**"
      ]
    },
    {
      "cell_type": "code",
      "metadata": {
        "colab": {
          "base_uri": "https://localhost:8080/"
        },
        "id": "mfV0eM6wEZps",
        "outputId": "9efcb175-ffb0-4ad3-f810-23a56308c382"
      },
      "source": [
        "!lscpu"
      ],
      "execution_count": null,
      "outputs": [
        {
          "output_type": "stream",
          "text": [
            "Architecture:        x86_64\n",
            "CPU op-mode(s):      32-bit, 64-bit\n",
            "Byte Order:          Little Endian\n",
            "CPU(s):              4\n",
            "On-line CPU(s) list: 0-3\n",
            "Thread(s) per core:  2\n",
            "Core(s) per socket:  2\n",
            "Socket(s):           1\n",
            "NUMA node(s):        1\n",
            "Vendor ID:           AuthenticAMD\n",
            "CPU family:          23\n",
            "Model:               49\n",
            "Model name:          AMD EPYC 7B12\n",
            "Stepping:            0\n",
            "CPU MHz:             2249.998\n",
            "BogoMIPS:            4499.99\n",
            "Hypervisor vendor:   KVM\n",
            "Virtualization type: full\n",
            "L1d cache:           32K\n",
            "L1i cache:           32K\n",
            "L2 cache:            512K\n",
            "L3 cache:            16384K\n",
            "NUMA node0 CPU(s):   0-3\n",
            "Flags:               fpu vme de pse tsc msr pae mce cx8 apic sep mtrr pge mca cmov pat pse36 clflush mmx fxsr sse sse2 ht syscall nx mmxext fxsr_opt pdpe1gb rdtscp lm constant_tsc rep_good nopl nonstop_tsc cpuid extd_apicid tsc_known_freq pni pclmulqdq ssse3 fma cx16 sse4_1 sse4_2 movbe popcnt aes xsave avx f16c rdrand hypervisor lahf_lm cmp_legacy cr8_legacy abm sse4a misalignsse 3dnowprefetch osvw topoext ssbd ibrs ibpb stibp vmmcall fsgsbase tsc_adjust bmi1 avx2 smep bmi2 rdseed adx smap clflushopt clwb sha_ni xsaveopt xsavec xgetbv1 clzero xsaveerptr arat npt nrip_save umip rdpid\n"
          ],
          "name": "stdout"
        }
      ]
    },
    {
      "cell_type": "markdown",
      "metadata": {
        "id": "jO63fpZtLVB3"
      },
      "source": [
        "**RAM size:**"
      ]
    },
    {
      "cell_type": "code",
      "metadata": {
        "colab": {
          "base_uri": "https://localhost:8080/"
        },
        "id": "r3ZvqOwmCuDj",
        "outputId": "a4cf010c-ea5f-4390-ccc2-639849bcc642"
      },
      "source": [
        "!grep MemTotal /proc/meminfo    # 25.46 GB"
      ],
      "execution_count": null,
      "outputs": [
        {
          "output_type": "stream",
          "text": [
            "MemTotal:       26698868 kB\n"
          ],
          "name": "stdout"
        }
      ]
    },
    {
      "cell_type": "markdown",
      "metadata": {
        "id": "6haCygRBLYq6"
      },
      "source": [
        "**GPU info:**"
      ]
    },
    {
      "cell_type": "code",
      "metadata": {
        "colab": {
          "base_uri": "https://localhost:8080/"
        },
        "id": "Yv6zMtUhCm0h",
        "outputId": "d460444a-221e-401e-e203-de11fc7c4775"
      },
      "source": [
        "!nvidia-smi"
      ],
      "execution_count": null,
      "outputs": [
        {
          "output_type": "stream",
          "text": [
            "Sat Jun 19 12:10:57 2021       \n",
            "+-----------------------------------------------------------------------------+\n",
            "| NVIDIA-SMI 465.27       Driver Version: 460.32.03    CUDA Version: 11.2     |\n",
            "|-------------------------------+----------------------+----------------------+\n",
            "| GPU  Name        Persistence-M| Bus-Id        Disp.A | Volatile Uncorr. ECC |\n",
            "| Fan  Temp  Perf  Pwr:Usage/Cap|         Memory-Usage | GPU-Util  Compute M. |\n",
            "|                               |                      |               MIG M. |\n",
            "|===============================+======================+======================|\n",
            "|   0  Tesla T4            Off  | 00000000:00:04.0 Off |                    0 |\n",
            "| N/A   44C    P8    10W /  70W |      0MiB / 15109MiB |      0%      Default |\n",
            "|                               |                      |                  N/A |\n",
            "+-------------------------------+----------------------+----------------------+\n",
            "                                                                               \n",
            "+-----------------------------------------------------------------------------+\n",
            "| Processes:                                                                  |\n",
            "|  GPU   GI   CI        PID   Type   Process name                  GPU Memory |\n",
            "|        ID   ID                                                   Usage      |\n",
            "|=============================================================================|\n",
            "|  No running processes found                                                 |\n",
            "+-----------------------------------------------------------------------------+\n"
          ],
          "name": "stdout"
        }
      ]
    },
    {
      "cell_type": "markdown",
      "metadata": {
        "id": "OVmqB3v9XcRU"
      },
      "source": [
        "## Downloading Dataset"
      ]
    },
    {
      "cell_type": "code",
      "metadata": {
        "colab": {
          "base_uri": "https://localhost:8080/"
        },
        "id": "I6NI3bdOT0-p",
        "outputId": "1be6a6f7-fdb9-45b6-c0d7-b7e6f4624346"
      },
      "source": [
        "# Kaggle authentication\n",
        "from getpass import getpass\n",
        "import os\n",
        "\n",
        "os.environ['KAGGLE_USERNAME'] = \"shubhamscifi\" #input('Enter kaggle username: ') # kaggle username\n",
        "os.environ['KAGGLE_KEY'] = getpass('Enter Token: ') # kaggle api key"
      ],
      "execution_count": null,
      "outputs": [
        {
          "output_type": "stream",
          "text": [
            "Enter Token: ··········\n"
          ],
          "name": "stdout"
        }
      ]
    },
    {
      "cell_type": "code",
      "metadata": {
        "colab": {
          "base_uri": "https://localhost:8080/"
        },
        "id": "CxX2KzVBL-uk",
        "outputId": "f4e9ff50-48ba-404a-f5fd-5eecd3e89be2"
      },
      "source": [
        "# https://github.com/Kaggle/kaggle-api#download-competition-files\n",
        "# fetching the instacart-market-basket-analysis dataset from kaggle.\n",
        "!kaggle competitions download -c instacart-market-basket-analysis -p ./dataset"
      ],
      "execution_count": null,
      "outputs": [
        {
          "output_type": "stream",
          "text": [
            "Warning: Looks like you're using an outdated API Version, please consider updating (server 1.5.12 / client 1.5.4)\n",
            "Downloading order_products__train.csv.zip to ./dataset\n",
            " 72% 5.00M/6.90M [00:00<00:00, 19.5MB/s]\n",
            "100% 6.90M/6.90M [00:00<00:00, 23.0MB/s]\n",
            "Downloading sample_submission.csv.zip to ./dataset\n",
            "  0% 0.00/220k [00:00<?, ?B/s]\n",
            "100% 220k/220k [00:00<00:00, 69.9MB/s]\n",
            "Downloading order_products__prior.csv.zip to ./dataset\n",
            " 93% 146M/157M [00:01<00:00, 98.1MB/s]\n",
            "100% 157M/157M [00:01<00:00, 98.7MB/s]\n",
            "Downloading departments.csv.zip to ./dataset\n",
            "  0% 0.00/804 [00:00<?, ?B/s]\n",
            "100% 804/804 [00:00<00:00, 693kB/s]\n",
            "Downloading orders.csv.zip to ./dataset\n",
            " 77% 24.0M/31.3M [00:00<00:00, 64.0MB/s]\n",
            "100% 31.3M/31.3M [00:00<00:00, 89.9MB/s]\n",
            "Downloading products.csv.zip to ./dataset\n",
            "  0% 0.00/795k [00:00<?, ?B/s]\n",
            "100% 795k/795k [00:00<00:00, 108MB/s]\n",
            "Downloading aisles.csv.zip to ./dataset\n",
            "  0% 0.00/1.87k [00:00<?, ?B/s]\n",
            "100% 1.87k/1.87k [00:00<00:00, 1.60MB/s]\n"
          ],
          "name": "stdout"
        }
      ]
    },
    {
      "cell_type": "code",
      "metadata": {
        "colab": {
          "base_uri": "https://localhost:8080/"
        },
        "id": "5URDIHFs3E3g",
        "outputId": "9bcf0e53-f3a5-45d5-a560-63e0d7224bb8"
      },
      "source": [
        "# Unzipping\n",
        "zip_file = os.listdir('dataset')\n",
        "for file in zip_file:\n",
        "    !unzip /content/dataset/{file}\n",
        "!rm -rf /content/dataset"
      ],
      "execution_count": null,
      "outputs": [
        {
          "output_type": "stream",
          "text": [
            "Archive:  /content/dataset/sample_submission.csv.zip\n",
            "  inflating: sample_submission.csv   \n",
            "Archive:  /content/dataset/products.csv.zip\n",
            "  inflating: products.csv            \n",
            "   creating: __MACOSX/\n",
            "  inflating: __MACOSX/._products.csv  \n",
            "Archive:  /content/dataset/order_products__train.csv.zip\n",
            "  inflating: order_products__train.csv  \n",
            "  inflating: __MACOSX/._order_products__train.csv  \n",
            "Archive:  /content/dataset/departments.csv.zip\n",
            "  inflating: departments.csv         \n",
            "  inflating: __MACOSX/._departments.csv  \n",
            "Archive:  /content/dataset/aisles.csv.zip\n",
            "  inflating: aisles.csv              \n",
            "  inflating: __MACOSX/._aisles.csv   \n",
            "Archive:  /content/dataset/orders.csv.zip\n",
            "  inflating: orders.csv              \n",
            "  inflating: __MACOSX/._orders.csv   \n",
            "Archive:  /content/dataset/order_products__prior.csv.zip\n",
            "  inflating: order_products__prior.csv  \n",
            "  inflating: __MACOSX/._order_products__prior.csv  \n"
          ],
          "name": "stdout"
        }
      ]
    },
    {
      "cell_type": "markdown",
      "metadata": {
        "id": "W-Ai4H5e2u6w"
      },
      "source": [
        "**Download intermediate prepared tables.**"
      ]
    },
    {
      "cell_type": "code",
      "metadata": {
        "colab": {
          "base_uri": "https://localhost:8080/"
        },
        "id": "e6zJQKy5twH9",
        "outputId": "7c7adea0-cb08-4f1e-b7f4-e29efbc5bb8f"
      },
      "source": [
        "!kaggle datasets download -d shubhamscifi/instacart --unzip"
      ],
      "execution_count": null,
      "outputs": [
        {
          "output_type": "stream",
          "text": [
            "Downloading instacart.zip to /content\n",
            " 99% 1.46G/1.47G [00:13<00:00, 189MB/s]\n",
            "100% 1.47G/1.47G [00:13<00:00, 113MB/s]\n"
          ],
          "name": "stdout"
        }
      ]
    },
    {
      "cell_type": "markdown",
      "metadata": {
        "id": "V3Iu-alW3wDq"
      },
      "source": [
        "**Kaggle file uploader utility:**\n",
        "- To upload intermediate tables."
      ]
    },
    {
      "cell_type": "code",
      "metadata": {
        "id": "IU_4mQyEVmWk"
      },
      "source": [
        "def kaggle_file_uploader(files,id='shubhamscifi/instacart',title='instacart',folder='data',msg='',first_time=False,del_after_upload=True):\n",
        "    '''Uploads list of files to kaggle.\n",
        "    Note: make sure to run after kaggle authentication.\n",
        "    id : must be between 6-50 chars after \"username/\".\n",
        "    title : must be between 6-50 chars.\n",
        "    files : list of path of files that are to be uploaded.\n",
        "    first_time: True if the data is being uploaded for the first time.\n",
        "    del_after_upload: True if given folder needs to be deleted after file upload finishes.'''\n",
        "    # https://github.com/Kaggle/kaggle-api\n",
        "\n",
        "    # create data package json file\n",
        "    !mkdir {folder}\n",
        "    !kaggle datasets init -p {folder}\n",
        "\n",
        "    # preparing metadata json file\n",
        "    import json,os\n",
        "    metadata = open(os.path.join(folder,'dataset-metadata.json'),'r+')\n",
        "    meta = json.load(metadata)\n",
        "    meta['id'] = id\n",
        "    meta['title']= title\n",
        "    metadata.seek(0)\n",
        "    json.dump(meta,metadata)\n",
        "    metadata.truncate()\n",
        "    metadata.close()\n",
        "\n",
        "    for file in set(files):\n",
        "        !cp {file} {folder}\n",
        "\n",
        "    # upload dataset to kaggle\n",
        "    if (first_time):\n",
        "        !kaggle datasets create -p {folder}\n",
        "    else:\n",
        "        # Create a New Dataset Version\n",
        "        !kaggle datasets version -p {folder} -m '{msg}'\n",
        "\n",
        "    if (del_after_upload):\n",
        "        !rm -rf {folder}"
      ],
      "execution_count": null,
      "outputs": []
    },
    {
      "cell_type": "markdown",
      "metadata": {
        "id": "b20s0nOaXmT-"
      },
      "source": [
        "**Changing the display of DataFrames as interactive tables.**"
      ]
    },
    {
      "cell_type": "code",
      "metadata": {
        "id": "-_kZOKBJGk4o"
      },
      "source": [
        "# dataframes are shown as rich, interactive tables\n",
        "%load_ext google.colab.data_table"
      ],
      "execution_count": null,
      "outputs": []
    },
    {
      "cell_type": "code",
      "metadata": {
        "id": "80XXGoUfGk4y"
      },
      "source": [
        "# restoring the standard static display\n",
        "%unload_ext google.colab.data_table"
      ],
      "execution_count": null,
      "outputs": []
    },
    {
      "cell_type": "markdown",
      "metadata": {
        "id": "g12i9UdRWOwy"
      },
      "source": [
        "## Importing libraries"
      ]
    },
    {
      "cell_type": "code",
      "metadata": {
        "colab": {
          "base_uri": "https://localhost:8080/"
        },
        "id": "0lP0AGJuYFAe",
        "outputId": "ef86ad72-6a9d-44ab-b9ef-b72b76fff5f2"
      },
      "source": [
        "!pip install --upgrade plotly\n",
        "!pip3 install --upgrade category_encoders\n",
        "!pip install -U memory_profiler\n",
        "%load_ext memory_profiler"
      ],
      "execution_count": null,
      "outputs": [
        {
          "output_type": "stream",
          "text": [
            "Collecting plotly\n",
            "\u001b[?25l  Downloading https://files.pythonhosted.org/packages/95/8d/ac1560f7ccc2ace85cd1e9619bbec1975b5d2d92e6c6fdbbdaa994c6ab4d/plotly-5.1.0-py2.py3-none-any.whl (20.6MB)\n",
            "\u001b[K     |████████████████████████████████| 20.6MB 68.0MB/s \n",
            "\u001b[?25hRequirement already satisfied, skipping upgrade: six in /usr/local/lib/python3.7/dist-packages (from plotly) (1.15.0)\n",
            "Collecting tenacity>=6.2.0\n",
            "  Downloading https://files.pythonhosted.org/packages/f2/a5/f86bc8d67c979020438c8559cc70cfe3a1643fd160d35e09c9cca6a09189/tenacity-8.0.1-py3-none-any.whl\n",
            "Installing collected packages: tenacity, plotly\n",
            "  Found existing installation: plotly 4.4.1\n",
            "    Uninstalling plotly-4.4.1:\n",
            "      Successfully uninstalled plotly-4.4.1\n",
            "Successfully installed plotly-5.1.0 tenacity-8.0.1\n",
            "Collecting category_encoders\n",
            "\u001b[?25l  Downloading https://files.pythonhosted.org/packages/44/57/fcef41c248701ee62e8325026b90c432adea35555cbc870aff9cfba23727/category_encoders-2.2.2-py2.py3-none-any.whl (80kB)\n",
            "\u001b[K     |████████████████████████████████| 81kB 4.2MB/s \n",
            "\u001b[?25hRequirement already satisfied, skipping upgrade: scikit-learn>=0.20.0 in /usr/local/lib/python3.7/dist-packages (from category_encoders) (0.22.2.post1)\n",
            "Requirement already satisfied, skipping upgrade: patsy>=0.5.1 in /usr/local/lib/python3.7/dist-packages (from category_encoders) (0.5.1)\n",
            "Requirement already satisfied, skipping upgrade: statsmodels>=0.9.0 in /usr/local/lib/python3.7/dist-packages (from category_encoders) (0.10.2)\n",
            "Requirement already satisfied, skipping upgrade: scipy>=1.0.0 in /usr/local/lib/python3.7/dist-packages (from category_encoders) (1.4.1)\n",
            "Requirement already satisfied, skipping upgrade: numpy>=1.14.0 in /usr/local/lib/python3.7/dist-packages (from category_encoders) (1.19.5)\n",
            "Requirement already satisfied, skipping upgrade: pandas>=0.21.1 in /usr/local/lib/python3.7/dist-packages (from category_encoders) (1.1.5)\n",
            "Requirement already satisfied, skipping upgrade: joblib>=0.11 in /usr/local/lib/python3.7/dist-packages (from scikit-learn>=0.20.0->category_encoders) (1.0.1)\n",
            "Requirement already satisfied, skipping upgrade: six in /usr/local/lib/python3.7/dist-packages (from patsy>=0.5.1->category_encoders) (1.15.0)\n",
            "Requirement already satisfied, skipping upgrade: python-dateutil>=2.7.3 in /usr/local/lib/python3.7/dist-packages (from pandas>=0.21.1->category_encoders) (2.8.1)\n",
            "Requirement already satisfied, skipping upgrade: pytz>=2017.2 in /usr/local/lib/python3.7/dist-packages (from pandas>=0.21.1->category_encoders) (2018.9)\n",
            "Installing collected packages: category-encoders\n",
            "Successfully installed category-encoders-2.2.2\n",
            "Collecting memory_profiler\n",
            "  Downloading https://files.pythonhosted.org/packages/8f/fd/d92b3295657f8837e0177e7b48b32d6651436f0293af42b76d134c3bb489/memory_profiler-0.58.0.tar.gz\n",
            "Requirement already satisfied, skipping upgrade: psutil in /usr/local/lib/python3.7/dist-packages (from memory_profiler) (5.4.8)\n",
            "Building wheels for collected packages: memory-profiler\n",
            "  Building wheel for memory-profiler (setup.py) ... \u001b[?25l\u001b[?25hdone\n",
            "  Created wheel for memory-profiler: filename=memory_profiler-0.58.0-cp37-none-any.whl size=30188 sha256=d3a1dca997583c514a0bc474c6da6ba1b73da6e3ed0a3f19b9af15e2b140c71f\n",
            "  Stored in directory: /root/.cache/pip/wheels/02/e4/0b/aaab481fc5dd2a4ea59e78bc7231bb6aae7635ca7ee79f8ae5\n",
            "Successfully built memory-profiler\n",
            "Installing collected packages: memory-profiler\n",
            "Successfully installed memory-profiler-0.58.0\n"
          ],
          "name": "stdout"
        }
      ]
    },
    {
      "cell_type": "code",
      "metadata": {
        "id": "vV0CmpomTubn"
      },
      "source": [
        "# requirements file\n",
        "!pip freeze > requirements.txt"
      ],
      "execution_count": null,
      "outputs": []
    },
    {
      "cell_type": "code",
      "metadata": {
        "id": "8xsk-yqDBXSA"
      },
      "source": [
        "import plotly\n",
        "import plotly.express as px\n",
        "import numpy as np\n",
        "from scipy import stats\n",
        "import pandas as pd\n",
        "import matplotlib.pyplot as plt\n",
        "import seaborn as sns\n",
        "sns.set()\n",
        "import re\n",
        "import gc   # garbage collector\n",
        "import pickle\n",
        "# https://pypi.org/project/tqdm/#:~:text=jupyter%20console.%20Use-,auto,-instead%20of%20autonotebook\n",
        "from tqdm.auto import tqdm\n",
        "import time\n",
        "from joblib import Parallel, delayed\n",
        "from sklearn.metrics import f1_score,confusion_matrix,\\\n",
        "                            precision_recall_fscore_support,classification_report,\\\n",
        "                            accuracy_score,log_loss\n",
        "from sklearn.model_selection import train_test_split\n",
        "\n",
        "bold = lambda string: '\\033[1m'+string+'\\033[0m'    # for bold text\n",
        "printb = lambda string: print('\\033[1m'+string+'\\033[0m')\n",
        "# https://stackoverflow.com/questions/8924173/how-do-i-print-bold-text-in-python/8930747"
      ],
      "execution_count": null,
      "outputs": []
    },
    {
      "cell_type": "markdown",
      "metadata": {
        "id": "x4xSz7nZ-Zsu"
      },
      "source": [
        "## Loading Data"
      ]
    },
    {
      "cell_type": "code",
      "metadata": {
        "id": "w7n_Mhwm3DUa"
      },
      "source": [
        "# loading data into pandas dataframe\n",
        "orders = pd.read_csv('/content/orders.csv',dtype={'order_id':np.uint32,\n",
        "                                                  'user_id' :np.uint32,\n",
        "                                                  'order_number':'uint8',\n",
        "                                                  'order_hour_of_day':'uint8',\n",
        "                                                  'order_dow':'uint8',\n",
        "                                                  'days_since_prior_order':'float16'})\n",
        "dep = pd.read_csv('/content/departments.csv', dtype={'department_id':'uint8',\n",
        "                                                     'department': str})\n",
        "aisles = pd.read_csv('/content/aisles.csv', dtype={'aisle_id':'uint8',\n",
        "                                                     'aisle': str})\n",
        "products = pd.read_csv('/content/products.csv', dtype={'aisle_id':'uint8',\n",
        "                                                     'department_id':'uint8',\n",
        "                                                     'product_name': str,\n",
        "                                                     'product_id': np.uint16})\n",
        "order_products_prior = pd.read_csv('/content/order_products__prior.csv',\n",
        "                                   dtype={'add_to_cart_order':'uint8',\n",
        "                                          'reordered':'uint8',\n",
        "                                          'order_id':np.uint32,\n",
        "                                          'product_id':np.uint16})\n",
        "order_products_train = pd.read_csv('/content/order_products__train.csv',\n",
        "                                   dtype={'add_to_cart_order':'uint8',\n",
        "                                          'reordered':'uint8',\n",
        "                                          'order_id':np.uint32,\n",
        "                                          'product_id':np.uint16})"
      ],
      "execution_count": null,
      "outputs": []
    },
    {
      "cell_type": "markdown",
      "metadata": {
        "id": "BgnhTU4_X7hg"
      },
      "source": [
        "<a name=\"data-overview\"></a>\n",
        "## **Data overview**🔎\n",
        "- Overviewing each Table\n",
        "- Understanding each column.\n"
      ]
    },
    {
      "cell_type": "markdown",
      "metadata": {
        "id": "xn5hwbDvncle"
      },
      "source": [
        "#### **Aisles**"
      ]
    },
    {
      "cell_type": "code",
      "metadata": {
        "colab": {
          "base_uri": "https://localhost:8080/"
        },
        "id": "QBFEKOUlnc59",
        "outputId": "15e735d8-fe0b-42c9-d008-6e75c45e8f67"
      },
      "source": [
        "aisles"
      ],
      "execution_count": null,
      "outputs": [
        {
          "output_type": "execute_result",
          "data": {
            "text/html": [
              "<div>\n",
              "<style scoped>\n",
              "    .dataframe tbody tr th:only-of-type {\n",
              "        vertical-align: middle;\n",
              "    }\n",
              "\n",
              "    .dataframe tbody tr th {\n",
              "        vertical-align: top;\n",
              "    }\n",
              "\n",
              "    .dataframe thead th {\n",
              "        text-align: right;\n",
              "    }\n",
              "</style>\n",
              "<table border=\"1\" class=\"dataframe\">\n",
              "  <thead>\n",
              "    <tr style=\"text-align: right;\">\n",
              "      <th></th>\n",
              "      <th>aisle_id</th>\n",
              "      <th>aisle</th>\n",
              "    </tr>\n",
              "  </thead>\n",
              "  <tbody>\n",
              "    <tr>\n",
              "      <th>0</th>\n",
              "      <td>1</td>\n",
              "      <td>prepared soups salads</td>\n",
              "    </tr>\n",
              "    <tr>\n",
              "      <th>1</th>\n",
              "      <td>2</td>\n",
              "      <td>specialty cheeses</td>\n",
              "    </tr>\n",
              "    <tr>\n",
              "      <th>2</th>\n",
              "      <td>3</td>\n",
              "      <td>energy granola bars</td>\n",
              "    </tr>\n",
              "    <tr>\n",
              "      <th>3</th>\n",
              "      <td>4</td>\n",
              "      <td>instant foods</td>\n",
              "    </tr>\n",
              "    <tr>\n",
              "      <th>4</th>\n",
              "      <td>5</td>\n",
              "      <td>marinades meat preparation</td>\n",
              "    </tr>\n",
              "    <tr>\n",
              "      <th>...</th>\n",
              "      <td>...</td>\n",
              "      <td>...</td>\n",
              "    </tr>\n",
              "    <tr>\n",
              "      <th>129</th>\n",
              "      <td>130</td>\n",
              "      <td>hot cereal pancake mixes</td>\n",
              "    </tr>\n",
              "    <tr>\n",
              "      <th>130</th>\n",
              "      <td>131</td>\n",
              "      <td>dry pasta</td>\n",
              "    </tr>\n",
              "    <tr>\n",
              "      <th>131</th>\n",
              "      <td>132</td>\n",
              "      <td>beauty</td>\n",
              "    </tr>\n",
              "    <tr>\n",
              "      <th>132</th>\n",
              "      <td>133</td>\n",
              "      <td>muscles joints pain relief</td>\n",
              "    </tr>\n",
              "    <tr>\n",
              "      <th>133</th>\n",
              "      <td>134</td>\n",
              "      <td>specialty wines champagnes</td>\n",
              "    </tr>\n",
              "  </tbody>\n",
              "</table>\n",
              "<p>134 rows × 2 columns</p>\n",
              "</div>"
            ],
            "text/plain": [
              "     aisle_id                       aisle\n",
              "0           1       prepared soups salads\n",
              "1           2           specialty cheeses\n",
              "2           3         energy granola bars\n",
              "3           4               instant foods\n",
              "4           5  marinades meat preparation\n",
              "..        ...                         ...\n",
              "129       130    hot cereal pancake mixes\n",
              "130       131                   dry pasta\n",
              "131       132                      beauty\n",
              "132       133  muscles joints pain relief\n",
              "133       134  specialty wines champagnes\n",
              "\n",
              "[134 rows x 2 columns]"
            ]
          },
          "metadata": {
            "tags": []
          },
          "execution_count": 8
        }
      ]
    },
    {
      "cell_type": "code",
      "metadata": {
        "colab": {
          "base_uri": "https://localhost:8080/"
        },
        "id": "9AqfF9VNpHVb",
        "outputId": "1cfa82fb-0355-4a55-8c4f-1846d8ca581f"
      },
      "source": [
        "aisles.loc[aisles.aisle.str.contains('missing'),:]"
      ],
      "execution_count": null,
      "outputs": [
        {
          "output_type": "execute_result",
          "data": {
            "text/html": [
              "<div>\n",
              "<style scoped>\n",
              "    .dataframe tbody tr th:only-of-type {\n",
              "        vertical-align: middle;\n",
              "    }\n",
              "\n",
              "    .dataframe tbody tr th {\n",
              "        vertical-align: top;\n",
              "    }\n",
              "\n",
              "    .dataframe thead th {\n",
              "        text-align: right;\n",
              "    }\n",
              "</style>\n",
              "<table border=\"1\" class=\"dataframe\">\n",
              "  <thead>\n",
              "    <tr style=\"text-align: right;\">\n",
              "      <th></th>\n",
              "      <th>aisle_id</th>\n",
              "      <th>aisle</th>\n",
              "    </tr>\n",
              "  </thead>\n",
              "  <tbody>\n",
              "    <tr>\n",
              "      <th>99</th>\n",
              "      <td>100</td>\n",
              "      <td>missing</td>\n",
              "    </tr>\n",
              "  </tbody>\n",
              "</table>\n",
              "</div>"
            ],
            "text/plain": [
              "    aisle_id    aisle\n",
              "99       100  missing"
            ]
          },
          "metadata": {
            "tags": []
          },
          "execution_count": 9
        }
      ]
    },
    {
      "cell_type": "code",
      "metadata": {
        "colab": {
          "base_uri": "https://localhost:8080/"
        },
        "id": "yNMnwbgxO_8_",
        "outputId": "2b3d97d3-f374-4696-bc3f-df7d98fba2dd"
      },
      "source": [
        "aisles.info(verbose=True, memory_usage='deep')"
      ],
      "execution_count": null,
      "outputs": [
        {
          "output_type": "stream",
          "text": [
            "<class 'pandas.core.frame.DataFrame'>\n",
            "RangeIndex: 134 entries, 0 to 133\n",
            "Data columns (total 2 columns):\n",
            " #   Column    Non-Null Count  Dtype \n",
            "---  ------    --------------  ----- \n",
            " 0   aisle_id  134 non-null    uint8 \n",
            " 1   aisle     134 non-null    object\n",
            "dtypes: object(1), uint8(1)\n",
            "memory usage: 9.7 KB\n"
          ],
          "name": "stdout"
        }
      ]
    },
    {
      "cell_type": "markdown",
      "metadata": {
        "id": "wpcbIIW0nwDb"
      },
      "source": [
        "> **Observations:**\n",
        "- Total 134 aisles.\n",
        "- aisle number 100 is not missing but it's name is \"missing\".\n",
        "- Maybe, it is the aisle for missing or non-assigned products.\n",
        "\n",
        "---\n",
        "\n"
      ]
    },
    {
      "cell_type": "markdown",
      "metadata": {
        "id": "7ddHVlFKoW1r"
      },
      "source": [
        "#### **Departments**"
      ]
    },
    {
      "cell_type": "code",
      "metadata": {
        "colab": {
          "base_uri": "https://localhost:8080/"
        },
        "id": "CDJJSf7mntHX",
        "outputId": "13bc4e61-2e26-4282-dece-1fa1dd1e9aff"
      },
      "source": [
        "dep"
      ],
      "execution_count": null,
      "outputs": [
        {
          "output_type": "execute_result",
          "data": {
            "text/html": [
              "<div>\n",
              "<style scoped>\n",
              "    .dataframe tbody tr th:only-of-type {\n",
              "        vertical-align: middle;\n",
              "    }\n",
              "\n",
              "    .dataframe tbody tr th {\n",
              "        vertical-align: top;\n",
              "    }\n",
              "\n",
              "    .dataframe thead th {\n",
              "        text-align: right;\n",
              "    }\n",
              "</style>\n",
              "<table border=\"1\" class=\"dataframe\">\n",
              "  <thead>\n",
              "    <tr style=\"text-align: right;\">\n",
              "      <th></th>\n",
              "      <th>department_id</th>\n",
              "      <th>department</th>\n",
              "    </tr>\n",
              "  </thead>\n",
              "  <tbody>\n",
              "    <tr>\n",
              "      <th>0</th>\n",
              "      <td>1</td>\n",
              "      <td>frozen</td>\n",
              "    </tr>\n",
              "    <tr>\n",
              "      <th>1</th>\n",
              "      <td>2</td>\n",
              "      <td>other</td>\n",
              "    </tr>\n",
              "    <tr>\n",
              "      <th>2</th>\n",
              "      <td>3</td>\n",
              "      <td>bakery</td>\n",
              "    </tr>\n",
              "    <tr>\n",
              "      <th>3</th>\n",
              "      <td>4</td>\n",
              "      <td>produce</td>\n",
              "    </tr>\n",
              "    <tr>\n",
              "      <th>4</th>\n",
              "      <td>5</td>\n",
              "      <td>alcohol</td>\n",
              "    </tr>\n",
              "    <tr>\n",
              "      <th>5</th>\n",
              "      <td>6</td>\n",
              "      <td>international</td>\n",
              "    </tr>\n",
              "    <tr>\n",
              "      <th>6</th>\n",
              "      <td>7</td>\n",
              "      <td>beverages</td>\n",
              "    </tr>\n",
              "    <tr>\n",
              "      <th>7</th>\n",
              "      <td>8</td>\n",
              "      <td>pets</td>\n",
              "    </tr>\n",
              "    <tr>\n",
              "      <th>8</th>\n",
              "      <td>9</td>\n",
              "      <td>dry goods pasta</td>\n",
              "    </tr>\n",
              "    <tr>\n",
              "      <th>9</th>\n",
              "      <td>10</td>\n",
              "      <td>bulk</td>\n",
              "    </tr>\n",
              "    <tr>\n",
              "      <th>10</th>\n",
              "      <td>11</td>\n",
              "      <td>personal care</td>\n",
              "    </tr>\n",
              "    <tr>\n",
              "      <th>11</th>\n",
              "      <td>12</td>\n",
              "      <td>meat seafood</td>\n",
              "    </tr>\n",
              "    <tr>\n",
              "      <th>12</th>\n",
              "      <td>13</td>\n",
              "      <td>pantry</td>\n",
              "    </tr>\n",
              "    <tr>\n",
              "      <th>13</th>\n",
              "      <td>14</td>\n",
              "      <td>breakfast</td>\n",
              "    </tr>\n",
              "    <tr>\n",
              "      <th>14</th>\n",
              "      <td>15</td>\n",
              "      <td>canned goods</td>\n",
              "    </tr>\n",
              "    <tr>\n",
              "      <th>15</th>\n",
              "      <td>16</td>\n",
              "      <td>dairy eggs</td>\n",
              "    </tr>\n",
              "    <tr>\n",
              "      <th>16</th>\n",
              "      <td>17</td>\n",
              "      <td>household</td>\n",
              "    </tr>\n",
              "    <tr>\n",
              "      <th>17</th>\n",
              "      <td>18</td>\n",
              "      <td>babies</td>\n",
              "    </tr>\n",
              "    <tr>\n",
              "      <th>18</th>\n",
              "      <td>19</td>\n",
              "      <td>snacks</td>\n",
              "    </tr>\n",
              "    <tr>\n",
              "      <th>19</th>\n",
              "      <td>20</td>\n",
              "      <td>deli</td>\n",
              "    </tr>\n",
              "    <tr>\n",
              "      <th>20</th>\n",
              "      <td>21</td>\n",
              "      <td>missing</td>\n",
              "    </tr>\n",
              "  </tbody>\n",
              "</table>\n",
              "</div>"
            ],
            "text/plain": [
              "    department_id       department\n",
              "0               1           frozen\n",
              "1               2            other\n",
              "2               3           bakery\n",
              "3               4          produce\n",
              "4               5          alcohol\n",
              "5               6    international\n",
              "6               7        beverages\n",
              "7               8             pets\n",
              "8               9  dry goods pasta\n",
              "9              10             bulk\n",
              "10             11    personal care\n",
              "11             12     meat seafood\n",
              "12             13           pantry\n",
              "13             14        breakfast\n",
              "14             15     canned goods\n",
              "15             16       dairy eggs\n",
              "16             17        household\n",
              "17             18           babies\n",
              "18             19           snacks\n",
              "19             20             deli\n",
              "20             21          missing"
            ]
          },
          "metadata": {
            "tags": []
          },
          "execution_count": 11
        }
      ]
    },
    {
      "cell_type": "code",
      "metadata": {
        "colab": {
          "base_uri": "https://localhost:8080/"
        },
        "id": "TGTfY4snpdT6",
        "outputId": "89b51fc5-1f96-4c58-ca84-f374c69c8830"
      },
      "source": [
        "dep.loc[dep.department.str.contains('missing'),:]"
      ],
      "execution_count": null,
      "outputs": [
        {
          "output_type": "execute_result",
          "data": {
            "text/html": [
              "<div>\n",
              "<style scoped>\n",
              "    .dataframe tbody tr th:only-of-type {\n",
              "        vertical-align: middle;\n",
              "    }\n",
              "\n",
              "    .dataframe tbody tr th {\n",
              "        vertical-align: top;\n",
              "    }\n",
              "\n",
              "    .dataframe thead th {\n",
              "        text-align: right;\n",
              "    }\n",
              "</style>\n",
              "<table border=\"1\" class=\"dataframe\">\n",
              "  <thead>\n",
              "    <tr style=\"text-align: right;\">\n",
              "      <th></th>\n",
              "      <th>department_id</th>\n",
              "      <th>department</th>\n",
              "    </tr>\n",
              "  </thead>\n",
              "  <tbody>\n",
              "    <tr>\n",
              "      <th>20</th>\n",
              "      <td>21</td>\n",
              "      <td>missing</td>\n",
              "    </tr>\n",
              "  </tbody>\n",
              "</table>\n",
              "</div>"
            ],
            "text/plain": [
              "    department_id department\n",
              "20             21    missing"
            ]
          },
          "metadata": {
            "tags": []
          },
          "execution_count": 12
        }
      ]
    },
    {
      "cell_type": "code",
      "metadata": {
        "colab": {
          "base_uri": "https://localhost:8080/"
        },
        "id": "eBZ-DT4XPZLk",
        "outputId": "0dbfeaf8-e878-4be5-a179-d5538e886583"
      },
      "source": [
        "dep.info(verbose=True, memory_usage='deep')"
      ],
      "execution_count": null,
      "outputs": [
        {
          "output_type": "stream",
          "text": [
            "<class 'pandas.core.frame.DataFrame'>\n",
            "RangeIndex: 21 entries, 0 to 20\n",
            "Data columns (total 2 columns):\n",
            " #   Column         Non-Null Count  Dtype \n",
            "---  ------         --------------  ----- \n",
            " 0   department_id  21 non-null     uint8 \n",
            " 1   department     21 non-null     object\n",
            "dtypes: object(1), uint8(1)\n",
            "memory usage: 1.5 KB\n"
          ],
          "name": "stdout"
        }
      ]
    },
    {
      "cell_type": "markdown",
      "metadata": {
        "id": "0Y7kwJfmoht9"
      },
      "source": [
        "> **Observations:**\n",
        "- Total 21 departments.\n",
        "- Similar, to aisle number 100 department number 21's name is also \"missing\".\n",
        "- Maybe, it is the department for missing or non-assigned products.\n",
        "\n",
        "---"
      ]
    },
    {
      "cell_type": "markdown",
      "metadata": {
        "id": "UkxVF-KhNAM8"
      },
      "source": [
        "#### **Products**"
      ]
    },
    {
      "cell_type": "code",
      "metadata": {
        "colab": {
          "base_uri": "https://localhost:8080/"
        },
        "id": "ZnmbkmOcNAna",
        "outputId": "63d33bc1-2b9f-4175-9064-67a4955100c4"
      },
      "source": [
        "products"
      ],
      "execution_count": null,
      "outputs": [
        {
          "output_type": "execute_result",
          "data": {
            "text/html": [
              "<div>\n",
              "<style scoped>\n",
              "    .dataframe tbody tr th:only-of-type {\n",
              "        vertical-align: middle;\n",
              "    }\n",
              "\n",
              "    .dataframe tbody tr th {\n",
              "        vertical-align: top;\n",
              "    }\n",
              "\n",
              "    .dataframe thead th {\n",
              "        text-align: right;\n",
              "    }\n",
              "</style>\n",
              "<table border=\"1\" class=\"dataframe\">\n",
              "  <thead>\n",
              "    <tr style=\"text-align: right;\">\n",
              "      <th></th>\n",
              "      <th>product_id</th>\n",
              "      <th>product_name</th>\n",
              "      <th>aisle_id</th>\n",
              "      <th>department_id</th>\n",
              "    </tr>\n",
              "  </thead>\n",
              "  <tbody>\n",
              "    <tr>\n",
              "      <th>0</th>\n",
              "      <td>1</td>\n",
              "      <td>Chocolate Sandwich Cookies</td>\n",
              "      <td>61</td>\n",
              "      <td>19</td>\n",
              "    </tr>\n",
              "    <tr>\n",
              "      <th>1</th>\n",
              "      <td>2</td>\n",
              "      <td>All-Seasons Salt</td>\n",
              "      <td>104</td>\n",
              "      <td>13</td>\n",
              "    </tr>\n",
              "    <tr>\n",
              "      <th>2</th>\n",
              "      <td>3</td>\n",
              "      <td>Robust Golden Unsweetened Oolong Tea</td>\n",
              "      <td>94</td>\n",
              "      <td>7</td>\n",
              "    </tr>\n",
              "    <tr>\n",
              "      <th>3</th>\n",
              "      <td>4</td>\n",
              "      <td>Smart Ones Classic Favorites Mini Rigatoni Wit...</td>\n",
              "      <td>38</td>\n",
              "      <td>1</td>\n",
              "    </tr>\n",
              "    <tr>\n",
              "      <th>4</th>\n",
              "      <td>5</td>\n",
              "      <td>Green Chile Anytime Sauce</td>\n",
              "      <td>5</td>\n",
              "      <td>13</td>\n",
              "    </tr>\n",
              "    <tr>\n",
              "      <th>...</th>\n",
              "      <td>...</td>\n",
              "      <td>...</td>\n",
              "      <td>...</td>\n",
              "      <td>...</td>\n",
              "    </tr>\n",
              "    <tr>\n",
              "      <th>49683</th>\n",
              "      <td>49684</td>\n",
              "      <td>Vodka, Triple Distilled, Twist of Vanilla</td>\n",
              "      <td>124</td>\n",
              "      <td>5</td>\n",
              "    </tr>\n",
              "    <tr>\n",
              "      <th>49684</th>\n",
              "      <td>49685</td>\n",
              "      <td>En Croute Roast Hazelnut Cranberry</td>\n",
              "      <td>42</td>\n",
              "      <td>1</td>\n",
              "    </tr>\n",
              "    <tr>\n",
              "      <th>49685</th>\n",
              "      <td>49686</td>\n",
              "      <td>Artisan Baguette</td>\n",
              "      <td>112</td>\n",
              "      <td>3</td>\n",
              "    </tr>\n",
              "    <tr>\n",
              "      <th>49686</th>\n",
              "      <td>49687</td>\n",
              "      <td>Smartblend Healthy Metabolism Dry Cat Food</td>\n",
              "      <td>41</td>\n",
              "      <td>8</td>\n",
              "    </tr>\n",
              "    <tr>\n",
              "      <th>49687</th>\n",
              "      <td>49688</td>\n",
              "      <td>Fresh Foaming Cleanser</td>\n",
              "      <td>73</td>\n",
              "      <td>11</td>\n",
              "    </tr>\n",
              "  </tbody>\n",
              "</table>\n",
              "<p>49688 rows × 4 columns</p>\n",
              "</div>"
            ],
            "text/plain": [
              "       product_id  ... department_id\n",
              "0               1  ...            19\n",
              "1               2  ...            13\n",
              "2               3  ...             7\n",
              "3               4  ...             1\n",
              "4               5  ...            13\n",
              "...           ...  ...           ...\n",
              "49683       49684  ...             5\n",
              "49684       49685  ...             1\n",
              "49685       49686  ...             3\n",
              "49686       49687  ...             8\n",
              "49687       49688  ...            11\n",
              "\n",
              "[49688 rows x 4 columns]"
            ]
          },
          "metadata": {
            "tags": []
          },
          "execution_count": 14
        }
      ]
    },
    {
      "cell_type": "code",
      "metadata": {
        "colab": {
          "base_uri": "https://localhost:8080/"
        },
        "id": "t0fQ5kJZl2vR",
        "outputId": "48d4e800-95d8-4210-96a7-38e6fe2e8a55"
      },
      "source": [
        "products.info(verbose=True,memory_usage='deep')"
      ],
      "execution_count": null,
      "outputs": [
        {
          "output_type": "stream",
          "text": [
            "<class 'pandas.core.frame.DataFrame'>\n",
            "RangeIndex: 49688 entries, 0 to 49687\n",
            "Data columns (total 4 columns):\n",
            " #   Column         Non-Null Count  Dtype \n",
            "---  ------         --------------  ----- \n",
            " 0   product_id     49688 non-null  int64 \n",
            " 1   product_name   49688 non-null  object\n",
            " 2   aisle_id       49688 non-null  uint8 \n",
            " 3   department_id  49688 non-null  uint8 \n",
            "dtypes: int64(1), object(1), uint8(2)\n",
            "memory usage: 4.6 MB\n"
          ],
          "name": "stdout"
        }
      ]
    },
    {
      "cell_type": "markdown",
      "metadata": {
        "id": "E58iM7ryl2-g"
      },
      "source": [
        ">**Observations:**\n",
        "- Total 49,688 (~50k) products.\n",
        "- Each product belongs to a unique aisle and department.\n",
        "\n",
        "---\n",
        "\n"
      ]
    },
    {
      "cell_type": "markdown",
      "metadata": {
        "id": "iScusla1Q6wX"
      },
      "source": [
        "#### **Orders**"
      ]
    },
    {
      "cell_type": "code",
      "metadata": {
        "colab": {
          "base_uri": "https://localhost:8080/"
        },
        "id": "XGPCTEfhYlic",
        "outputId": "cfb9f884-80a8-4b3a-e9ea-3ca824995873"
      },
      "source": [
        "orders"
      ],
      "execution_count": null,
      "outputs": [
        {
          "output_type": "execute_result",
          "data": {
            "text/html": [
              "<div>\n",
              "<style scoped>\n",
              "    .dataframe tbody tr th:only-of-type {\n",
              "        vertical-align: middle;\n",
              "    }\n",
              "\n",
              "    .dataframe tbody tr th {\n",
              "        vertical-align: top;\n",
              "    }\n",
              "\n",
              "    .dataframe thead th {\n",
              "        text-align: right;\n",
              "    }\n",
              "</style>\n",
              "<table border=\"1\" class=\"dataframe\">\n",
              "  <thead>\n",
              "    <tr style=\"text-align: right;\">\n",
              "      <th></th>\n",
              "      <th>order_id</th>\n",
              "      <th>user_id</th>\n",
              "      <th>eval_set</th>\n",
              "      <th>order_number</th>\n",
              "      <th>order_dow</th>\n",
              "      <th>order_hour_of_day</th>\n",
              "      <th>days_since_prior_order</th>\n",
              "    </tr>\n",
              "  </thead>\n",
              "  <tbody>\n",
              "    <tr>\n",
              "      <th>0</th>\n",
              "      <td>2539329</td>\n",
              "      <td>1</td>\n",
              "      <td>prior</td>\n",
              "      <td>1</td>\n",
              "      <td>2</td>\n",
              "      <td>8</td>\n",
              "      <td>NaN</td>\n",
              "    </tr>\n",
              "    <tr>\n",
              "      <th>1</th>\n",
              "      <td>2398795</td>\n",
              "      <td>1</td>\n",
              "      <td>prior</td>\n",
              "      <td>2</td>\n",
              "      <td>3</td>\n",
              "      <td>7</td>\n",
              "      <td>15.0</td>\n",
              "    </tr>\n",
              "    <tr>\n",
              "      <th>2</th>\n",
              "      <td>473747</td>\n",
              "      <td>1</td>\n",
              "      <td>prior</td>\n",
              "      <td>3</td>\n",
              "      <td>3</td>\n",
              "      <td>12</td>\n",
              "      <td>21.0</td>\n",
              "    </tr>\n",
              "    <tr>\n",
              "      <th>3</th>\n",
              "      <td>2254736</td>\n",
              "      <td>1</td>\n",
              "      <td>prior</td>\n",
              "      <td>4</td>\n",
              "      <td>4</td>\n",
              "      <td>7</td>\n",
              "      <td>29.0</td>\n",
              "    </tr>\n",
              "    <tr>\n",
              "      <th>4</th>\n",
              "      <td>431534</td>\n",
              "      <td>1</td>\n",
              "      <td>prior</td>\n",
              "      <td>5</td>\n",
              "      <td>4</td>\n",
              "      <td>15</td>\n",
              "      <td>28.0</td>\n",
              "    </tr>\n",
              "    <tr>\n",
              "      <th>...</th>\n",
              "      <td>...</td>\n",
              "      <td>...</td>\n",
              "      <td>...</td>\n",
              "      <td>...</td>\n",
              "      <td>...</td>\n",
              "      <td>...</td>\n",
              "      <td>...</td>\n",
              "    </tr>\n",
              "    <tr>\n",
              "      <th>3421078</th>\n",
              "      <td>2266710</td>\n",
              "      <td>206209</td>\n",
              "      <td>prior</td>\n",
              "      <td>10</td>\n",
              "      <td>5</td>\n",
              "      <td>18</td>\n",
              "      <td>29.0</td>\n",
              "    </tr>\n",
              "    <tr>\n",
              "      <th>3421079</th>\n",
              "      <td>1854736</td>\n",
              "      <td>206209</td>\n",
              "      <td>prior</td>\n",
              "      <td>11</td>\n",
              "      <td>4</td>\n",
              "      <td>10</td>\n",
              "      <td>30.0</td>\n",
              "    </tr>\n",
              "    <tr>\n",
              "      <th>3421080</th>\n",
              "      <td>626363</td>\n",
              "      <td>206209</td>\n",
              "      <td>prior</td>\n",
              "      <td>12</td>\n",
              "      <td>1</td>\n",
              "      <td>12</td>\n",
              "      <td>18.0</td>\n",
              "    </tr>\n",
              "    <tr>\n",
              "      <th>3421081</th>\n",
              "      <td>2977660</td>\n",
              "      <td>206209</td>\n",
              "      <td>prior</td>\n",
              "      <td>13</td>\n",
              "      <td>1</td>\n",
              "      <td>12</td>\n",
              "      <td>7.0</td>\n",
              "    </tr>\n",
              "    <tr>\n",
              "      <th>3421082</th>\n",
              "      <td>272231</td>\n",
              "      <td>206209</td>\n",
              "      <td>train</td>\n",
              "      <td>14</td>\n",
              "      <td>6</td>\n",
              "      <td>14</td>\n",
              "      <td>30.0</td>\n",
              "    </tr>\n",
              "  </tbody>\n",
              "</table>\n",
              "<p>3421083 rows × 7 columns</p>\n",
              "</div>"
            ],
            "text/plain": [
              "         order_id  user_id  ... order_hour_of_day  days_since_prior_order\n",
              "0         2539329        1  ...                 8                     NaN\n",
              "1         2398795        1  ...                 7                    15.0\n",
              "2          473747        1  ...                12                    21.0\n",
              "3         2254736        1  ...                 7                    29.0\n",
              "4          431534        1  ...                15                    28.0\n",
              "...           ...      ...  ...               ...                     ...\n",
              "3421078   2266710   206209  ...                18                    29.0\n",
              "3421079   1854736   206209  ...                10                    30.0\n",
              "3421080    626363   206209  ...                12                    18.0\n",
              "3421081   2977660   206209  ...                12                     7.0\n",
              "3421082    272231   206209  ...                14                    30.0\n",
              "\n",
              "[3421083 rows x 7 columns]"
            ]
          },
          "metadata": {
            "tags": []
          },
          "execution_count": 16
        }
      ]
    },
    {
      "cell_type": "code",
      "metadata": {
        "colab": {
          "base_uri": "https://localhost:8080/"
        },
        "id": "cf4zbXWeRIR9",
        "outputId": "67a2496a-22a1-41f7-9f43-930b143f3524"
      },
      "source": [
        "orders.info(null_counts=True, memory_usage='deep')"
      ],
      "execution_count": null,
      "outputs": [
        {
          "output_type": "stream",
          "text": [
            "<class 'pandas.core.frame.DataFrame'>\n",
            "RangeIndex: 3421083 entries, 0 to 3421082\n",
            "Data columns (total 7 columns):\n",
            " #   Column                  Non-Null Count    Dtype  \n",
            "---  ------                  --------------    -----  \n",
            " 0   order_id                3421083 non-null  int64  \n",
            " 1   user_id                 3421083 non-null  int64  \n",
            " 2   eval_set                3421083 non-null  object \n",
            " 3   order_number            3421083 non-null  uint8  \n",
            " 4   order_dow               3421083 non-null  uint8  \n",
            " 5   order_hour_of_day       3421083 non-null  uint8  \n",
            " 6   days_since_prior_order  3214874 non-null  float16\n",
            "dtypes: float16(1), int64(2), object(1), uint8(3)\n",
            "memory usage: 270.7 MB\n"
          ],
          "name": "stdout"
        }
      ]
    },
    {
      "cell_type": "code",
      "metadata": {
        "colab": {
          "base_uri": "https://localhost:8080/"
        },
        "id": "IFt9IFVgS-Pe",
        "outputId": "d553e882-6e4a-4751-e203-b969cbb2de82"
      },
      "source": [
        "print('No. of unique values per column:')\n",
        "print('--------------------------------')\n",
        "orders.nunique()"
      ],
      "execution_count": null,
      "outputs": [
        {
          "output_type": "stream",
          "text": [
            "No. of unique values per column:\n",
            "--------------------------------\n"
          ],
          "name": "stdout"
        },
        {
          "output_type": "execute_result",
          "data": {
            "text/plain": [
              "order_id                  3421083\n",
              "user_id                    206209\n",
              "eval_set                        3\n",
              "order_number                  100\n",
              "order_dow                       7\n",
              "order_hour_of_day              24\n",
              "days_since_prior_order         31\n",
              "dtype: int64"
            ]
          },
          "metadata": {
            "tags": []
          },
          "execution_count": 18
        }
      ]
    },
    {
      "cell_type": "markdown",
      "metadata": {
        "id": "6w4A6HrweL2s"
      },
      "source": [
        "> **Observation:**\n",
        "- Total 3,421,083 (~3.4M) orders.\n",
        "- Total 206,209 (~206k) users.\n",
        "- <u>order_number</u>: the order sequence number for this user (1 = first, n = nth).\n",
        "- <u>order_dow</u>: the day of the week the order was placed on (0-6).\n",
        "- <u>order_hour_of_day</u>: the hour of the day the order was placed on (0-23)."
      ]
    },
    {
      "cell_type": "code",
      "metadata": {
        "colab": {
          "base_uri": "https://localhost:8080/"
        },
        "id": "kTPI5moXZCjG",
        "outputId": "75df2e91-3b02-492c-b3c2-da32561a183f"
      },
      "source": [
        "orders.eval_set.unique()"
      ],
      "execution_count": null,
      "outputs": [
        {
          "output_type": "execute_result",
          "data": {
            "text/plain": [
              "array(['prior', 'train', 'test'], dtype=object)"
            ]
          },
          "metadata": {
            "tags": []
          },
          "execution_count": 19
        }
      ]
    },
    {
      "cell_type": "code",
      "metadata": {
        "colab": {
          "base_uri": "https://localhost:8080/"
        },
        "id": "kAyr_12WcGIc",
        "outputId": "07a4e992-1f39-4c52-a92d-fcd6dd321252"
      },
      "source": [
        "print('Each order belongs to either train or test or prior set.')\n",
        "print('\\t\\t user_id=1')\n",
        "display(orders.loc[orders.user_id==1,['order_id','user_id','eval_set','order_number']].head(20))\n",
        "print('\\n\\t\\t user_id=32')\n",
        "display(orders.loc[orders.user_id==32,['order_id','user_id','eval_set','order_number']].head(20))\n",
        "print('Each user belongs to either train or test set.')\n",
        "print(\"\"\"Depending upon the eval_set value of the user's last order\\\n",
        " i.e. train/test the user belongs to that set respectively.\"\"\")"
      ],
      "execution_count": null,
      "outputs": [
        {
          "output_type": "stream",
          "text": [
            "Each order belongs to either train or test or prior set.\n",
            "\t\t user_id=1\n"
          ],
          "name": "stdout"
        },
        {
          "output_type": "display_data",
          "data": {
            "text/html": [
              "<div>\n",
              "<style scoped>\n",
              "    .dataframe tbody tr th:only-of-type {\n",
              "        vertical-align: middle;\n",
              "    }\n",
              "\n",
              "    .dataframe tbody tr th {\n",
              "        vertical-align: top;\n",
              "    }\n",
              "\n",
              "    .dataframe thead th {\n",
              "        text-align: right;\n",
              "    }\n",
              "</style>\n",
              "<table border=\"1\" class=\"dataframe\">\n",
              "  <thead>\n",
              "    <tr style=\"text-align: right;\">\n",
              "      <th></th>\n",
              "      <th>order_id</th>\n",
              "      <th>user_id</th>\n",
              "      <th>eval_set</th>\n",
              "      <th>order_number</th>\n",
              "    </tr>\n",
              "  </thead>\n",
              "  <tbody>\n",
              "    <tr>\n",
              "      <th>0</th>\n",
              "      <td>2539329</td>\n",
              "      <td>1</td>\n",
              "      <td>prior</td>\n",
              "      <td>1</td>\n",
              "    </tr>\n",
              "    <tr>\n",
              "      <th>1</th>\n",
              "      <td>2398795</td>\n",
              "      <td>1</td>\n",
              "      <td>prior</td>\n",
              "      <td>2</td>\n",
              "    </tr>\n",
              "    <tr>\n",
              "      <th>2</th>\n",
              "      <td>473747</td>\n",
              "      <td>1</td>\n",
              "      <td>prior</td>\n",
              "      <td>3</td>\n",
              "    </tr>\n",
              "    <tr>\n",
              "      <th>3</th>\n",
              "      <td>2254736</td>\n",
              "      <td>1</td>\n",
              "      <td>prior</td>\n",
              "      <td>4</td>\n",
              "    </tr>\n",
              "    <tr>\n",
              "      <th>4</th>\n",
              "      <td>431534</td>\n",
              "      <td>1</td>\n",
              "      <td>prior</td>\n",
              "      <td>5</td>\n",
              "    </tr>\n",
              "    <tr>\n",
              "      <th>5</th>\n",
              "      <td>3367565</td>\n",
              "      <td>1</td>\n",
              "      <td>prior</td>\n",
              "      <td>6</td>\n",
              "    </tr>\n",
              "    <tr>\n",
              "      <th>6</th>\n",
              "      <td>550135</td>\n",
              "      <td>1</td>\n",
              "      <td>prior</td>\n",
              "      <td>7</td>\n",
              "    </tr>\n",
              "    <tr>\n",
              "      <th>7</th>\n",
              "      <td>3108588</td>\n",
              "      <td>1</td>\n",
              "      <td>prior</td>\n",
              "      <td>8</td>\n",
              "    </tr>\n",
              "    <tr>\n",
              "      <th>8</th>\n",
              "      <td>2295261</td>\n",
              "      <td>1</td>\n",
              "      <td>prior</td>\n",
              "      <td>9</td>\n",
              "    </tr>\n",
              "    <tr>\n",
              "      <th>9</th>\n",
              "      <td>2550362</td>\n",
              "      <td>1</td>\n",
              "      <td>prior</td>\n",
              "      <td>10</td>\n",
              "    </tr>\n",
              "    <tr>\n",
              "      <th>10</th>\n",
              "      <td>1187899</td>\n",
              "      <td>1</td>\n",
              "      <td>train</td>\n",
              "      <td>11</td>\n",
              "    </tr>\n",
              "  </tbody>\n",
              "</table>\n",
              "</div>"
            ],
            "text/plain": [
              "    order_id  user_id eval_set  order_number\n",
              "0    2539329        1    prior             1\n",
              "1    2398795        1    prior             2\n",
              "2     473747        1    prior             3\n",
              "3    2254736        1    prior             4\n",
              "4     431534        1    prior             5\n",
              "5    3367565        1    prior             6\n",
              "6     550135        1    prior             7\n",
              "7    3108588        1    prior             8\n",
              "8    2295261        1    prior             9\n",
              "9    2550362        1    prior            10\n",
              "10   1187899        1    train            11"
            ]
          },
          "metadata": {
            "tags": []
          }
        },
        {
          "output_type": "stream",
          "text": [
            "\n",
            "\t\t user_id=32\n"
          ],
          "name": "stdout"
        },
        {
          "output_type": "display_data",
          "data": {
            "text/html": [
              "<div>\n",
              "<style scoped>\n",
              "    .dataframe tbody tr th:only-of-type {\n",
              "        vertical-align: middle;\n",
              "    }\n",
              "\n",
              "    .dataframe tbody tr th {\n",
              "        vertical-align: top;\n",
              "    }\n",
              "\n",
              "    .dataframe thead th {\n",
              "        text-align: right;\n",
              "    }\n",
              "</style>\n",
              "<table border=\"1\" class=\"dataframe\">\n",
              "  <thead>\n",
              "    <tr style=\"text-align: right;\">\n",
              "      <th></th>\n",
              "      <th>order_id</th>\n",
              "      <th>user_id</th>\n",
              "      <th>eval_set</th>\n",
              "      <th>order_number</th>\n",
              "    </tr>\n",
              "  </thead>\n",
              "  <tbody>\n",
              "    <tr>\n",
              "      <th>470</th>\n",
              "      <td>134879</td>\n",
              "      <td>32</td>\n",
              "      <td>prior</td>\n",
              "      <td>1</td>\n",
              "    </tr>\n",
              "    <tr>\n",
              "      <th>471</th>\n",
              "      <td>1275838</td>\n",
              "      <td>32</td>\n",
              "      <td>prior</td>\n",
              "      <td>2</td>\n",
              "    </tr>\n",
              "    <tr>\n",
              "      <th>472</th>\n",
              "      <td>1709286</td>\n",
              "      <td>32</td>\n",
              "      <td>prior</td>\n",
              "      <td>3</td>\n",
              "    </tr>\n",
              "    <tr>\n",
              "      <th>473</th>\n",
              "      <td>72626</td>\n",
              "      <td>32</td>\n",
              "      <td>prior</td>\n",
              "      <td>4</td>\n",
              "    </tr>\n",
              "    <tr>\n",
              "      <th>474</th>\n",
              "      <td>1210985</td>\n",
              "      <td>32</td>\n",
              "      <td>prior</td>\n",
              "      <td>5</td>\n",
              "    </tr>\n",
              "    <tr>\n",
              "      <th>475</th>\n",
              "      <td>3202221</td>\n",
              "      <td>32</td>\n",
              "      <td>test</td>\n",
              "      <td>6</td>\n",
              "    </tr>\n",
              "  </tbody>\n",
              "</table>\n",
              "</div>"
            ],
            "text/plain": [
              "     order_id  user_id eval_set  order_number\n",
              "470    134879       32    prior             1\n",
              "471   1275838       32    prior             2\n",
              "472   1709286       32    prior             3\n",
              "473     72626       32    prior             4\n",
              "474   1210985       32    prior             5\n",
              "475   3202221       32     test             6"
            ]
          },
          "metadata": {
            "tags": []
          }
        },
        {
          "output_type": "stream",
          "text": [
            "Each user belongs to either train or test set.\n",
            "Depending upon the eval_set value of the user's last order i.e. train/test the user belongs to that set respectively.\n"
          ],
          "name": "stdout"
        }
      ]
    },
    {
      "cell_type": "code",
      "metadata": {
        "colab": {
          "base_uri": "https://localhost:8080/"
        },
        "id": "L1JkFnCc4KJM",
        "outputId": "f426d0a4-e443-4a04-df0c-d7d4940a4686"
      },
      "source": [
        "print('Number of orders belonging to each set:')\n",
        "orders.value_counts('eval_set')"
      ],
      "execution_count": null,
      "outputs": [
        {
          "output_type": "stream",
          "text": [
            "Number of orders belonging to each set:\n"
          ],
          "name": "stdout"
        },
        {
          "output_type": "execute_result",
          "data": {
            "text/plain": [
              "eval_set\n",
              "prior    3214874\n",
              "train     131209\n",
              "test       75000\n",
              "dtype: int64"
            ]
          },
          "metadata": {
            "tags": []
          },
          "execution_count": 26
        }
      ]
    },
    {
      "cell_type": "markdown",
      "metadata": {
        "id": "T_TUg5wgeeSZ"
      },
      "source": [
        "> **Observaitons:**\n",
        "- <u>eval_set</u>: which evaluation set this order belongs in (train/test/prior).\n",
        "    - \"prior\": orders prior to that user's most recent order (~3.2m orders)\n",
        "    - \"train\": user's most recent order for training (~131k orders)\n",
        "    - \"test\": user's most recent order test data for which we have to do prediction (75k orders)\n",
        "    - ![](https://i.imgur.com/S0Miw3m.png) \n",
        "    - img src:\n",
        "    https://www.kaggle.com/kokovidis/ml-instacart-f1-0-38-part-two-xgboost-f1-max\n",
        "- Each user is associated with either train or test data, since his/her last order is in either train or test eval_set.\n",
        "    - ~131k train users.\n",
        "    - 75k test users."
      ]
    },
    {
      "cell_type": "code",
      "metadata": {
        "colab": {
          "base_uri": "https://localhost:8080/"
        },
        "id": "b3mExEaxVuXM",
        "outputId": "c8f99414-0678-4f9a-eb50-ccfcafb8b16b"
      },
      "source": [
        "print('No. of null values in days_since_prior_order column = ', end='')\n",
        "orders.days_since_prior_order.isna().sum()"
      ],
      "execution_count": null,
      "outputs": [
        {
          "output_type": "stream",
          "text": [
            "No. of null values in days_since_prior_order column = "
          ],
          "name": "stdout"
        },
        {
          "output_type": "execute_result",
          "data": {
            "text/plain": [
              "206209"
            ]
          },
          "metadata": {
            "tags": []
          },
          "execution_count": 27
        }
      ]
    },
    {
      "cell_type": "markdown",
      "metadata": {
        "id": "iOUFPf_ARBf8"
      },
      "source": [
        "> **Observations:**\n",
        "- <u>days_since_prior_order</u>: days since the last order, capped at 30 (with NaNs for order_number = 1)\n",
        "    - days_since_prior_order col. contains 206,209 (~206k) NaN values.\n",
        "    - These are not missing values.\n",
        "    - There is no prior order for the 1st order placed by an user. Hence, this column's value for such cases are kept NaN. That's why no. of NaN values is exactly equal to no. of users.\n",
        "- Basically, this table contains the metadata of each order.\n",
        "\n",
        "---\n",
        "\n"
      ]
    },
    {
      "cell_type": "markdown",
      "metadata": {
        "id": "ke-ieTqmgN2c"
      },
      "source": [
        "#### **order_products_prior**"
      ]
    },
    {
      "cell_type": "code",
      "metadata": {
        "colab": {
          "base_uri": "https://localhost:8080/",
          "height": 419
        },
        "id": "JonMNqnngZ1n",
        "outputId": "5002b6c1-b1e1-42fb-ff25-5200e4bb78bd"
      },
      "source": [
        "order_products_prior"
      ],
      "execution_count": null,
      "outputs": [
        {
          "output_type": "execute_result",
          "data": {
            "text/html": [
              "<div>\n",
              "<style scoped>\n",
              "    .dataframe tbody tr th:only-of-type {\n",
              "        vertical-align: middle;\n",
              "    }\n",
              "\n",
              "    .dataframe tbody tr th {\n",
              "        vertical-align: top;\n",
              "    }\n",
              "\n",
              "    .dataframe thead th {\n",
              "        text-align: right;\n",
              "    }\n",
              "</style>\n",
              "<table border=\"1\" class=\"dataframe\">\n",
              "  <thead>\n",
              "    <tr style=\"text-align: right;\">\n",
              "      <th></th>\n",
              "      <th>order_id</th>\n",
              "      <th>product_id</th>\n",
              "      <th>add_to_cart_order</th>\n",
              "      <th>reordered</th>\n",
              "    </tr>\n",
              "  </thead>\n",
              "  <tbody>\n",
              "    <tr>\n",
              "      <th>0</th>\n",
              "      <td>2</td>\n",
              "      <td>33120</td>\n",
              "      <td>1</td>\n",
              "      <td>1</td>\n",
              "    </tr>\n",
              "    <tr>\n",
              "      <th>1</th>\n",
              "      <td>2</td>\n",
              "      <td>28985</td>\n",
              "      <td>2</td>\n",
              "      <td>1</td>\n",
              "    </tr>\n",
              "    <tr>\n",
              "      <th>2</th>\n",
              "      <td>2</td>\n",
              "      <td>9327</td>\n",
              "      <td>3</td>\n",
              "      <td>0</td>\n",
              "    </tr>\n",
              "    <tr>\n",
              "      <th>3</th>\n",
              "      <td>2</td>\n",
              "      <td>45918</td>\n",
              "      <td>4</td>\n",
              "      <td>1</td>\n",
              "    </tr>\n",
              "    <tr>\n",
              "      <th>4</th>\n",
              "      <td>2</td>\n",
              "      <td>30035</td>\n",
              "      <td>5</td>\n",
              "      <td>0</td>\n",
              "    </tr>\n",
              "    <tr>\n",
              "      <th>...</th>\n",
              "      <td>...</td>\n",
              "      <td>...</td>\n",
              "      <td>...</td>\n",
              "      <td>...</td>\n",
              "    </tr>\n",
              "    <tr>\n",
              "      <th>32434484</th>\n",
              "      <td>3421083</td>\n",
              "      <td>39678</td>\n",
              "      <td>6</td>\n",
              "      <td>1</td>\n",
              "    </tr>\n",
              "    <tr>\n",
              "      <th>32434485</th>\n",
              "      <td>3421083</td>\n",
              "      <td>11352</td>\n",
              "      <td>7</td>\n",
              "      <td>0</td>\n",
              "    </tr>\n",
              "    <tr>\n",
              "      <th>32434486</th>\n",
              "      <td>3421083</td>\n",
              "      <td>4600</td>\n",
              "      <td>8</td>\n",
              "      <td>0</td>\n",
              "    </tr>\n",
              "    <tr>\n",
              "      <th>32434487</th>\n",
              "      <td>3421083</td>\n",
              "      <td>24852</td>\n",
              "      <td>9</td>\n",
              "      <td>1</td>\n",
              "    </tr>\n",
              "    <tr>\n",
              "      <th>32434488</th>\n",
              "      <td>3421083</td>\n",
              "      <td>5020</td>\n",
              "      <td>10</td>\n",
              "      <td>1</td>\n",
              "    </tr>\n",
              "  </tbody>\n",
              "</table>\n",
              "<p>32434489 rows × 4 columns</p>\n",
              "</div>"
            ],
            "text/plain": [
              "          order_id  product_id  add_to_cart_order reordered\n",
              "0                2       33120                  1         1\n",
              "1                2       28985                  2         1\n",
              "2                2        9327                  3         0\n",
              "3                2       45918                  4         1\n",
              "4                2       30035                  5         0\n",
              "...            ...         ...                ...       ...\n",
              "32434484   3421083       39678                  6         1\n",
              "32434485   3421083       11352                  7         0\n",
              "32434486   3421083        4600                  8         0\n",
              "32434487   3421083       24852                  9         1\n",
              "32434488   3421083        5020                 10         1\n",
              "\n",
              "[32434489 rows x 4 columns]"
            ]
          },
          "metadata": {
            "tags": []
          },
          "execution_count": 48
        }
      ]
    },
    {
      "cell_type": "code",
      "metadata": {
        "colab": {
          "base_uri": "https://localhost:8080/"
        },
        "id": "wkGVcJhNln4g",
        "outputId": "0a891800-46b1-46c3-f6fb-2c609a7f2529"
      },
      "source": [
        "order_products_prior.info(memory_usage='deep', null_counts=True)"
      ],
      "execution_count": null,
      "outputs": [
        {
          "output_type": "stream",
          "text": [
            "<class 'pandas.core.frame.DataFrame'>\n",
            "RangeIndex: 32434489 entries, 0 to 32434488\n",
            "Data columns (total 4 columns):\n",
            " #   Column             Non-Null Count     Dtype   \n",
            "---  ------             --------------     -----   \n",
            " 0   order_id           32434489 non-null  int64   \n",
            " 1   product_id         32434489 non-null  int64   \n",
            " 2   add_to_cart_order  32434489 non-null  uint8   \n",
            " 3   reordered          32434489 non-null  category\n",
            "dtypes: category(1), int64(2), uint8(1)\n",
            "memory usage: 556.8 MB\n"
          ],
          "name": "stdout"
        }
      ]
    },
    {
      "cell_type": "markdown",
      "metadata": {
        "id": "xHVkX4QDgaHJ"
      },
      "source": [
        "> **Observations:**\n",
        "- This table contains all the products purchased in each prior order with the sequence of products purchased in that order. For both train and test users.\n",
        "- <u>add_to_cart_order</u>: order in which each product was added to cart.\n",
        "- <u>reordered</u>: 1 if this product has been ordered by the user in the past, 0 otherwise.\n",
        "    - 1 - 'reorder'\n",
        "    - 0 - 'first purchase'\n",
        "\n",
        "---\n",
        "\n"
      ]
    },
    {
      "cell_type": "markdown",
      "metadata": {
        "id": "nYrjhLSznQaY"
      },
      "source": [
        "#### **order_products_train**"
      ]
    },
    {
      "cell_type": "code",
      "metadata": {
        "colab": {
          "base_uri": "https://localhost:8080/",
          "height": 419
        },
        "id": "_eYkF7fEnVmu",
        "outputId": "e9c1821a-7e39-473e-dd79-64d0ff98dcf5"
      },
      "source": [
        "order_products_train"
      ],
      "execution_count": null,
      "outputs": [
        {
          "output_type": "execute_result",
          "data": {
            "text/html": [
              "<div>\n",
              "<style scoped>\n",
              "    .dataframe tbody tr th:only-of-type {\n",
              "        vertical-align: middle;\n",
              "    }\n",
              "\n",
              "    .dataframe tbody tr th {\n",
              "        vertical-align: top;\n",
              "    }\n",
              "\n",
              "    .dataframe thead th {\n",
              "        text-align: right;\n",
              "    }\n",
              "</style>\n",
              "<table border=\"1\" class=\"dataframe\">\n",
              "  <thead>\n",
              "    <tr style=\"text-align: right;\">\n",
              "      <th></th>\n",
              "      <th>order_id</th>\n",
              "      <th>product_id</th>\n",
              "      <th>add_to_cart_order</th>\n",
              "      <th>reordered</th>\n",
              "    </tr>\n",
              "  </thead>\n",
              "  <tbody>\n",
              "    <tr>\n",
              "      <th>0</th>\n",
              "      <td>1</td>\n",
              "      <td>49302</td>\n",
              "      <td>1</td>\n",
              "      <td>1</td>\n",
              "    </tr>\n",
              "    <tr>\n",
              "      <th>1</th>\n",
              "      <td>1</td>\n",
              "      <td>11109</td>\n",
              "      <td>2</td>\n",
              "      <td>1</td>\n",
              "    </tr>\n",
              "    <tr>\n",
              "      <th>2</th>\n",
              "      <td>1</td>\n",
              "      <td>10246</td>\n",
              "      <td>3</td>\n",
              "      <td>0</td>\n",
              "    </tr>\n",
              "    <tr>\n",
              "      <th>3</th>\n",
              "      <td>1</td>\n",
              "      <td>49683</td>\n",
              "      <td>4</td>\n",
              "      <td>0</td>\n",
              "    </tr>\n",
              "    <tr>\n",
              "      <th>4</th>\n",
              "      <td>1</td>\n",
              "      <td>43633</td>\n",
              "      <td>5</td>\n",
              "      <td>1</td>\n",
              "    </tr>\n",
              "    <tr>\n",
              "      <th>...</th>\n",
              "      <td>...</td>\n",
              "      <td>...</td>\n",
              "      <td>...</td>\n",
              "      <td>...</td>\n",
              "    </tr>\n",
              "    <tr>\n",
              "      <th>1384612</th>\n",
              "      <td>3421063</td>\n",
              "      <td>14233</td>\n",
              "      <td>3</td>\n",
              "      <td>1</td>\n",
              "    </tr>\n",
              "    <tr>\n",
              "      <th>1384613</th>\n",
              "      <td>3421063</td>\n",
              "      <td>35548</td>\n",
              "      <td>4</td>\n",
              "      <td>1</td>\n",
              "    </tr>\n",
              "    <tr>\n",
              "      <th>1384614</th>\n",
              "      <td>3421070</td>\n",
              "      <td>35951</td>\n",
              "      <td>1</td>\n",
              "      <td>1</td>\n",
              "    </tr>\n",
              "    <tr>\n",
              "      <th>1384615</th>\n",
              "      <td>3421070</td>\n",
              "      <td>16953</td>\n",
              "      <td>2</td>\n",
              "      <td>1</td>\n",
              "    </tr>\n",
              "    <tr>\n",
              "      <th>1384616</th>\n",
              "      <td>3421070</td>\n",
              "      <td>4724</td>\n",
              "      <td>3</td>\n",
              "      <td>1</td>\n",
              "    </tr>\n",
              "  </tbody>\n",
              "</table>\n",
              "<p>1384617 rows × 4 columns</p>\n",
              "</div>"
            ],
            "text/plain": [
              "         order_id  product_id  add_to_cart_order  reordered\n",
              "0               1       49302                  1          1\n",
              "1               1       11109                  2          1\n",
              "2               1       10246                  3          0\n",
              "3               1       49683                  4          0\n",
              "4               1       43633                  5          1\n",
              "...           ...         ...                ...        ...\n",
              "1384612   3421063       14233                  3          1\n",
              "1384613   3421063       35548                  4          1\n",
              "1384614   3421070       35951                  1          1\n",
              "1384615   3421070       16953                  2          1\n",
              "1384616   3421070        4724                  3          1\n",
              "\n",
              "[1384617 rows x 4 columns]"
            ]
          },
          "metadata": {
            "tags": []
          },
          "execution_count": 52
        }
      ]
    },
    {
      "cell_type": "code",
      "metadata": {
        "colab": {
          "base_uri": "https://localhost:8080/"
        },
        "id": "Xg7gwy7zna-m",
        "outputId": "d1720618-00c8-4490-d14c-2aeb5084dbf6"
      },
      "source": [
        "order_products_train.info(memory_usage='deep', null_counts=True)"
      ],
      "execution_count": null,
      "outputs": [
        {
          "output_type": "stream",
          "text": [
            "<class 'pandas.core.frame.DataFrame'>\n",
            "RangeIndex: 1384617 entries, 0 to 1384616\n",
            "Data columns (total 4 columns):\n",
            " #   Column             Non-Null Count    Dtype\n",
            "---  ------             --------------    -----\n",
            " 0   order_id           1384617 non-null  int64\n",
            " 1   product_id         1384617 non-null  int64\n",
            " 2   add_to_cart_order  1384617 non-null  uint8\n",
            " 3   reordered          1384617 non-null  int8 \n",
            "dtypes: int64(2), int8(1), uint8(1)\n",
            "memory usage: 23.8 MB\n"
          ],
          "name": "stdout"
        }
      ]
    },
    {
      "cell_type": "markdown",
      "metadata": {
        "id": "UQJaugaJnVxi"
      },
      "source": [
        "> **Observations:**\n",
        "- This table contains all the products purchased in each train order with the sequence of products purchased in that order.\n",
        "- <u>add_to_cart_order</u>: order in which each product was added to cart.\n",
        "- <u>reordered</u>: 1 if this product has been ordered by the user in the past, 0 otherwise.\n",
        "    - 1 - 'reorder'\n",
        "    - 0 - 'first purchase'\n",
        "- There are no missing values in any of the tables.\n",
        "\n",
        "---\n",
        "\n"
      ]
    },
    {
      "cell_type": "markdown",
      "metadata": {
        "id": "xVo1URgV3fGZ"
      },
      "source": [
        "## **Mapping to a Supervised classification problem:**\n",
        "- Task: Given order_id i.e.{user info + info of prior products purchased by that user} predict all the products that will be reordered.\n",
        "- Since, we have to predict multiple products for a given order_id. This is a multilabel classification task with (~50k) labels.\n",
        "- Simplifying the task:\n",
        "    - Given the order_id, we know the user_id.\n",
        "    - The products that the user has never bought can't be reordered.\n",
        "    - Only the prior products(i.e. products bought earlier) can be reordered by this user.\n",
        "    - We can run **binary classification** for all such products, where \"reordered\" is target variable(Y).\n",
        "    - Predictor variables(X) will contain user_info & product_info.\n",
        "    - Hence the evaluation metric(mean F1-score) can be calculated using the F1-score on binary classification task."
      ]
    },
    {
      "cell_type": "markdown",
      "metadata": {
        "id": "zdmTmLQ54Uzn"
      },
      "source": [
        "![](https://i.imgur.com/Yb1CKAF.png)\n",
        "\n",
        "img src: https://www.kaggle.com/kokovidis/ml-instacart-f1-0-38-part-two-xgboost-f1-max\n",
        "\n",
        "---\n",
        "\n"
      ]
    },
    {
      "cell_type": "markdown",
      "metadata": {
        "id": "iOD9oQOfWpZN"
      },
      "source": [
        "## Data Cleaning.🧹\n",
        "- Deduplication\n",
        "- Find and Fix any missing values.\n",
        "- Find and Fix any Garbage/incorrect values."
      ]
    },
    {
      "cell_type": "markdown",
      "metadata": {
        "id": "_PL0Lb2liu-w"
      },
      "source": [
        "#### **Deduplication**"
      ]
    },
    {
      "cell_type": "code",
      "metadata": {
        "colab": {
          "base_uri": "https://localhost:8080/"
        },
        "id": "29Es4iU2izEn",
        "outputId": "1a8c394d-8fd3-485f-e5cf-65b4dac22cc5"
      },
      "source": [
        "print('Is there any duplicate rows in aisles table?','->',sep='\\n',end='')\n",
        "aisles.duplicated().any()"
      ],
      "execution_count": null,
      "outputs": [
        {
          "output_type": "stream",
          "text": [
            "Is there any duplicate rows in aisles table?\n",
            "->"
          ],
          "name": "stdout"
        },
        {
          "output_type": "execute_result",
          "data": {
            "text/plain": [
              "False"
            ]
          },
          "metadata": {
            "tags": []
          },
          "execution_count": 28
        }
      ]
    },
    {
      "cell_type": "code",
      "metadata": {
        "colab": {
          "base_uri": "https://localhost:8080/"
        },
        "id": "vkPbJn89jZgr",
        "outputId": "b843ed4e-98f3-49d4-b767-a7ea474d5fe9"
      },
      "source": [
        "print('Is there any duplicate rows in departments table?','->',sep='\\n',end='')\n",
        "dep.duplicated().any()"
      ],
      "execution_count": null,
      "outputs": [
        {
          "output_type": "stream",
          "text": [
            "Is there any duplicate rows in departments table?\n",
            "->"
          ],
          "name": "stdout"
        },
        {
          "output_type": "execute_result",
          "data": {
            "text/plain": [
              "False"
            ]
          },
          "metadata": {
            "tags": []
          },
          "execution_count": 29
        }
      ]
    },
    {
      "cell_type": "code",
      "metadata": {
        "colab": {
          "base_uri": "https://localhost:8080/"
        },
        "id": "Tcs2naD_jk0L",
        "outputId": "739b274e-7e3a-4e52-fdec-a209d40a90a0"
      },
      "source": [
        "print('Is there any duplicate rows in products table?','->',sep='\\n',end='')\n",
        "products.duplicated().any()"
      ],
      "execution_count": null,
      "outputs": [
        {
          "output_type": "stream",
          "text": [
            "Is there any duplicate rows in products table?\n",
            "->"
          ],
          "name": "stdout"
        },
        {
          "output_type": "execute_result",
          "data": {
            "text/plain": [
              "False"
            ]
          },
          "metadata": {
            "tags": []
          },
          "execution_count": 30
        }
      ]
    },
    {
      "cell_type": "code",
      "metadata": {
        "colab": {
          "base_uri": "https://localhost:8080/"
        },
        "id": "fX6mqzynkNE5",
        "outputId": "4df75c40-4a62-4d96-9ef1-f2378280570f"
      },
      "source": [
        "print('Is there any duplicate rows in orders table?','->',sep='\\n',end='')\n",
        "orders.duplicated().any()"
      ],
      "execution_count": null,
      "outputs": [
        {
          "output_type": "stream",
          "text": [
            "Is there any duplicate rows in orders table?\n",
            "->"
          ],
          "name": "stdout"
        },
        {
          "output_type": "execute_result",
          "data": {
            "text/plain": [
              "False"
            ]
          },
          "metadata": {
            "tags": []
          },
          "execution_count": 31
        }
      ]
    },
    {
      "cell_type": "code",
      "metadata": {
        "colab": {
          "base_uri": "https://localhost:8080/"
        },
        "id": "d-ytri6NkNZ8",
        "outputId": "53ea08f2-614f-4520-8fa5-7567aafc2861"
      },
      "source": [
        "print('Is there any duplicate rows in order_products_prior table?','->',sep='\\n',end='')\n",
        "order_products_prior.duplicated().any()"
      ],
      "execution_count": null,
      "outputs": [
        {
          "output_type": "stream",
          "text": [
            "Is there any duplicate rows in order_products_prior table?\n",
            "->"
          ],
          "name": "stdout"
        },
        {
          "output_type": "execute_result",
          "data": {
            "text/plain": [
              "False"
            ]
          },
          "metadata": {
            "tags": []
          },
          "execution_count": 32
        }
      ]
    },
    {
      "cell_type": "code",
      "metadata": {
        "colab": {
          "base_uri": "https://localhost:8080/"
        },
        "id": "qSamwopQkNoA",
        "outputId": "fb83d39c-39fc-42f6-b4c3-1c65f768a69b"
      },
      "source": [
        "print('Is there any duplicate rows in order_products_train table?','->',sep='\\n',end='')\n",
        "order_products_train.duplicated().any()"
      ],
      "execution_count": null,
      "outputs": [
        {
          "output_type": "stream",
          "text": [
            "Is there any duplicate rows in order_products_train table?\n",
            "->"
          ],
          "name": "stdout"
        },
        {
          "output_type": "execute_result",
          "data": {
            "text/plain": [
              "False"
            ]
          },
          "metadata": {
            "tags": []
          },
          "execution_count": 33
        }
      ]
    },
    {
      "cell_type": "markdown",
      "metadata": {
        "id": "xXXeSgZSkqSi"
      },
      "source": [
        "> **Observations:**\n",
        "- There are no duplicates in any of the tables.\n",
        "\n",
        "---\n",
        "\n"
      ]
    },
    {
      "cell_type": "markdown",
      "metadata": {
        "id": "h8OYnj_1lM6B"
      },
      "source": [
        "#### **Missing Values**\n",
        "- As we saw in the [Data overview](#data-overview) section, there are no missing values in any of the tables.\n",
        "\n",
        "---\n",
        "\n"
      ]
    },
    {
      "cell_type": "markdown",
      "metadata": {
        "id": "P_ffyFrxlVgX"
      },
      "source": [
        "#### **Garbage Values**"
      ]
    },
    {
      "cell_type": "code",
      "metadata": {
        "colab": {
          "base_uri": "https://localhost:8080/"
        },
        "id": "a4yX-rcxmAMM",
        "outputId": "3a74627a-1b12-4a6c-9ab4-c315bc78b1a0"
      },
      "source": [
        "print('       aisles table')\n",
        "print('  Column         Is there any garbage value?')\n",
        "print('-----------      ---------------------------')\n",
        "sep='          ' \n",
        "print('aisle_id',aisles.aisle_id.astype('str').str.contains('[^0-9]').any(),sep=sep)\n",
        "print('   aisle',aisles.aisle.str.contains('[^a-zA-Z ]').any(),sep=sep)"
      ],
      "execution_count": null,
      "outputs": [
        {
          "output_type": "stream",
          "text": [
            "       aisles table\n",
            "  Column         Is there any garbage value?\n",
            "-----------      ---------------------------\n",
            "aisle_id          False\n",
            "   aisle          False\n"
          ],
          "name": "stdout"
        }
      ]
    },
    {
      "cell_type": "code",
      "metadata": {
        "colab": {
          "base_uri": "https://localhost:8080/"
        },
        "id": "NP6KW_cPzzZ4",
        "outputId": "f9d981b6-2084-42ea-f606-00ef4c320e33"
      },
      "source": [
        "print('       departments table')\n",
        "print('    Column         Is there any garbage value?')\n",
        "print('-------------      ---------------------------')\n",
        "sep='          ' \n",
        "print('department_id',dep.department_id.astype('str').str.contains('[^0-9]').any(),sep=sep)\n",
        "print('   department',dep.department.str.contains('[^a-zA-Z ]').any(),sep=sep)"
      ],
      "execution_count": null,
      "outputs": [
        {
          "output_type": "stream",
          "text": [
            "       departments table\n",
            "    Column         Is there any garbage value?\n",
            "-------------      ---------------------------\n",
            "department_id          False\n",
            "   department          False\n"
          ],
          "name": "stdout"
        }
      ]
    },
    {
      "cell_type": "code",
      "metadata": {
        "colab": {
          "base_uri": "https://localhost:8080/"
        },
        "id": "NUCs8o3WMSe0",
        "outputId": "7d13106b-80a9-4ef3-947b-7c5e944c9275"
      },
      "source": [
        "print('         products table')\n",
        "print('    Column         Is there any garbage value?')\n",
        "print('-------------      ---------------------------')\n",
        "sep='          ' \n",
        "print('   product_id',products.product_id.astype('str').str.contains('[^0-9]').any(),sep=sep)\n",
        "print('     aisle_id',products.product_id.astype('str').str.contains('[^0-9]').any(),sep=sep)\n",
        "print('department_id',products.product_id.astype('str').str.contains('[^0-9]').any(),sep=sep)\n",
        "print(' product_name',products.product_name.str.contains('[^a-zA-Z ]').any(),sep=sep)"
      ],
      "execution_count": null,
      "outputs": [
        {
          "output_type": "stream",
          "text": [
            "         products table\n",
            "    Column         Is there any garbage value?\n",
            "-------------      ---------------------------\n",
            "   product_id          False\n",
            "     aisle_id          False\n",
            "department_id          False\n",
            " product_name          True\n"
          ],
          "name": "stdout"
        }
      ]
    },
    {
      "cell_type": "code",
      "metadata": {
        "colab": {
          "base_uri": "https://localhost:8080/"
        },
        "id": "mXtEToQFW6nw",
        "outputId": "e0e83019-3a18-44ce-a8ef-14777c3c7b77"
      },
      "source": [
        "printb('Special characters in product names:')\n",
        "special_char = set(re.findall(\"[^a-zA-Z0-9 ]\",''.join(products.loc[:,'product_name'])))\n",
        "print(special_char)\n",
        "print(f'Total {len(special_char)} distinct special characters.')"
      ],
      "execution_count": null,
      "outputs": [
        {
          "output_type": "stream",
          "text": [
            "\u001b[1mSpecial characters in product names:\u001b[0m\n",
            "{'#', '/', 'ó', '™', 'í', '’', '´', '\\x8f', ')', '\"', 'û', '?', 'á', '�', '*', 'â', 'ú', '&', '\\\\', '.', '%', 'е', '(', '}', '˚', '°', '-', '‑', 'é', ',', '”', 'è', 'ñ', '–', 'ü', '`', '{', '®', '=', 'ô', '+', '!', ':', '@', '$', '\\xa0', \"'\", 'ç', ';'}\n",
            "Total 49 distinct special characters.\n"
          ],
          "name": "stdout"
        }
      ]
    },
    {
      "cell_type": "code",
      "metadata": {
        "colab": {
          "base_uri": "https://localhost:8080/"
        },
        "id": "ShoU49znXs_a",
        "outputId": "86115e9b-28c8-4498-f90f-b14cda7d7701"
      },
      "source": [
        "print(\"\\033[1m\",\"Let's see some product names containing above special chars:\",\"\\033[0m\") # \\033[1m for printing bold\n",
        "print(\"------------------------------------------------------------\")\n",
        "print('char                      product name')\n",
        "print('----         ----------------------------------------')\n",
        "sep= '          '\n",
        "for char in special_char:\n",
        "    print(repr(char),products.loc[products.product_name.str.contains(char,regex=False),'product_name'].iloc[0], sep=sep)"
      ],
      "execution_count": null,
      "outputs": [
        {
          "output_type": "stream",
          "text": [
            "\u001b[1m Let's see some product names containing above special chars: \u001b[0m\n",
            "------------------------------------------------------------\n",
            "char                      product name\n",
            "----         ----------------------------------------\n",
            "'#'          Natural Brown Cone Style Coffee Filters #4\n",
            "'/'          24/7 Performance Cat Litter\n",
            "'ó'          Chile Limón Flavored Potato Chips\n",
            "'™'          Mouthwash Clean Mint Listerine® Zero™\n",
            "'í'          Blueberry Pomegranate Acaí Cultured Goat Milk Kefir\n",
            "'’'          Kickin’ BBQ Chopped Salad\n",
            "'´'          Women´s Multivitamin Gummies\n",
            "'\\x8f'          Hershey's Chocolate Creme Pie Singles\n",
            "')'          Fabric Refresher Meadows & Rain Air Freshener (1 Count, 27 oz)  Air Care\n",
            "'\"'          Easy Grab 9\\\"x13\\\" Oblong Glass Bakeware\n",
            "'û'          Milk Chocolate Truffle Brûlée\n",
            "'?'          Ksa Ko?Lsch Style Ale\n",
            "'á'          Reserve Dark Roast Guatemala San Sebastián Ground Coffee\n",
            "'�'          Diana�s Bananas Milk Chocolate with Peanuts - Banana Babies � 5 CT\n",
            "'*'          Fresh Care* Flushable Cleansing Cloths Refill\n",
            "'â'          Neufchâtel Cream Cheese Spread\n",
            "'ú'          Reserve Dark Roast Costa Rica Tarrazú Whole Bean Coffee\n",
            "'&'          Sparkling Orange Juice & Prickly Pear Beverage\n",
            "'\\\\'          Easy Grab 9\\\"x13\\\" Oblong Glass Bakeware\n",
            "'.'          Zita Cut, No. 118\n",
            "'%'          All Natural 100% Apple Juice\n",
            "'е'          Naturе's Calorie-Free Sweetener\n",
            "'('          Fabric Refresher Meadows & Rain Air Freshener (1 Count, 27 oz)  Air Care\n",
            "'}'          Fresh Effects {Everything Off!} Deluxe Make-Up Removal Wet Cloths\n",
            "'˚'          360˚ Floss-tip Bristles Powered Toothbrush Soft\n",
            "'°'          Miracle 360°  Trainer Cup\n",
            "'-'          All-Seasons Salt\n",
            "'‑'          Pull-Ups Night‑Time Training Pants 2T‑3T\n",
            "'é'          Brut Rosé\n",
            "','          Three Cheese Ziti, Marinara with Meatballs\n",
            "'”'          9” Ultra Strong Designer Paper Plates\n",
            "'è'          Crème De Menthe Baking Chips\n",
            "'ñ'          Hawaiian Sweet Jalepeño Rolls\n",
            "'–'          Signature Shredded Steak & Three–Cheese Chimichangas\n",
            "'ü'          Grüner Veltliner\n",
            "'`'          Nut Peanut A`s Salted\n",
            "'{'          Fresh Effects {Everything Off!} Deluxe Make-Up Removal Wet Cloths\n",
            "'®'          Tri-Vi-Sol® Vitamins A-C-and D Supplement Drops for Infants\n",
            "'='          Select-A-Size Paper Towels, White, 2 Huge Rolls = 5 Regular Rolls  Towels/Napkins\n",
            "'ô'          Côtes-Du-Rhône\n",
            "'+'          Totz Toothbrush Extra Soft 18+ Months\n",
            "'!'          Scooby-Doo! Fruit Flavored Snacks\n",
            "':'          The Red ONe: Squished Fruit Smoothies\n",
            "'@'          Usual Suspects Variety Ales @ Lagers\n",
            "'$'          Mini Apple Pie Pre Priced $3.99\n",
            "'\\xa0'          Southern Butter Pecan Gelato\n",
            "\"'\"          Cut Russet Potatoes Steam N' Mash\n",
            "'ç'          Gluten Free Raw Green Superfood Goji & Açai Berry Drink Powder\n",
            "';'          Reg; Organic Apple Cider Vinegar 16 Fl Oz\n"
          ],
          "name": "stdout"
        }
      ]
    },
    {
      "cell_type": "code",
      "metadata": {
        "id": "9CHhvBRg94kM"
      },
      "source": [
        "# Remove special characters from product names.\n",
        "x=products.product_name.astype(str)\\\n",
        "                    .replace({'\\xa0': '',\n",
        "                               '\\x8f': '', \n",
        "                               r'[{}]': '',\n",
        "                               r'\\*': '',\n",
        "                               r'e': 'ea',\n",
        "                               '�': '',\n",
        "                               '[-–‑]': ' ',\n",
        "                               r';': '',\n",
        "                               '=': ' equal to ',\n",
        "                               '@': 'at',\n",
        "                               '\\+': ' plus ',\n",
        "                               '[âá]': 'a',\n",
        "                               '[еéè]': 'e',\n",
        "                               'í': 'i',\n",
        "                               'ñ': 'n',\n",
        "                               '[óô]': 'o',\n",
        "                               '[üûú]': 'u',\n",
        "                               'ç': 'c',\n",
        "                               '[°˚]': ' degree ',\n",
        "                               '[®™]': '',\n",
        "                               r\"'s\": '',\n",
        "                               r'`s': '',\n",
        "                               r'´s': '',\n",
        "                               r\"'\": '',\n",
        "                               r\"’\": '',\n",
        "                               r\"”\": ' inch ',\n",
        "                               r'\\\"': ' inch ',\n",
        "                               r'\\\\': '',\n",
        "                               ':': '',\n",
        "                               '\\?': ' ',\n",
        "                               r',': '',\n",
        "                               r'%': ' percent ',\n",
        "                               r'&#':' No. ',\n",
        "                               r'#': ' No. ',\n",
        "                               r' & ': ' and ',\n",
        "                               r'&': ' and ',\n",
        "                               r'!': '',\n",
        "                               r'24/7': ' 24_7 ',\n",
        "                               r'w/': ' with ',\n",
        "                               r'/': ' ',\n",
        "                               r'\\$': ' Dollar ',\n",
        "                               'Bananas': 'Banana',\n",
        "                               'Strawberries': 'Strawberry',\n",
        "                               r'( )+': ' '},\n",
        "                              regex=True)\n",
        "x = x.str.strip()   # Removing trailing and leading whitespaces"
      ],
      "execution_count": null,
      "outputs": []
    },
    {
      "cell_type": "code",
      "metadata": {
        "colab": {
          "base_uri": "https://localhost:8080/",
          "height": 419
        },
        "id": "j9LLeKe23HW6",
        "outputId": "804956a3-a123-4ae7-e07d-52bcabece8de"
      },
      "source": [
        "products['product_name'] = x\n",
        "del x\n",
        "products"
      ],
      "execution_count": null,
      "outputs": [
        {
          "output_type": "execute_result",
          "data": {
            "text/html": [
              "<div>\n",
              "<style scoped>\n",
              "    .dataframe tbody tr th:only-of-type {\n",
              "        vertical-align: middle;\n",
              "    }\n",
              "\n",
              "    .dataframe tbody tr th {\n",
              "        vertical-align: top;\n",
              "    }\n",
              "\n",
              "    .dataframe thead th {\n",
              "        text-align: right;\n",
              "    }\n",
              "</style>\n",
              "<table border=\"1\" class=\"dataframe\">\n",
              "  <thead>\n",
              "    <tr style=\"text-align: right;\">\n",
              "      <th></th>\n",
              "      <th>product_id</th>\n",
              "      <th>product_name</th>\n",
              "      <th>aisle_id</th>\n",
              "      <th>department_id</th>\n",
              "    </tr>\n",
              "  </thead>\n",
              "  <tbody>\n",
              "    <tr>\n",
              "      <th>0</th>\n",
              "      <td>1</td>\n",
              "      <td>Chocolate Sandwich Cookies</td>\n",
              "      <td>61</td>\n",
              "      <td>19</td>\n",
              "    </tr>\n",
              "    <tr>\n",
              "      <th>1</th>\n",
              "      <td>2</td>\n",
              "      <td>All Seasons Salt</td>\n",
              "      <td>104</td>\n",
              "      <td>13</td>\n",
              "    </tr>\n",
              "    <tr>\n",
              "      <th>2</th>\n",
              "      <td>3</td>\n",
              "      <td>Robust Golden Unsweetened Oolong Tea</td>\n",
              "      <td>94</td>\n",
              "      <td>7</td>\n",
              "    </tr>\n",
              "    <tr>\n",
              "      <th>3</th>\n",
              "      <td>4</td>\n",
              "      <td>Smart Ones Classic Favorites Mini Rigatoni Wit...</td>\n",
              "      <td>38</td>\n",
              "      <td>1</td>\n",
              "    </tr>\n",
              "    <tr>\n",
              "      <th>4</th>\n",
              "      <td>5</td>\n",
              "      <td>Green Chile Anytime Sauce</td>\n",
              "      <td>5</td>\n",
              "      <td>13</td>\n",
              "    </tr>\n",
              "    <tr>\n",
              "      <th>...</th>\n",
              "      <td>...</td>\n",
              "      <td>...</td>\n",
              "      <td>...</td>\n",
              "      <td>...</td>\n",
              "    </tr>\n",
              "    <tr>\n",
              "      <th>49683</th>\n",
              "      <td>49684</td>\n",
              "      <td>Vodka Triple Distilled Twist of Vanilla</td>\n",
              "      <td>124</td>\n",
              "      <td>5</td>\n",
              "    </tr>\n",
              "    <tr>\n",
              "      <th>49684</th>\n",
              "      <td>49685</td>\n",
              "      <td>En Croute Roast Hazelnut Cranberry</td>\n",
              "      <td>42</td>\n",
              "      <td>1</td>\n",
              "    </tr>\n",
              "    <tr>\n",
              "      <th>49685</th>\n",
              "      <td>49686</td>\n",
              "      <td>Artisan Baguette</td>\n",
              "      <td>112</td>\n",
              "      <td>3</td>\n",
              "    </tr>\n",
              "    <tr>\n",
              "      <th>49686</th>\n",
              "      <td>49687</td>\n",
              "      <td>Smartblend Healthy Metabolism Dry Cat Food</td>\n",
              "      <td>41</td>\n",
              "      <td>8</td>\n",
              "    </tr>\n",
              "    <tr>\n",
              "      <th>49687</th>\n",
              "      <td>49688</td>\n",
              "      <td>Fresh Foaming Cleanser</td>\n",
              "      <td>73</td>\n",
              "      <td>11</td>\n",
              "    </tr>\n",
              "  </tbody>\n",
              "</table>\n",
              "<p>49688 rows × 4 columns</p>\n",
              "</div>"
            ],
            "text/plain": [
              "       product_id  ... department_id\n",
              "0               1  ...            19\n",
              "1               2  ...            13\n",
              "2               3  ...             7\n",
              "3               4  ...             1\n",
              "4               5  ...            13\n",
              "...           ...  ...           ...\n",
              "49683       49684  ...             5\n",
              "49684       49685  ...             1\n",
              "49685       49686  ...             3\n",
              "49686       49687  ...             8\n",
              "49687       49688  ...            11\n",
              "\n",
              "[49688 rows x 4 columns]"
            ]
          },
          "metadata": {
            "tags": []
          },
          "execution_count": 10
        }
      ]
    },
    {
      "cell_type": "markdown",
      "metadata": {
        "id": "UEBE0NhRl__W"
      },
      "source": [
        "\"^a-zA-Z0-9:@$&,%!?.âáеéèíñóôüûúç°˚®™´'’”=+/()#\\\"\\-–‑ �\\\\\\;{}`*\\xa0\\x8f\"\n",
        "- All unnecessary characters have been removed."
      ]
    },
    {
      "cell_type": "code",
      "metadata": {
        "colab": {
          "base_uri": "https://localhost:8080/"
        },
        "id": "v-uqyPFKh48d",
        "outputId": "f6841cbd-f521-436b-fc42-25ed8a5ddda2"
      },
      "source": [
        "print('                orders table')\n",
        "print('         Column              Is there any garbage value?')\n",
        "print('-----------------------      ---------------------------')\n",
        "sep='          ' \n",
        "print('               order_id',orders.order_id.astype('str').str.contains('[^0-9]').any(),sep=sep)\n",
        "print('                user_id',orders.user_id.astype('str').str.contains('[^0-9]').any(),sep=sep)\n",
        "print('               eval_set',orders.eval_set.astype('str').str.contains('[^\\b(prior|train|test)\\b]').any(),sep=sep)\n",
        "print('           order_number',orders.order_number.astype('str').str.contains('[^0-9]').any(),sep=sep)\n",
        "print('              order_dow',not(orders.order_dow.between(0,6).any()),sep=sep)\n",
        "print('      order_hour_of_day',not(orders.order_hour_of_day.between(0,23).any()),sep=sep)\n",
        "print(' days_since_prior_order',not(orders.days_since_prior_order.between(0,30).any()),sep=sep)"
      ],
      "execution_count": null,
      "outputs": [
        {
          "output_type": "stream",
          "text": [
            "                orders table\n",
            "         Column              Is there any garbage value?\n",
            "-----------------------      ---------------------------\n",
            "               order_id          False\n",
            "                user_id          False\n",
            "               eval_set          False\n",
            "           order_number          False\n",
            "              order_dow          False\n",
            "      order_hour_of_day          False\n",
            " days_since_prior_order          False\n"
          ],
          "name": "stdout"
        }
      ]
    },
    {
      "cell_type": "code",
      "metadata": {
        "colab": {
          "base_uri": "https://localhost:8080/"
        },
        "id": "yzj-D5ib0yzd",
        "outputId": "8d6ca90a-1da8-495a-93be-650e36906c60"
      },
      "source": [
        "print('       order_products_prior table')\n",
        "print('      Column          Is there any garbage value?')\n",
        "print('-----------------     ---------------------------')\n",
        "sep='          ' \n",
        "print('         order_id',order_products_prior.order_id.astype('str').str.contains('[^0-9]').any(),sep=sep)\n",
        "print('       product_id',order_products_prior.product_id.astype('str').str.contains('[^0-9]').any(),sep=sep)\n",
        "print('add_to_cart_order',order_products_prior.add_to_cart_order.astype('str').str.contains('[^0-9]').any(),sep=sep)\n",
        "print('        reordered',not(order_products_prior.reordered.astype('uint8').between(0,1).any()),sep=sep)"
      ],
      "execution_count": null,
      "outputs": [
        {
          "output_type": "stream",
          "text": [
            "       order_products_prior table\n",
            "      Column          Is there any garbage value?\n",
            "-----------------     ---------------------------\n",
            "         order_id          False\n",
            "       product_id          False\n",
            "add_to_cart_order          False\n",
            "        reordered          False\n"
          ],
          "name": "stdout"
        }
      ]
    },
    {
      "cell_type": "code",
      "metadata": {
        "colab": {
          "base_uri": "https://localhost:8080/"
        },
        "id": "NmTqGXTi09GK",
        "outputId": "7fc78501-7435-4667-b754-21b5eca9ded3"
      },
      "source": [
        "print('       order_products_train table')\n",
        "print('      Column           Is there any garbage value?')\n",
        "print('-----------------      ---------------------------')\n",
        "sep='          ' \n",
        "print('         order_id',order_products_train.order_id.astype('str').str.contains('[^0-9]').any(),sep=sep)\n",
        "print('       product_id',order_products_train.product_id.astype('str').str.contains('[^0-9]').any(),sep=sep)\n",
        "print('add_to_cart_order',order_products_train.add_to_cart_order.astype('str').str.contains('[^0-9]').any(),sep=sep)\n",
        "print('        reordered',not(order_products_train.reordered.astype('uint8').between(0,1).any()),sep=sep)"
      ],
      "execution_count": null,
      "outputs": [
        {
          "output_type": "stream",
          "text": [
            "       order_products_train table\n",
            "      Column           Is there any garbage value?\n",
            "-----------------      ---------------------------\n",
            "         order_id          False\n",
            "       product_id          False\n",
            "add_to_cart_order          False\n",
            "        reordered          False\n"
          ],
          "name": "stdout"
        }
      ]
    },
    {
      "cell_type": "markdown",
      "metadata": {
        "id": "liRr6lPAY7SG"
      },
      "source": [
        "\n",
        "\n",
        "---\n",
        "\n"
      ]
    }
  ]
}